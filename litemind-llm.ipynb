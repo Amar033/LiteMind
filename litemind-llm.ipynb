{
 "cells": [
  {
   "cell_type": "markdown",
   "metadata": {},
   "source": [
    "Loading and reading in text data"
   ]
  },
  {
   "cell_type": "markdown",
   "metadata": {},
   "source": [
    "### Creating Tokens"
   ]
  },
  {
   "cell_type": "code",
   "execution_count": 2,
   "metadata": {},
   "outputs": [
    {
     "name": "stdout",
     "output_type": "stream",
     "text": [
      "Total number of characters: 20479\n",
      "I HAD always thought Jack Gisburn rather a cheap genius--though a good fellow enough--so it was no \n"
     ]
    }
   ],
   "source": [
    "with open (\"the-verdict.txt\",'r',encoding=\"utf-8\") as f :\n",
    "    raw_text=f.read()\n",
    "print(\"Total number of characters:\",len(raw_text))\n",
    "print(raw_text[:99])"
   ]
  },
  {
   "cell_type": "code",
   "execution_count": 3,
   "metadata": {},
   "outputs": [
    {
     "name": "stdout",
     "output_type": "stream",
     "text": [
      "['Hello,', ' ', 'world.', ' ', 'This,', ' ', 'is', ' ', 'a', ' ', 'test.']\n"
     ]
    }
   ],
   "source": [
    "import re\n",
    "text = \"Hello, world. This, is a test.\"\n",
    "result = re.split(r'(\\s)', text)\n",
    "\n",
    "print(result)\n"
   ]
  },
  {
   "cell_type": "code",
   "execution_count": 4,
   "metadata": {},
   "outputs": [
    {
     "name": "stdout",
     "output_type": "stream",
     "text": [
      "['Hello', ',', '', ' ', 'world', '.', '', ' ', 'This', ',', '', ' ', 'is', ' ', 'a', ' ', 'test', '.', '']\n"
     ]
    }
   ],
   "source": [
    "\n",
    "\n",
    "result = re.split(r'([,.]|\\s)', text)\n",
    "\n",
    "print(result)\n",
    "\n"
   ]
  },
  {
   "cell_type": "code",
   "execution_count": 5,
   "metadata": {},
   "outputs": [
    {
     "name": "stdout",
     "output_type": "stream",
     "text": [
      "['Hello', ',', 'world', '.', 'This', ',', 'is', 'a', 'test', '.']\n"
     ]
    }
   ],
   "source": [
    "result = [item for item in result if item.strip()]\n",
    "print(result)"
   ]
  },
  {
   "cell_type": "code",
   "execution_count": 6,
   "metadata": {},
   "outputs": [
    {
     "name": "stdout",
     "output_type": "stream",
     "text": [
      "['Hello', ',', 'world', '.', 'Is', 'this', '--', 'a', 'test', '?']\n"
     ]
    }
   ],
   "source": [
    "text = \"Hello, world. Is this-- a test?\"\n",
    "\n",
    "result = re.split(r'([,.:;?_!\"()\\']|--|\\s)', text)\n",
    "result = [item.strip() for item in result if item.strip()]\n",
    "print(result)\n"
   ]
  },
  {
   "cell_type": "code",
   "execution_count": 7,
   "metadata": {},
   "outputs": [
    {
     "name": "stdout",
     "output_type": "stream",
     "text": [
      "['I', 'HAD', 'always', 'thought', 'Jack', 'Gisburn', 'rather', 'a', 'cheap', 'genius', '--', 'though', 'a', 'good', 'fellow', 'enough', '--', 'so', 'it', 'was', 'no', 'great', 'surprise', 'to', 'me', 'to', 'hear', 'that', ',', 'in']\n"
     ]
    }
   ],
   "source": [
    "\n",
    "\n",
    "preprocessed = re.split(r'([,.:;?_!\"()\\']|--|\\s)', raw_text)\n",
    "preprocessed = [item.strip() for item in preprocessed if item.strip()]\n",
    "print(preprocessed[:30])\n",
    "\n"
   ]
  },
  {
   "cell_type": "code",
   "execution_count": 8,
   "metadata": {},
   "outputs": [
    {
     "name": "stdout",
     "output_type": "stream",
     "text": [
      "4690\n"
     ]
    }
   ],
   "source": [
    "print(len(preprocessed))"
   ]
  },
  {
   "cell_type": "code",
   "execution_count": 9,
   "metadata": {},
   "outputs": [
    {
     "name": "stdout",
     "output_type": "stream",
     "text": [
      "1130\n"
     ]
    }
   ],
   "source": [
    "all_words = sorted(set(preprocessed))\n",
    "vocab_size = len(all_words)\n",
    "\n",
    "print(vocab_size)\n"
   ]
  },
  {
   "cell_type": "code",
   "execution_count": 10,
   "metadata": {},
   "outputs": [],
   "source": [
    "vocab = {token:integer for integer,token in enumerate(all_words)}\n"
   ]
  },
  {
   "cell_type": "code",
   "execution_count": 11,
   "metadata": {},
   "outputs": [
    {
     "name": "stdout",
     "output_type": "stream",
     "text": [
      "('!', 0)\n",
      "('\"', 1)\n",
      "(\"'\", 2)\n",
      "('(', 3)\n",
      "(')', 4)\n",
      "(',', 5)\n",
      "('--', 6)\n",
      "('.', 7)\n",
      "(':', 8)\n",
      "(';', 9)\n",
      "('?', 10)\n",
      "('A', 11)\n",
      "('Ah', 12)\n",
      "('Among', 13)\n",
      "('And', 14)\n",
      "('Are', 15)\n",
      "('Arrt', 16)\n",
      "('As', 17)\n",
      "('At', 18)\n",
      "('Be', 19)\n",
      "('Begin', 20)\n",
      "('Burlington', 21)\n",
      "('But', 22)\n",
      "('By', 23)\n",
      "('Carlo', 24)\n",
      "('Chicago', 25)\n",
      "('Claude', 26)\n",
      "('Come', 27)\n",
      "('Croft', 28)\n",
      "('Destroyed', 29)\n",
      "('Devonshire', 30)\n",
      "('Don', 31)\n",
      "('Dubarry', 32)\n",
      "('Emperors', 33)\n",
      "('Florence', 34)\n",
      "('For', 35)\n",
      "('Gallery', 36)\n",
      "('Gideon', 37)\n",
      "('Gisburn', 38)\n",
      "('Gisburns', 39)\n",
      "('Grafton', 40)\n",
      "('Greek', 41)\n",
      "('Grindle', 42)\n",
      "('Grindles', 43)\n",
      "('HAD', 44)\n",
      "('Had', 45)\n",
      "('Hang', 46)\n",
      "('Has', 47)\n",
      "('He', 48)\n",
      "('Her', 49)\n",
      "('Hermia', 50)\n"
     ]
    }
   ],
   "source": [
    "for i, item in enumerate(vocab.items()):\n",
    "    print(item)\n",
    "    if i >= 50:\n",
    "        break\n"
   ]
  },
  {
   "cell_type": "code",
   "execution_count": 12,
   "metadata": {},
   "outputs": [],
   "source": [
    "class SimpleTokenizerV1:\n",
    "    def __init__(self,vocab):\n",
    "        self.str_to_int=vocab\n",
    "        self.int_to_str={i:s for s,i in vocab.items()}\n",
    "    def encode(self,text):\n",
    "        preprocessed= re.split(r'(,.:;?!\"()\\']|--|\\s)',text)\n",
    "        preprocessed=[item.strip() for item in preprocessed if item.strip()]\n",
    "        ids=[self.str_to_int[s] for s in preprocessed]\n",
    "        return ids\n",
    "    def decode(self,ids):\n",
    "        text=\" \".join([self.int_to_str[i] for i in ids])\n",
    "        text=re.sub(r'\\s+([,.?!\"()\\'])',r'\\1',text)\n",
    "        return text"
   ]
  },
  {
   "cell_type": "code",
   "execution_count": 13,
   "metadata": {},
   "outputs": [],
   "source": [
    "class SimpleTokenizerV2:\n",
    "    def __init__(self,vocab):\n",
    "        self.str_to_int=vocab\n",
    "        self.int_to_str={i:s for s,i in vocab.items()}\n",
    "    def encode(self,text):\n",
    "        preprocessed = re.split(r'([,.:;?_!\"()\\']|--|\\s)', text)\n",
    "\n",
    "        preprocessed=[item.strip() for item in preprocessed if item.strip()]\n",
    "        preprocessed=[\n",
    "            item if item in self.str_to_int \n",
    "            else \"<|unk|>\" for item in preprocessed\n",
    "        ]\n",
    "        ids=[self.str_to_int[s] for s in preprocessed]\n",
    "        return ids\n",
    "    def decode(self,ids):\n",
    "        text=\" \".join([self.int_to_str[i] for i in ids])\n",
    "        text=re.sub(r'\\s+([,.?!\"()\\'])',r'\\1',text)\n",
    "        return text "
   ]
  },
  {
   "cell_type": "code",
   "execution_count": 14,
   "metadata": {},
   "outputs": [
    {
     "ename": "KeyError",
     "evalue": "'<|unk|>'",
     "output_type": "error",
     "traceback": [
      "\u001b[31m---------------------------------------------------------------------------\u001b[39m",
      "\u001b[31mKeyError\u001b[39m                                  Traceback (most recent call last)",
      "\u001b[36mCell\u001b[39m\u001b[36m \u001b[39m\u001b[32mIn[14]\u001b[39m\u001b[32m, line 3\u001b[39m\n\u001b[32m      1\u001b[39m tokenizer= SimpleTokenizerV2(vocab)\n\u001b[32m      2\u001b[39m text=\u001b[33m\"\u001b[39m\u001b[33mHello It\u001b[39m\u001b[33m'\u001b[39m\u001b[33ms the last time I am going to see you\u001b[39m\u001b[33m\"\u001b[39m\n\u001b[32m----> \u001b[39m\u001b[32m3\u001b[39m ids=\u001b[43mtokenizer\u001b[49m\u001b[43m.\u001b[49m\u001b[43mencode\u001b[49m\u001b[43m(\u001b[49m\u001b[43mtext\u001b[49m\u001b[43m)\u001b[49m\n\u001b[32m      4\u001b[39m \u001b[38;5;28mprint\u001b[39m(ids)\n",
      "\u001b[36mCell\u001b[39m\u001b[36m \u001b[39m\u001b[32mIn[13]\u001b[39m\u001b[32m, line 13\u001b[39m, in \u001b[36mSimpleTokenizerV2.encode\u001b[39m\u001b[34m(self, text)\u001b[39m\n\u001b[32m      8\u001b[39m preprocessed=[item.strip() \u001b[38;5;28;01mfor\u001b[39;00m item \u001b[38;5;129;01min\u001b[39;00m preprocessed \u001b[38;5;28;01mif\u001b[39;00m item.strip()]\n\u001b[32m      9\u001b[39m preprocessed=[\n\u001b[32m     10\u001b[39m     item \u001b[38;5;28;01mif\u001b[39;00m item \u001b[38;5;129;01min\u001b[39;00m \u001b[38;5;28mself\u001b[39m.str_to_int \n\u001b[32m     11\u001b[39m     \u001b[38;5;28;01melse\u001b[39;00m \u001b[33m\"\u001b[39m\u001b[33m<|unk|>\u001b[39m\u001b[33m\"\u001b[39m \u001b[38;5;28;01mfor\u001b[39;00m item \u001b[38;5;129;01min\u001b[39;00m preprocessed\n\u001b[32m     12\u001b[39m ]\n\u001b[32m---> \u001b[39m\u001b[32m13\u001b[39m ids=[\u001b[38;5;28;43mself\u001b[39;49m\u001b[43m.\u001b[49m\u001b[43mstr_to_int\u001b[49m\u001b[43m[\u001b[49m\u001b[43ms\u001b[49m\u001b[43m]\u001b[49m \u001b[38;5;28;01mfor\u001b[39;00m s \u001b[38;5;129;01min\u001b[39;00m preprocessed]\n\u001b[32m     14\u001b[39m \u001b[38;5;28;01mreturn\u001b[39;00m ids\n",
      "\u001b[31mKeyError\u001b[39m: '<|unk|>'"
     ]
    }
   ],
   "source": [
    "tokenizer= SimpleTokenizerV2(vocab)\n",
    "text=\"Hello It's the last time I am going to see you\"\n",
    "ids=tokenizer.encode(text)\n",
    "print(ids)"
   ]
  },
  {
   "cell_type": "code",
   "execution_count": 15,
   "metadata": {},
   "outputs": [
    {
     "ename": "NameError",
     "evalue": "name 'ids' is not defined",
     "output_type": "error",
     "traceback": [
      "\u001b[31m---------------------------------------------------------------------------\u001b[39m",
      "\u001b[31mNameError\u001b[39m                                 Traceback (most recent call last)",
      "\u001b[36mCell\u001b[39m\u001b[36m \u001b[39m\u001b[32mIn[15]\u001b[39m\u001b[32m, line 1\u001b[39m\n\u001b[32m----> \u001b[39m\u001b[32m1\u001b[39m tokenizer.decode(\u001b[43mids\u001b[49m)\n",
      "\u001b[31mNameError\u001b[39m: name 'ids' is not defined"
     ]
    }
   ],
   "source": [
    "tokenizer.decode(ids)"
   ]
  },
  {
   "cell_type": "code",
   "execution_count": 16,
   "metadata": {},
   "outputs": [],
   "source": [
    "all_tokens = sorted(list(set(preprocessed)))\n",
    "all_tokens.extend([\"<|endoftext|>\", \"<|unk|>\"])\n",
    "\n",
    "vocab = {token:integer for integer,token in enumerate(all_tokens)}\n"
   ]
  },
  {
   "cell_type": "markdown",
   "metadata": {},
   "source": [
    "## Bytepair Encoding simillar to Gpt-2"
   ]
  },
  {
   "cell_type": "code",
   "execution_count": 19,
   "metadata": {},
   "outputs": [
    {
     "name": "stdout",
     "output_type": "stream",
     "text": [
      "Collecting tiktoken\n",
      "  Using cached tiktoken-0.9.0-cp312-cp312-manylinux_2_17_x86_64.manylinux2014_x86_64.whl.metadata (6.7 kB)\n",
      "Requirement already satisfied: regex>=2022.1.18 in ./venv/lib/python3.12/site-packages (from tiktoken) (2024.11.6)\n",
      "Requirement already satisfied: requests>=2.26.0 in ./venv/lib/python3.12/site-packages (from tiktoken) (2.32.4)\n",
      "Requirement already satisfied: charset_normalizer<4,>=2 in ./venv/lib/python3.12/site-packages (from requests>=2.26.0->tiktoken) (3.4.2)\n",
      "Requirement already satisfied: idna<4,>=2.5 in ./venv/lib/python3.12/site-packages (from requests>=2.26.0->tiktoken) (3.10)\n",
      "Requirement already satisfied: urllib3<3,>=1.21.1 in ./venv/lib/python3.12/site-packages (from requests>=2.26.0->tiktoken) (2.5.0)\n",
      "Requirement already satisfied: certifi>=2017.4.17 in ./venv/lib/python3.12/site-packages (from requests>=2.26.0->tiktoken) (2025.7.14)\n",
      "Using cached tiktoken-0.9.0-cp312-cp312-manylinux_2_17_x86_64.manylinux2014_x86_64.whl (1.2 MB)\n",
      "Installing collected packages: tiktoken\n",
      "Successfully installed tiktoken-0.9.0\n",
      "Note: you may need to restart the kernel to use updated packages.\n"
     ]
    }
   ],
   "source": [
    "pip install tiktoken"
   ]
  },
  {
   "cell_type": "code",
   "execution_count": 20,
   "metadata": {},
   "outputs": [],
   "source": [
    "import tiktoken"
   ]
  },
  {
   "cell_type": "code",
   "execution_count": 21,
   "metadata": {},
   "outputs": [
    {
     "name": "stdout",
     "output_type": "stream",
     "text": [
      "[17250, 23748, 703, 389, 345, 30, 220, 50256, 383, 995, 318, 257, 4950, 1295]\n"
     ]
    }
   ],
   "source": [
    "tokenizer=tiktoken.get_encoding(\"gpt2\")\n",
    "text=\"Hi hello how are you? <|endoftext|> The world is a beautiful place\"\n",
    "integers=tokenizer.encode(text,allowed_special={\"<|endoftext|>\"})\n",
    "print(integers)"
   ]
  },
  {
   "cell_type": "code",
   "execution_count": 22,
   "metadata": {},
   "outputs": [
    {
     "name": "stdout",
     "output_type": "stream",
     "text": [
      "Hi hello how are you? <|endoftext|> The world is a beautiful place\n"
     ]
    }
   ],
   "source": [
    "string=tokenizer.decode(integers)\n",
    "print(string)"
   ]
  },
  {
   "cell_type": "markdown",
   "metadata": {},
   "source": [
    "### Create input output pairs"
   ]
  },
  {
   "cell_type": "code",
   "execution_count": 23,
   "metadata": {},
   "outputs": [
    {
     "name": "stdout",
     "output_type": "stream",
     "text": [
      "5145\n"
     ]
    }
   ],
   "source": [
    "with open(\"the-verdict.txt\", \"r\", encoding=\"utf-8\") as f:\n",
    "    raw_text = f.read()\n",
    "\n",
    "enc_text = tokenizer.encode(raw_text)\n",
    "print(len(enc_text))\n",
    "\n"
   ]
  },
  {
   "cell_type": "code",
   "execution_count": 24,
   "metadata": {},
   "outputs": [],
   "source": [
    "enc_sample = enc_text[50:]"
   ]
  },
  {
   "cell_type": "code",
   "execution_count": 25,
   "metadata": {},
   "outputs": [
    {
     "name": "stdout",
     "output_type": "stream",
     "text": [
      "x: [290, 4920, 2241, 287]\n",
      "y:      [4920, 2241, 287, 257]\n"
     ]
    }
   ],
   "source": [
    "context_size = 4\n",
    "#length of the input\n",
    "# model looks at the 4 words and then predict the next word\n",
    "\n",
    "x = enc_sample[:context_size]\n",
    "y = enc_sample[1:context_size+1]\n",
    "\n",
    "print(f\"x: {x}\")\n",
    "print(f\"y:      {y}\")"
   ]
  },
  {
   "cell_type": "code",
   "execution_count": 26,
   "metadata": {},
   "outputs": [
    {
     "name": "stdout",
     "output_type": "stream",
     "text": [
      "[290] ----> 4920\n",
      "[290, 4920] ----> 2241\n",
      "[290, 4920, 2241] ----> 287\n",
      "[290, 4920, 2241, 287] ----> 257\n"
     ]
    }
   ],
   "source": [
    "for  i in range(1,context_size+1):\n",
    "    context=enc_sample[:i]\n",
    "    desired=enc_sample[i]\n",
    "    print(context,\"---->\",desired)"
   ]
  },
  {
   "cell_type": "code",
   "execution_count": 27,
   "metadata": {},
   "outputs": [
    {
     "name": "stdout",
     "output_type": "stream",
     "text": [
      " and ---->  established\n",
      " and established ---->  himself\n",
      " and established himself ---->  in\n",
      " and established himself in ---->  a\n"
     ]
    }
   ],
   "source": [
    "for  i in range(1,context_size+1):\n",
    "    context=enc_sample[:i]\n",
    "    desired=enc_sample[i]\n",
    "    print(tokenizer.decode(context),\"---->\",tokenizer.decode([desired]))"
   ]
  },
  {
   "cell_type": "markdown",
   "metadata": {},
   "source": [
    "### Implementing a data loader"
   ]
  },
  {
   "cell_type": "code",
   "execution_count": 28,
   "metadata": {},
   "outputs": [],
   "source": [
    "import torch "
   ]
  },
  {
   "cell_type": "code",
   "execution_count": 29,
   "metadata": {},
   "outputs": [],
   "source": [
    "from torch.utils.data import Dataset,DataLoader\n",
    "class GPTDatasetV1(Dataset):\n",
    "    def __init__(self,txt,tokenizer,max_length,stride):\n",
    "        self.input_ids=[] #input chunk \n",
    "        self.target_ids=[] #output chunk \n",
    "\n",
    "        token_ids=tokenizer.encode(txt,allowed_special={\"<|endoftext|>\"})\n",
    "        assert len(token_ids)>max_length,\"Number of token_ids must be atleast equal to max_length + 1\"\n",
    "        #sliding window \n",
    "        for i in range(0,len(token_ids)-max_length,stride): \n",
    "            input_chunk=token_ids[i:i+max_length]\n",
    "            output_chunk=token_ids[i+1:i+max_length+1]\n",
    "            self.input_ids.append(torch.tensor(input_chunk))\n",
    "            self.target_ids.append(torch.tensor(output_chunk))\n",
    "    def __len__(self):\n",
    "        return len(self.input_ids)\n",
    "    def __getitem__(self,idx):\n",
    "        return self.input_ids[idx], self.target_ids[idx] #mapping dataset map each input to corresponding output"
   ]
  },
  {
   "cell_type": "code",
   "execution_count": 30,
   "metadata": {},
   "outputs": [],
   "source": [
    "def create_dataloader_v1(txt,batch_size=4,  #batch_size=4 no of elements in a training batch , stride=128 means the amount of movement of the window\n",
    "            max_length=256,stride=128,shuffle=True,drop_last=True,num_workers=0): # drop last is done so that the last batch of the training set may be ignored as if the batch size< 4 causes problem num_workers is the number of cpu threads that can be run simultaneously\n",
    "            tokenizer=tiktoken.get_encoding(\"gpt2\") #tokenizer initiated\n",
    "            dataset=GPTDatasetV1(txt,tokenizer,max_length,stride) #dataset made\n",
    "            dataloader= DataLoader( #create dataloader\n",
    "                dataset,\n",
    "                batch_size=batch_size,\n",
    "                shuffle=shuffle,\n",
    "                drop_last=drop_last,   #this dataloaderV1 and then from getitems it gives out a input output\n",
    "                num_workers=num_workers\n",
    "            )\n",
    "            return dataloader\n",
    "\n",
    "             "
   ]
  },
  {
   "cell_type": "markdown",
   "metadata": {},
   "source": [
    "testing the dataloader"
   ]
  },
  {
   "cell_type": "code",
   "execution_count": 31,
   "metadata": {},
   "outputs": [],
   "source": [
    "with open(\"the-verdict.txt\",\"r\",encoding=\"utf_8\") as f:\n",
    "    raw_text=f.read()"
   ]
  },
  {
   "cell_type": "code",
   "execution_count": 32,
   "metadata": {},
   "outputs": [
    {
     "name": "stdout",
     "output_type": "stream",
     "text": [
      "[tensor([[  40,  367, 2885, 1464]]), tensor([[ 367, 2885, 1464, 1807]])]\n"
     ]
    }
   ],
   "source": [
    "import tiktoken\n",
    "dataloader=create_dataloader_v1(\n",
    "    raw_text,batch_size=1,max_length=4,stride=1,shuffle=False\n",
    ")\n",
    "data_iter=iter(dataloader)\n",
    "first_batch=next(data_iter)\n",
    "print(first_batch)"
   ]
  },
  {
   "cell_type": "code",
   "execution_count": 33,
   "metadata": {},
   "outputs": [
    {
     "name": "stdout",
     "output_type": "stream",
     "text": [
      "[tensor([[ 367, 2885, 1464, 1807]]), tensor([[2885, 1464, 1807, 3619]])]\n"
     ]
    }
   ],
   "source": [
    "second_batch=next(data_iter)\n",
    "print(second_batch)"
   ]
  },
  {
   "cell_type": "code",
   "execution_count": 34,
   "metadata": {},
   "outputs": [
    {
     "name": "stdout",
     "output_type": "stream",
     "text": [
      "Inputs:\n",
      " tensor([[   40,   367,  2885,  1464],\n",
      "        [ 1807,  3619,   402,   271],\n",
      "        [10899,  2138,   257,  7026],\n",
      "        [15632,   438,  2016,   257],\n",
      "        [  922,  5891,  1576,   438],\n",
      "        [  568,   340,   373,   645],\n",
      "        [ 1049,  5975,   284,   502],\n",
      "        [  284,  3285,   326,    11]])\n",
      "Targets:\n",
      " tensor([[  367,  2885,  1464,  1807],\n",
      "        [ 3619,   402,   271, 10899],\n",
      "        [ 2138,   257,  7026, 15632],\n",
      "        [  438,  2016,   257,   922],\n",
      "        [ 5891,  1576,   438,   568],\n",
      "        [  340,   373,   645,  1049],\n",
      "        [ 5975,   284,   502,   284],\n",
      "        [ 3285,   326,    11,   287]])\n"
     ]
    }
   ],
   "source": [
    "dataloader=create_dataloader_v1(raw_text,batch_size=8,max_length=4,stride=4,shuffle=False)\n",
    "data_iter=iter(dataloader)\n",
    "inputs,targets=next(data_iter)\n",
    "print(\"Inputs:\\n\",inputs)\n",
    "print(\"Targets:\\n\",targets)\n",
    "# each of the tensor contains 4 tokens since the max_length is also 4"
   ]
  },
  {
   "cell_type": "markdown",
   "metadata": {},
   "source": [
    "### Token embeddings"
   ]
  },
  {
   "cell_type": "code",
   "execution_count": 35,
   "metadata": {},
   "outputs": [],
   "source": [
    "input_ids = torch.tensor([2, 3, 5, 1]) #consider they are token ids "
   ]
  },
  {
   "cell_type": "code",
   "execution_count": 36,
   "metadata": {},
   "outputs": [],
   "source": [
    "vocab_size = 6\n",
    "output_dim = 3\n",
    "\n",
    "torch.manual_seed(123) #generate random in any device\n",
    "embedding_layer = torch.nn.Embedding(vocab_size, output_dim) #embedding layer of 6*3"
   ]
  },
  {
   "cell_type": "code",
   "execution_count": 37,
   "metadata": {},
   "outputs": [
    {
     "name": "stdout",
     "output_type": "stream",
     "text": [
      "Parameter containing:\n",
      "tensor([[ 0.3374, -0.1778, -0.1690],\n",
      "        [ 0.9178,  1.5810,  1.3010],\n",
      "        [ 1.2753, -0.2010, -0.1606],\n",
      "        [-0.4015,  0.9666, -1.1481],\n",
      "        [-1.1589,  0.3255, -0.6315],\n",
      "        [-2.8400, -0.7849, -1.4096]], requires_grad=True)\n"
     ]
    }
   ],
   "source": [
    "print(embedding_layer.weight) #embedding layer is an efficient way to implement one hot encoding"
   ]
  },
  {
   "cell_type": "code",
   "execution_count": 38,
   "metadata": {},
   "outputs": [
    {
     "name": "stdout",
     "output_type": "stream",
     "text": [
      "tensor([[-0.4015,  0.9666, -1.1481]], grad_fn=<EmbeddingBackward0>)\n"
     ]
    }
   ],
   "source": [
    "print(embedding_layer(torch.tensor([3]))) #convert token id 3 into a vector of 3 dimension and print it "
   ]
  },
  {
   "cell_type": "code",
   "execution_count": 39,
   "metadata": {},
   "outputs": [
    {
     "name": "stdout",
     "output_type": "stream",
     "text": [
      "tensor([[ 1.2753, -0.2010, -0.1606],\n",
      "        [-0.4015,  0.9666, -1.1481],\n",
      "        [-2.8400, -0.7849, -1.4096],\n",
      "        [ 0.9178,  1.5810,  1.3010]], grad_fn=<EmbeddingBackward0>)\n"
     ]
    }
   ],
   "source": [
    "print(embedding_layer(input_ids))"
   ]
  },
  {
   "cell_type": "markdown",
   "metadata": {},
   "source": [
    "### Positional Encoding"
   ]
  },
  {
   "cell_type": "code",
   "execution_count": 40,
   "metadata": {},
   "outputs": [],
   "source": [
    "vocab_size = 50257\n",
    "output_dim = 256\n",
    "\n",
    "token_embedding_layer = torch.nn.Embedding(vocab_size, output_dim)\n"
   ]
  },
  {
   "cell_type": "code",
   "execution_count": 41,
   "metadata": {},
   "outputs": [],
   "source": [
    "\n",
    "\n",
    "max_length = 4\n",
    "dataloader = create_dataloader_v1(\n",
    "    raw_text, batch_size=8, max_length=max_length,\n",
    "    stride=max_length, shuffle=False\n",
    ")\n",
    "data_iter = iter(dataloader)\n",
    "inputs, targets = next(data_iter)\n",
    "\n"
   ]
  },
  {
   "cell_type": "code",
   "execution_count": 42,
   "metadata": {},
   "outputs": [
    {
     "name": "stdout",
     "output_type": "stream",
     "text": [
      "Token IDs:\n",
      " tensor([[   40,   367,  2885,  1464],\n",
      "        [ 1807,  3619,   402,   271],\n",
      "        [10899,  2138,   257,  7026],\n",
      "        [15632,   438,  2016,   257],\n",
      "        [  922,  5891,  1576,   438],\n",
      "        [  568,   340,   373,   645],\n",
      "        [ 1049,  5975,   284,   502],\n",
      "        [  284,  3285,   326,    11]])\n",
      "\n",
      "Inputs shape:\n",
      " torch.Size([8, 4])\n"
     ]
    }
   ],
   "source": [
    "print(\"Token IDs:\\n\", inputs)\n",
    "print(\"\\nInputs shape:\\n\", inputs.shape)\n"
   ]
  },
  {
   "cell_type": "code",
   "execution_count": 43,
   "metadata": {},
   "outputs": [
    {
     "name": "stdout",
     "output_type": "stream",
     "text": [
      "torch.Size([8, 4, 256])\n"
     ]
    }
   ],
   "source": [
    "token_embedding=token_embedding_layer(inputs)\n",
    "# print(token_embedding) # 50257 *256 50257 tokens and 256 dimensions\n",
    "print(token_embedding.shape)"
   ]
  },
  {
   "cell_type": "code",
   "execution_count": 44,
   "metadata": {},
   "outputs": [
    {
     "name": "stdout",
     "output_type": "stream",
     "text": [
      "Parameter containing:\n",
      "tensor([[ 1.7375, -0.5620, -0.6303,  ..., -0.2277,  1.5748,  1.0345],\n",
      "        [ 1.6423, -0.7201,  0.2062,  ...,  0.4118,  0.1498, -0.4628],\n",
      "        [-0.4651, -0.7757,  0.5806,  ...,  1.4335, -0.4963,  0.8579],\n",
      "        [-0.6754, -0.4628,  1.4323,  ...,  0.8139, -0.7088,  0.4827]],\n",
      "       requires_grad=True)\n"
     ]
    }
   ],
   "source": [
    "context_length = max_length #another embedding layer because gpt 2 uses position embeddings\n",
    "pos_embedding_layer = torch.nn.Embedding(context_length, output_dim)\n",
    "print(pos_embedding_layer.weight)"
   ]
  },
  {
   "cell_type": "code",
   "execution_count": 45,
   "metadata": {},
   "outputs": [
    {
     "name": "stdout",
     "output_type": "stream",
     "text": [
      "torch.Size([4, 256])\n",
      "tensor([[ 1.7375, -0.5620, -0.6303,  ..., -0.2277,  1.5748,  1.0345],\n",
      "        [ 1.6423, -0.7201,  0.2062,  ...,  0.4118,  0.1498, -0.4628],\n",
      "        [-0.4651, -0.7757,  0.5806,  ...,  1.4335, -0.4963,  0.8579],\n",
      "        [-0.6754, -0.4628,  1.4323,  ...,  0.8139, -0.7088,  0.4827]],\n",
      "       grad_fn=<EmbeddingBackward0>)\n"
     ]
    }
   ],
   "source": [
    "pos_embedding=pos_embedding_layer(torch.arange(max_length))\n",
    "print(pos_embedding.shape)\n",
    "print(pos_embedding)"
   ]
  },
  {
   "cell_type": "code",
   "execution_count": 46,
   "metadata": {},
   "outputs": [
    {
     "name": "stdout",
     "output_type": "stream",
     "text": [
      "torch.Size([8, 4, 256])\n"
     ]
    }
   ],
   "source": [
    "#input embedding will be posn embedding + token embedding \n",
    "input_embedding=pos_embedding+token_embedding\n",
    "print(input_embedding.shape)\n",
    "# print(input_embedding)"
   ]
  },
  {
   "cell_type": "markdown",
   "metadata": {},
   "source": [
    "### Attention"
   ]
  },
  {
   "cell_type": "code",
   "execution_count": 47,
   "metadata": {},
   "outputs": [],
   "source": [
    "## we have completed preprocessing, tokenization , and token embeddings with positional embeddings\n",
    "#simple self attention mechanism without trainable weights\n",
    "import torch\n",
    "\n",
    "inputs = torch.tensor(\n",
    "  [[0.43, 0.15, 0.89], # Your     (x^1)\n",
    "   [0.55, 0.87, 0.66], # journey  (x^2)\n",
    "   [0.57, 0.85, 0.64], # starts   (x^3)\n",
    "   [0.22, 0.58, 0.33], # with     (x^4)\n",
    "   [0.77, 0.25, 0.10], # one      (x^5)\n",
    "   [0.05, 0.80, 0.55]] # step     (x^6)\n",
    ")\n"
   ]
  },
  {
   "cell_type": "code",
   "execution_count": 48,
   "metadata": {},
   "outputs": [
    {
     "name": "stdout",
     "output_type": "stream",
     "text": [
      "tensor([0.9544, 1.4950, 1.4754, 0.8434, 0.7070, 1.0865])\n"
     ]
    }
   ],
   "source": [
    "query = inputs[1]  # 2nd input token is the query\n",
    "\n",
    "attn_scores_2 = torch.empty(inputs.shape[0])\n",
    "for i, x_i in enumerate(inputs):\n",
    "    attn_scores_2[i] = torch.dot(x_i, query) # dot product (transpose not necessary here since they are 1-dim vectors)\n",
    "\n",
    "print(attn_scores_2)\n"
   ]
  },
  {
   "cell_type": "code",
   "execution_count": 49,
   "metadata": {},
   "outputs": [
    {
     "name": "stdout",
     "output_type": "stream",
     "text": [
      "Attention weights: tensor([0.1455, 0.2278, 0.2249, 0.1285, 0.1077, 0.1656])\n",
      "Sum: tensor(1.0000)\n"
     ]
    }
   ],
   "source": [
    "attn_weights_2_tmp = attn_scores_2 / attn_scores_2.sum()\n",
    "#normalising\n",
    "print(\"Attention weights:\", attn_weights_2_tmp)\n",
    "print(\"Sum:\", attn_weights_2_tmp.sum())"
   ]
  },
  {
   "cell_type": "code",
   "execution_count": 50,
   "metadata": {},
   "outputs": [
    {
     "name": "stdout",
     "output_type": "stream",
     "text": [
      "Attention weights: tensor([0.1385, 0.2379, 0.2333, 0.1240, 0.1082, 0.1581])\n",
      "Sum: tensor(1.)\n"
     ]
    }
   ],
   "source": [
    "#softmax normalization\n",
    "# e^x /(e^x1+....e^xt)\n",
    "def softmax_naive(x):\n",
    "    return torch.exp(x) / torch.exp(x).sum(dim=0)# summation of eac row   \n",
    "\n",
    "attn_weights_2_naive = softmax_naive(attn_scores_2)\n",
    "\n",
    "print(\"Attention weights:\", attn_weights_2_naive)\n",
    "print(\"Sum:\", attn_weights_2_naive.sum())"
   ]
  },
  {
   "cell_type": "code",
   "execution_count": 51,
   "metadata": {},
   "outputs": [
    {
     "name": "stdout",
     "output_type": "stream",
     "text": [
      "Attention weights: tensor([0.1385, 0.2379, 0.2333, 0.1240, 0.1082, 0.1581])\n",
      "Sum: tensor(1.)\n"
     ]
    }
   ],
   "source": [
    "#pytorch softmax because naive softmax can have underflow or overflow\n",
    "attn_weights_2 = torch.softmax(attn_scores_2, dim=0)\n",
    "print(\"Attention weights:\", attn_weights_2)\n",
    "print(\"Sum:\", attn_weights_2.sum())"
   ]
  },
  {
   "cell_type": "code",
   "execution_count": 52,
   "metadata": {},
   "outputs": [
    {
     "name": "stdout",
     "output_type": "stream",
     "text": [
      "tensor([0.4419, 0.6515, 0.5683])\n"
     ]
    }
   ],
   "source": [
    "query = inputs[1] # 2nd input token is the query\n",
    "\n",
    "context_vec_2 = torch.zeros(query.shape)\n",
    "for i,x_i in enumerate(inputs):\n",
    "    context_vec_2 += attn_weights_2[i]*x_i\n",
    "\n",
    "print(context_vec_2)# final context vector"
   ]
  },
  {
   "cell_type": "code",
   "execution_count": 53,
   "metadata": {},
   "outputs": [
    {
     "name": "stdout",
     "output_type": "stream",
     "text": [
      "tensor([[0.9995, 0.9544, 0.9422, 0.4753, 0.4576, 0.6310],\n",
      "        [0.9544, 1.4950, 1.4754, 0.8434, 0.7070, 1.0865],\n",
      "        [0.9422, 1.4754, 1.4570, 0.8296, 0.7154, 1.0605],\n",
      "        [0.4753, 0.8434, 0.8296, 0.4937, 0.3474, 0.6565],\n",
      "        [0.4576, 0.7070, 0.7154, 0.3474, 0.6654, 0.2935],\n",
      "        [0.6310, 1.0865, 1.0605, 0.6565, 0.2935, 0.9450]])\n"
     ]
    }
   ],
   "source": [
    "#this is for just 'journey' now lets do this for each text\n",
    "attn_scores = torch.empty(len(inputs), len(inputs))\n",
    "\n",
    "for i, x_i in enumerate(inputs):\n",
    "    for j, x_j in enumerate(inputs):\n",
    "        attn_scores[i, j] = torch.dot(x_i, x_j)\n",
    "\n",
    "print(attn_scores)"
   ]
  },
  {
   "cell_type": "code",
   "execution_count": 54,
   "metadata": {},
   "outputs": [
    {
     "name": "stdout",
     "output_type": "stream",
     "text": [
      "tensor([[0.9995, 0.9544, 0.9422, 0.4753, 0.4576, 0.6310],\n",
      "        [0.9544, 1.4950, 1.4754, 0.8434, 0.7070, 1.0865],\n",
      "        [0.9422, 1.4754, 1.4570, 0.8296, 0.7154, 1.0605],\n",
      "        [0.4753, 0.8434, 0.8296, 0.4937, 0.3474, 0.6565],\n",
      "        [0.4576, 0.7070, 0.7154, 0.3474, 0.6654, 0.2935],\n",
      "        [0.6310, 1.0865, 1.0605, 0.6565, 0.2935, 0.9450]])\n"
     ]
    }
   ],
   "source": [
    "#the above operation works but is very complex and not scalable\n",
    "#but according to linear algebra\n",
    "attn_score = inputs @ inputs.T\n",
    "print(attn_score)"
   ]
  },
  {
   "cell_type": "code",
   "execution_count": 55,
   "metadata": {},
   "outputs": [
    {
     "name": "stdout",
     "output_type": "stream",
     "text": [
      "tensor([[0.2098, 0.2006, 0.1981, 0.1242, 0.1220, 0.1452],\n",
      "        [0.1385, 0.2379, 0.2333, 0.1240, 0.1082, 0.1581],\n",
      "        [0.1390, 0.2369, 0.2326, 0.1242, 0.1108, 0.1565],\n",
      "        [0.1435, 0.2074, 0.2046, 0.1462, 0.1263, 0.1720],\n",
      "        [0.1526, 0.1958, 0.1975, 0.1367, 0.1879, 0.1295],\n",
      "        [0.1385, 0.2184, 0.2128, 0.1420, 0.0988, 0.1896]])\n"
     ]
    }
   ],
   "source": [
    "attn_weights=torch.softmax(attn_scores,dim=-1)\n",
    "print(attn_weights)"
   ]
  },
  {
   "cell_type": "code",
   "execution_count": 56,
   "metadata": {},
   "outputs": [
    {
     "name": "stdout",
     "output_type": "stream",
     "text": [
      "tensor([[0.4421, 0.5931, 0.5790],\n",
      "        [0.4419, 0.6515, 0.5683],\n",
      "        [0.4431, 0.6496, 0.5671],\n",
      "        [0.4304, 0.6298, 0.5510],\n",
      "        [0.4671, 0.5910, 0.5266],\n",
      "        [0.4177, 0.6503, 0.5645]])\n"
     ]
    }
   ],
   "source": [
    "all_context_vecs= attn_weights @ inputs\n",
    "print(all_context_vecs) #literally the same scaling operation as before(write down and check)"
   ]
  },
  {
   "cell_type": "markdown",
   "metadata": {},
   "source": [
    "#### if we can do this then why do we need trainable weights? \n",
    "because there is meaning in the current sentence, like here there is almost no relation between one and journey but consider there might be in this specific context, so to represent that we need to have trainable weights\n",
    "\n",
    "##### eg: the cat sat on the mat because it was warm -> if warm is the query then mat needs to have a higher attention score "
   ]
  },
  {
   "cell_type": "code",
   "execution_count": 57,
   "metadata": {},
   "outputs": [],
   "source": [
    "# implementing self-attention with trainable weights\n",
    "\n",
    "\n",
    "x_2 = inputs[1] # second input element\n",
    "d_in = inputs.shape[1] # the input embedding size, d=3\n",
    "d_out = 2 # the output embedding size, d=2\n",
    "\n",
    "#in gpt like models the input and output dimensions are same"
   ]
  },
  {
   "cell_type": "code",
   "execution_count": 58,
   "metadata": {},
   "outputs": [
    {
     "name": "stdout",
     "output_type": "stream",
     "text": [
      "Parameter containing:\n",
      "tensor([[0.2961, 0.5166],\n",
      "        [0.2517, 0.6886],\n",
      "        [0.0740, 0.8665]])\n"
     ]
    }
   ],
   "source": [
    "#initialize weight matrices \n",
    "torch.manual_seed(123)\n",
    "# we need to learn how to convert input vectors into key query and value vectors\n",
    "W_query = torch.nn.Parameter(torch.rand(d_in, d_out), requires_grad=False)\n",
    "W_key   = torch.nn.Parameter(torch.rand(d_in, d_out), requires_grad=False)\n",
    "W_value = torch.nn.Parameter(torch.rand(d_in, d_out), requires_grad=False)\n",
    "\n",
    "#when using weight matrices for model training \n",
    "print(W_query)"
   ]
  },
  {
   "cell_type": "code",
   "execution_count": 59,
   "metadata": {},
   "outputs": [
    {
     "name": "stdout",
     "output_type": "stream",
     "text": [
      "tensor([0.4306, 1.4551])\n"
     ]
    }
   ],
   "source": [
    "\n",
    "\n",
    "query_2 = x_2 @ W_query # x_2 because it's with respect to the 2nd input element\n",
    "key_2 = x_2 @ W_key \n",
    "value_2 = x_2 @ W_value\n",
    "\n",
    "print(query_2)\n",
    "\n"
   ]
  },
  {
   "cell_type": "code",
   "execution_count": 60,
   "metadata": {},
   "outputs": [
    {
     "name": "stdout",
     "output_type": "stream",
     "text": [
      "keys.shape: torch.Size([6, 2])\n",
      "values.shape: torch.Size([6, 2])\n",
      "query.shape: torch.Size([6, 2])\n"
     ]
    }
   ],
   "source": [
    "keys = inputs @ W_key \n",
    "values = inputs @ W_value\n",
    "queries= inputs @ W_query\n",
    "\n",
    "print(\"keys.shape:\", keys.shape)\n",
    "print(\"values.shape:\", values.shape)\n",
    "print(\"query.shape:\", queries.shape)"
   ]
  },
  {
   "cell_type": "code",
   "execution_count": 61,
   "metadata": {},
   "outputs": [
    {
     "name": "stdout",
     "output_type": "stream",
     "text": [
      "tensor(1.8524)\n"
     ]
    }
   ],
   "source": [
    "#calcultating attention score\n",
    "\n",
    "keys_2 = keys[1] # Python starts index at 0\n",
    "attn_score_22 = query_2.dot(keys_2)\n",
    "print(attn_score_22)\n",
    "\n"
   ]
  },
  {
   "cell_type": "code",
   "execution_count": 62,
   "metadata": {},
   "outputs": [
    {
     "name": "stdout",
     "output_type": "stream",
     "text": [
      "tensor([1.2705, 1.8524, 1.8111, 1.0795, 0.5577, 1.5440])\n"
     ]
    }
   ],
   "source": [
    "attn_scores_2= query_2 @ keys.T\n",
    "print(attn_scores_2)"
   ]
  },
  {
   "cell_type": "code",
   "execution_count": 63,
   "metadata": {},
   "outputs": [
    {
     "name": "stdout",
     "output_type": "stream",
     "text": [
      "tensor([[0.9231, 1.3545, 1.3241, 0.7910, 0.4032, 1.1330],\n",
      "        [1.2705, 1.8524, 1.8111, 1.0795, 0.5577, 1.5440],\n",
      "        [1.2544, 1.8284, 1.7877, 1.0654, 0.5508, 1.5238],\n",
      "        [0.6973, 1.0167, 0.9941, 0.5925, 0.3061, 0.8475],\n",
      "        [0.6114, 0.8819, 0.8626, 0.5121, 0.2707, 0.7307],\n",
      "        [0.8995, 1.3165, 1.2871, 0.7682, 0.3937, 1.0996]])\n"
     ]
    }
   ],
   "source": [
    "attn_scores =  queries @ keys.T #all queries with attention \n",
    "print(attn_scores)"
   ]
  },
  {
   "cell_type": "code",
   "execution_count": 64,
   "metadata": {},
   "outputs": [
    {
     "name": "stdout",
     "output_type": "stream",
     "text": [
      "tensor([0.1500, 0.2264, 0.2199, 0.1311, 0.0906, 0.1820])\n",
      "2\n"
     ]
    }
   ],
   "source": [
    "# now normalisation \n",
    "# attention weights- they should sum up to 1\n",
    "# first scale by root d-keys and then softmax\n",
    "#why dividibng with root of d_k? it gives a stable output\n",
    "#relared to variance\n",
    "d_k= keys.shape[-1]\n",
    "attn_weights_2=torch.softmax(attn_scores_2/d_k**0.5,dim =-1)\n",
    "print(attn_weights_2)\n",
    "print(d_k)"
   ]
  },
  {
   "cell_type": "code",
   "execution_count": 65,
   "metadata": {},
   "outputs": [
    {
     "name": "stdout",
     "output_type": "stream",
     "text": [
      "tensor([0.3061, 0.8210])\n"
     ]
    }
   ],
   "source": [
    "context_vec_2 = attn_weights_2 @ values\n",
    "print(context_vec_2)"
   ]
  },
  {
   "cell_type": "markdown",
   "metadata": {},
   "source": [
    "### Creating a self attention python class"
   ]
  },
  {
   "cell_type": "code",
   "execution_count": 66,
   "metadata": {},
   "outputs": [],
   "source": [
    "import torch.nn as nn\n",
    "\n",
    "class SelfAttention_V1(nn.Module):\n",
    "    def __init__(self, d_in, d_out):\n",
    "        super().__init__()\n",
    "        self.W_query=nn.Parameter(torch.rand(d_in,d_out))\n",
    "        self.W_key=nn.Parameter(torch.rand(d_in,d_out))\n",
    "        self.W_value=nn.Parameter(torch.rand(d_in,d_out))\n",
    "    \n",
    "    def forward(self,x):\n",
    "        keys=x @ self.W_key\n",
    "        queries=x @ self.W_query\n",
    "        values=x @ self.W_value\n",
    "        attn_score=queries @ keys.T\n",
    "        attn_weights=torch.softmax(attn_scores/keys.shape[-1]**0.5,dim=-1)\n",
    "        context_vec= attn_weights @ values\n",
    "        return context_vec"
   ]
  },
  {
   "cell_type": "code",
   "execution_count": 67,
   "metadata": {},
   "outputs": [
    {
     "name": "stdout",
     "output_type": "stream",
     "text": [
      "tensor([[0.2996, 0.8053],\n",
      "        [0.3061, 0.8210],\n",
      "        [0.3058, 0.8203],\n",
      "        [0.2948, 0.7939],\n",
      "        [0.2927, 0.7891],\n",
      "        [0.2990, 0.8040]], grad_fn=<MmBackward0>)\n"
     ]
    }
   ],
   "source": [
    "torch.manual_seed(123)\n",
    "sa_v1=SelfAttention_V1(d_in,d_out)\n",
    "print(sa_v1(inputs))"
   ]
  },
  {
   "cell_type": "code",
   "execution_count": 68,
   "metadata": {},
   "outputs": [],
   "source": [
    "class SelfAttention_v2(nn.Module):\n",
    "\n",
    "    def __init__(self, d_in, d_out, qkv_bias=False):\n",
    "        super().__init__()\n",
    "        self.W_query = nn.Linear(d_in, d_out, bias=qkv_bias) #stable\n",
    "        self.W_key   = nn.Linear(d_in, d_out, bias=qkv_bias)\n",
    "        self.W_value = nn.Linear(d_in, d_out, bias=qkv_bias)\n",
    "\n",
    "    def forward(self, x):\n",
    "        keys = self.W_key(x)\n",
    "        queries = self.W_query(x)\n",
    "        values = self.W_value(x)\n",
    "        \n",
    "        attn_scores = queries @ keys.T\n",
    "        attn_weights = torch.softmax(attn_scores / keys.shape[-1]**0.5, dim=-1)\n",
    "\n",
    "        context_vec = attn_weights @ values\n",
    "        return context_vec"
   ]
  },
  {
   "cell_type": "code",
   "execution_count": 69,
   "metadata": {},
   "outputs": [
    {
     "name": "stdout",
     "output_type": "stream",
     "text": [
      "tensor([[-0.0739,  0.0713],\n",
      "        [-0.0748,  0.0703],\n",
      "        [-0.0749,  0.0702],\n",
      "        [-0.0760,  0.0685],\n",
      "        [-0.0763,  0.0679],\n",
      "        [-0.0754,  0.0693]], grad_fn=<MmBackward0>)\n"
     ]
    }
   ],
   "source": [
    "torch.manual_seed(789)\n",
    "sa_v2 = SelfAttention_v2(d_in, d_out) #weight initialization is more sophisticates\n",
    "print(sa_v2(inputs))"
   ]
  },
  {
   "cell_type": "markdown",
   "metadata": {},
   "source": [
    "### Causal Attention "
   ]
  },
  {
   "cell_type": "code",
   "execution_count": 70,
   "metadata": {},
   "outputs": [],
   "source": [
    "inputs = torch.tensor(\n",
    "  [[0.43, 0.15, 0.89], # Your     (x^1)\n",
    "   [0.55, 0.87, 0.66], # journey  (x^2)\n",
    "   [0.57, 0.85, 0.64], # starts   (x^3)\n",
    "   [0.22, 0.58, 0.33], # with     (x^4)\n",
    "   [0.77, 0.25, 0.10], # one      (x^5)\n",
    "   [0.05, 0.80, 0.55]] # step     (x^6)\n",
    ")\n"
   ]
  },
  {
   "cell_type": "code",
   "execution_count": 71,
   "metadata": {},
   "outputs": [
    {
     "name": "stdout",
     "output_type": "stream",
     "text": [
      "tensor([[0.1921, 0.1646, 0.1652, 0.1550, 0.1721, 0.1510],\n",
      "        [0.2041, 0.1659, 0.1662, 0.1496, 0.1665, 0.1477],\n",
      "        [0.2036, 0.1659, 0.1662, 0.1498, 0.1664, 0.1480],\n",
      "        [0.1869, 0.1667, 0.1668, 0.1571, 0.1661, 0.1564],\n",
      "        [0.1830, 0.1669, 0.1670, 0.1588, 0.1658, 0.1585],\n",
      "        [0.1935, 0.1663, 0.1666, 0.1542, 0.1666, 0.1529]],\n",
      "       grad_fn=<SoftmaxBackward0>)\n"
     ]
    }
   ],
   "source": [
    "# mask out future tokens\n",
    "# we mask out the attention weights above the diagonal and then we normalise the attention weights\n",
    "queries = sa_v2.W_query(inputs)\n",
    "keys = sa_v2.W_key(inputs)\n",
    "attn_scores= queries @ keys.T\n",
    "attn_weights = torch.softmax(attn_scores/keys.shape[-1]**0.5, dim =-1)\n",
    "print(attn_weights)"
   ]
  },
  {
   "cell_type": "code",
   "execution_count": 72,
   "metadata": {},
   "outputs": [
    {
     "name": "stdout",
     "output_type": "stream",
     "text": [
      "tensor([[1., 0., 0., 0., 0., 0.],\n",
      "        [1., 1., 0., 0., 0., 0.],\n",
      "        [1., 1., 1., 0., 0., 0.],\n",
      "        [1., 1., 1., 1., 0., 0.],\n",
      "        [1., 1., 1., 1., 1., 0.],\n",
      "        [1., 1., 1., 1., 1., 1.]])\n"
     ]
    }
   ],
   "source": [
    "# now we generate a mask \n",
    "# so we basically have the output(attention weights) and then mask it then normalize rows\n",
    "context_length= attn_scores.shape[0]\n",
    "mask_simple=torch.tril(torch.ones(context_length,context_length))# tril creates a lower triangular matrix\n",
    "print(mask_simple)"
   ]
  },
  {
   "cell_type": "code",
   "execution_count": 73,
   "metadata": {},
   "outputs": [
    {
     "name": "stdout",
     "output_type": "stream",
     "text": [
      "tensor([[0.1921, 0.0000, 0.0000, 0.0000, 0.0000, 0.0000],\n",
      "        [0.2041, 0.1659, 0.0000, 0.0000, 0.0000, 0.0000],\n",
      "        [0.2036, 0.1659, 0.1662, 0.0000, 0.0000, 0.0000],\n",
      "        [0.1869, 0.1667, 0.1668, 0.1571, 0.0000, 0.0000],\n",
      "        [0.1830, 0.1669, 0.1670, 0.1588, 0.1658, 0.0000],\n",
      "        [0.1935, 0.1663, 0.1666, 0.1542, 0.1666, 0.1529]],\n",
      "       grad_fn=<MulBackward0>)\n"
     ]
    }
   ],
   "source": [
    "masked_simple= attn_weights * mask_simple #canceling influence of future tokens (data leakage) this is bad\n",
    "print(masked_simple) #now normalise it to have each row sum = 1"
   ]
  },
  {
   "cell_type": "code",
   "execution_count": 74,
   "metadata": {},
   "outputs": [
    {
     "name": "stdout",
     "output_type": "stream",
     "text": [
      "tensor([[1.0000, 0.0000, 0.0000, 0.0000, 0.0000, 0.0000],\n",
      "        [0.5517, 0.4483, 0.0000, 0.0000, 0.0000, 0.0000],\n",
      "        [0.3800, 0.3097, 0.3103, 0.0000, 0.0000, 0.0000],\n",
      "        [0.2758, 0.2460, 0.2462, 0.2319, 0.0000, 0.0000],\n",
      "        [0.2175, 0.1983, 0.1984, 0.1888, 0.1971, 0.0000],\n",
      "        [0.1935, 0.1663, 0.1666, 0.1542, 0.1666, 0.1529]],\n",
      "       grad_fn=<DivBackward0>)\n"
     ]
    }
   ],
   "source": [
    "row_sums=masked_simple.sum(dim=1, keepdim=True)\n",
    "masked_simple_norm = masked_simple / row_sums \n",
    "print(masked_simple_norm)"
   ]
  },
  {
   "cell_type": "code",
   "execution_count": 75,
   "metadata": {},
   "outputs": [
    {
     "name": "stdout",
     "output_type": "stream",
     "text": [
      "tensor([[0.2899,   -inf,   -inf,   -inf,   -inf,   -inf],\n",
      "        [0.4656, 0.1723,   -inf,   -inf,   -inf,   -inf],\n",
      "        [0.4594, 0.1703, 0.1731,   -inf,   -inf,   -inf],\n",
      "        [0.2642, 0.1024, 0.1036, 0.0186,   -inf,   -inf],\n",
      "        [0.2183, 0.0874, 0.0882, 0.0177, 0.0786,   -inf],\n",
      "        [0.3408, 0.1270, 0.1290, 0.0198, 0.1290, 0.0078]],\n",
      "       grad_fn=<MaskedFillBackward0>)\n"
     ]
    }
   ],
   "source": [
    "mask = torch.triu(torch.ones(context_length, context_length), diagonal=1)\n",
    "masked = attn_scores.masked_fill(mask.bool(), -torch.inf) #fill the positive values with -inf\n",
    "print(masked)"
   ]
  },
  {
   "cell_type": "code",
   "execution_count": 77,
   "metadata": {},
   "outputs": [
    {
     "name": "stdout",
     "output_type": "stream",
     "text": [
      "tensor([[1.0000, 0.0000, 0.0000, 0.0000, 0.0000, 0.0000],\n",
      "        [0.5517, 0.4483, 0.0000, 0.0000, 0.0000, 0.0000],\n",
      "        [0.3800, 0.3097, 0.3103, 0.0000, 0.0000, 0.0000],\n",
      "        [0.2758, 0.2460, 0.2462, 0.2319, 0.0000, 0.0000],\n",
      "        [0.2175, 0.1983, 0.1984, 0.1888, 0.1971, 0.0000],\n",
      "        [0.1935, 0.1663, 0.1666, 0.1542, 0.1666, 0.1529]],\n",
      "       grad_fn=<SoftmaxBackward0>)\n"
     ]
    }
   ],
   "source": [
    "attn_weights = torch.softmax(masked / keys.shape[-1]**0.5, dim=1)\n",
    "print(attn_weights)"
   ]
  },
  {
   "cell_type": "markdown",
   "metadata": {},
   "source": [
    "### Making additional attention weights with dropout"
   ]
  },
  {
   "cell_type": "code",
   "execution_count": 78,
   "metadata": {},
   "outputs": [
    {
     "name": "stdout",
     "output_type": "stream",
     "text": [
      "tensor([[2., 2., 0., 2., 2., 0.],\n",
      "        [0., 0., 0., 2., 0., 2.],\n",
      "        [2., 2., 2., 2., 0., 2.],\n",
      "        [0., 2., 2., 0., 0., 2.],\n",
      "        [0., 2., 0., 2., 0., 2.],\n",
      "        [0., 2., 2., 2., 2., 0.]])\n"
     ]
    }
   ],
   "source": [
    "torch.manual_seed(123)\n",
    "dropout = torch.nn.Dropout(0.5) #A\n",
    "example = torch.ones(6, 6) #B\n",
    "print(dropout(example))"
   ]
  },
  {
   "cell_type": "code",
   "execution_count": 79,
   "metadata": {},
   "outputs": [
    {
     "name": "stdout",
     "output_type": "stream",
     "text": [
      "tensor([[2.0000, 0.0000, 0.0000, 0.0000, 0.0000, 0.0000],\n",
      "        [0.0000, 0.0000, 0.0000, 0.0000, 0.0000, 0.0000],\n",
      "        [0.7599, 0.6194, 0.6206, 0.0000, 0.0000, 0.0000],\n",
      "        [0.0000, 0.4921, 0.4925, 0.0000, 0.0000, 0.0000],\n",
      "        [0.0000, 0.3966, 0.0000, 0.3775, 0.0000, 0.0000],\n",
      "        [0.0000, 0.3327, 0.3331, 0.3084, 0.3331, 0.0000]],\n",
      "       grad_fn=<MulBackward0>)\n"
     ]
    }
   ],
   "source": [
    "torch.manual_seed(123)\n",
    "print(dropout(attn_weights))"
   ]
  },
  {
   "cell_type": "markdown",
   "metadata": {},
   "source": [
    "### Causal Attention Class"
   ]
  },
  {
   "cell_type": "code",
   "execution_count": 80,
   "metadata": {},
   "outputs": [
    {
     "name": "stdout",
     "output_type": "stream",
     "text": [
      "torch.Size([2, 6, 3])\n"
     ]
    }
   ],
   "source": [
    "#code should be able to handle batches\n",
    "# we will simulate batch inputs for now we are using 2 inputs with 6 tokens and each token has embedding dimension of 3\n",
    "batch = torch.stack((inputs, inputs),dim=0)\n",
    "print(batch.shape)\n",
    "# the causal attention class will be simillar to self attention but we now have dropout and causal masks"
   ]
  },
  {
   "cell_type": "code",
   "execution_count": 81,
   "metadata": {},
   "outputs": [],
   "source": [
    "class CausalAttention(nn.Module):\n",
    "\n",
    "    def __init__(self, d_in, d_out, context_length, dropout, qkv_bias=False):\n",
    "        super().__init__()\n",
    "        self.d_out = d_out\n",
    "        self.W_query = nn.Linear(d_in, d_out, bias=qkv_bias)\n",
    "        self.W_key   = nn.Linear(d_in, d_out, bias=qkv_bias)\n",
    "        self.W_value = nn.Linear(d_in, d_out, bias=qkv_bias)\n",
    "        self.dropout = nn.Dropout(dropout) # New\n",
    "        self.register_buffer('mask', torch.triu(torch.ones(context_length, context_length), diagonal=1)) # New\n",
    "\n",
    "    def forward(self, x):\n",
    "        b, num_tokens, d_in = x.shape # New batch dimension b\n",
    "        keys = self.W_key(x)\n",
    "        queries = self.W_query(x)\n",
    "        values = self.W_value(x)\n",
    "\n",
    "        attn_scores = queries @ keys.transpose(1, 2) # Changed transpose\n",
    "        attn_scores.masked_fill_(  # New, _ ops are in-place\n",
    "            self.mask.bool()[:num_tokens, :num_tokens], -torch.inf)  # `:num_tokens` to account for cases where the number of tokens in the batch is smaller than the supported context_size\n",
    "        attn_weights = torch.softmax(\n",
    "            attn_scores / keys.shape[-1]**0.5, dim=-1\n",
    "        )\n",
    "        attn_weights = self.dropout(attn_weights) # New\n",
    "\n",
    "        context_vec = attn_weights @ values\n",
    "        return context_vec"
   ]
  },
  {
   "cell_type": "code",
   "execution_count": 82,
   "metadata": {},
   "outputs": [
    {
     "name": "stdout",
     "output_type": "stream",
     "text": [
      "Context_vecs.shape: torch.Size([2, 6, 2])\n"
     ]
    }
   ],
   "source": [
    "torch.manual_seed(123)\n",
    "context_length=batch.shape[1]\n",
    "ca = CausalAttention(d_in,d_out,context_length,0.0)\n",
    "context_vecs=ca(batch)\n",
    "print(\"Context_vecs.shape:\",context_vecs.shape) "
   ]
  },
  {
   "cell_type": "code",
   "execution_count": 83,
   "metadata": {},
   "outputs": [
    {
     "name": "stdout",
     "output_type": "stream",
     "text": [
      "tensor([[[-0.4519,  0.2216],\n",
      "         [-0.5874,  0.0058],\n",
      "         [-0.6300, -0.0632],\n",
      "         [-0.5675, -0.0843],\n",
      "         [-0.5526, -0.0981],\n",
      "         [-0.5299, -0.1081]],\n",
      "\n",
      "        [[-0.4519,  0.2216],\n",
      "         [-0.5874,  0.0058],\n",
      "         [-0.6300, -0.0632],\n",
      "         [-0.5675, -0.0843],\n",
      "         [-0.5526, -0.0981],\n",
      "         [-0.5299, -0.1081]]], grad_fn=<UnsafeViewBackward0>)\n"
     ]
    }
   ],
   "source": [
    "print(context_vecs)"
   ]
  },
  {
   "cell_type": "markdown",
   "metadata": {},
   "source": [
    "### Multihead Attention "
   ]
  },
  {
   "cell_type": "code",
   "execution_count": 84,
   "metadata": {},
   "outputs": [
    {
     "name": "stdout",
     "output_type": "stream",
     "text": [
      "torch.Size([2, 6, 3])\n"
     ]
    }
   ],
   "source": [
    "import torch\n",
    "inputs = torch.tensor(\n",
    "  [[0.43, 0.15, 0.89], # Your     (x^1)\n",
    "   [0.55, 0.87, 0.66], # journey  (x^2)\n",
    "   [0.57, 0.85, 0.64], # starts   (x^3)\n",
    "   [0.22, 0.58, 0.33], # with     (x^4)\n",
    "   [0.77, 0.25, 0.10], # one      (x^5)\n",
    "   [0.05, 0.80, 0.55]] # step     (x^6)\n",
    ")\n",
    "batch = torch.stack((inputs, inputs),dim=0)\n",
    "print(batch.shape)"
   ]
  },
  {
   "cell_type": "code",
   "execution_count": 85,
   "metadata": {},
   "outputs": [],
   "source": [
    "#part 1(one type of mutihead attention)\n",
    "# divide attention mechanism into \"multiple heads\" each operating independently \n",
    "# instead of a single key,query and value matrix we have multiple (for now lets just say 2)\n",
    "# hence we get 2 attention weights and then 2 context vectors that will be then combined to a single vector\n",
    "\n",
    "# consider each context vec to have 6 x 2 dimension so the combined context vector will have the dimension 6 x 4\n",
    "import torch.nn as nn\n",
    "class MultiHeadAttentionWrapper(nn.Module):\n",
    "\n",
    "    def __init__(self, d_in, d_out, context_length, dropout, num_heads, qkv_bias=False):\n",
    "        super().__init__()\n",
    "        self.heads = nn.ModuleList(\n",
    "            [CausalAttention(d_in, d_out, context_length, dropout, qkv_bias) \n",
    "             for _ in range(num_heads)]\n",
    "        )\n",
    "\n",
    "    def forward(self, x):\n",
    "        return torch.cat([head(x) for head in self.heads], dim=-1)\n",
    "\n"
   ]
  },
  {
   "cell_type": "code",
   "execution_count": 86,
   "metadata": {},
   "outputs": [
    {
     "name": "stdout",
     "output_type": "stream",
     "text": [
      "tensor([[[-0.4519,  0.2216,  0.4772,  0.1063],\n",
      "         [-0.5874,  0.0058,  0.5891,  0.3257],\n",
      "         [-0.6300, -0.0632,  0.6202,  0.3860],\n",
      "         [-0.5675, -0.0843,  0.5478,  0.3589],\n",
      "         [-0.5526, -0.0981,  0.5321,  0.3428],\n",
      "         [-0.5299, -0.1081,  0.5077,  0.3493]],\n",
      "\n",
      "        [[-0.4519,  0.2216,  0.4772,  0.1063],\n",
      "         [-0.5874,  0.0058,  0.5891,  0.3257],\n",
      "         [-0.6300, -0.0632,  0.6202,  0.3860],\n",
      "         [-0.5675, -0.0843,  0.5478,  0.3589],\n",
      "         [-0.5526, -0.0981,  0.5321,  0.3428],\n",
      "         [-0.5299, -0.1081,  0.5077,  0.3493]]], grad_fn=<CatBackward0>)\n",
      "context_vecs.shape: torch.Size([2, 6, 4])\n"
     ]
    }
   ],
   "source": [
    "torch.manual_seed(123)\n",
    "context_length = batch.shape[1] # This is the number of tokens\n",
    "d_in, d_out = 3, 2\n",
    "mha = MultiHeadAttentionWrapper(d_in, d_out, context_length, 0.0, num_heads=2)\n",
    "context_vecs = mha(batch)\n",
    "print(context_vecs)\n",
    "print(\"context_vecs.shape:\", context_vecs.shape)\n",
    "# this current system works well but the single heads are processed sequentially and then aggregated, we can improve them by making this in parallel"
   ]
  },
  {
   "cell_type": "markdown",
   "metadata": {},
   "source": [
    "### Implementing multihead attention with weight splits"
   ]
  },
  {
   "cell_type": "code",
   "execution_count": 87,
   "metadata": {},
   "outputs": [],
   "source": [
    "class MultiHeadAttention(nn.Module):\n",
    "    def __init__(self, d_in, d_out, context_length, dropout, num_heads, qkv_bias=False):\n",
    "        super().__init__()\n",
    "        assert (d_out % num_heads == 0), \\\n",
    "            \"d_out must be divisible by num_heads\"\n",
    "\n",
    "        self.d_out = d_out\n",
    "        self.num_heads = num_heads\n",
    "        self.head_dim = d_out // num_heads # Reduce the projection dim to match desired output dim\n",
    "\n",
    "        self.W_query = nn.Linear(d_in, d_out, bias=qkv_bias)\n",
    "        self.W_key = nn.Linear(d_in, d_out, bias=qkv_bias)\n",
    "        self.W_value = nn.Linear(d_in, d_out, bias=qkv_bias)\n",
    "        self.out_proj = nn.Linear(d_out, d_out)  # Linear layer to combine head outputs\n",
    "        self.dropout = nn.Dropout(dropout)\n",
    "        self.register_buffer(\n",
    "            \"mask\",\n",
    "            torch.triu(torch.ones(context_length, context_length),\n",
    "                       diagonal=1)\n",
    "        )\n",
    "\n",
    "    def forward(self, x):\n",
    "        b, num_tokens, d_in = x.shape\n",
    "\n",
    "        keys = self.W_key(x) # Shape: (b, num_tokens, d_out)\n",
    "        queries = self.W_query(x)\n",
    "        values = self.W_value(x)\n",
    "\n",
    "        # We implicitly split the matrix by adding a `num_heads` dimension\n",
    "        # Unroll last dim: (b, num_tokens, d_out) -> (b, num_tokens, num_heads, head_dim)\n",
    "        keys = keys.view(b, num_tokens, self.num_heads, self.head_dim) \n",
    "        values = values.view(b, num_tokens, self.num_heads, self.head_dim)\n",
    "        queries = queries.view(b, num_tokens, self.num_heads, self.head_dim)\n",
    "        # we have to group by the number of heads\n",
    "        # Transpose: (b, num_tokens, num_heads, head_dim) -> (b, num_heads, num_tokens, head_dim)\n",
    "        keys = keys.transpose(1, 2)\n",
    "        queries = queries.transpose(1, 2)\n",
    "        values = values.transpose(1, 2)\n",
    "\n",
    "        # Compute scaled dot-product attention (aka self-attention) with a causal mask\n",
    "        attn_scores = queries @ keys.transpose(2, 3)  # Dot product for each head\n",
    "\n",
    "        # Original mask truncated to the number of tokens and converted to boolean\n",
    "        mask_bool = self.mask.bool()[:num_tokens, :num_tokens]\n",
    "\n",
    "        # Use the mask to fill attention scores\n",
    "        attn_scores.masked_fill_(mask_bool, -torch.inf)\n",
    "        \n",
    "        attn_weights = torch.softmax(attn_scores / keys.shape[-1]**0.5, dim=-1)\n",
    "        attn_weights = self.dropout(attn_weights)\n",
    "\n",
    "        # Shape: (b, num_tokens, num_heads, head_dim)\n",
    "        context_vec = (attn_weights @ values).transpose(1, 2) \n",
    "        \n",
    "        # Combine heads, where self.d_out = self.num_heads * self.head_dim\n",
    "        context_vec = context_vec.contiguous().view(b, num_tokens, self.d_out)\n",
    "        context_vec = self.out_proj(context_vec) # optional projection\n",
    "\n",
    "        return context_vec"
   ]
  },
  {
   "cell_type": "code",
   "execution_count": 88,
   "metadata": {},
   "outputs": [
    {
     "name": "stdout",
     "output_type": "stream",
     "text": [
      "torch.Size([2, 3, 6])\n",
      "tensor([[[ 0.1569, -0.0873,  0.0210,  0.0215, -0.3243, -0.2518],\n",
      "         [ 0.1117, -0.0547,  0.0406, -0.0213, -0.3251, -0.2993],\n",
      "         [ 0.1196, -0.0491,  0.0318, -0.0635, -0.2788, -0.2578]],\n",
      "\n",
      "        [[ 0.1569, -0.0873,  0.0210,  0.0215, -0.3243, -0.2518],\n",
      "         [ 0.1117, -0.0547,  0.0406, -0.0213, -0.3251, -0.2993],\n",
      "         [ 0.1196, -0.0491,  0.0318, -0.0635, -0.2788, -0.2578]]],\n",
      "       grad_fn=<ViewBackward0>)\n",
      "Context_vecs Shape: torch.Size([2, 3, 6])\n"
     ]
    }
   ],
   "source": [
    "torch.manual_seed(123)\n",
    "inputs=torch.tensor(\n",
    "    [[0.43,0.15,0.89,0.55,0.87,0.66],\n",
    "     [0.57,0.85,0.64,0.22,0.58,0.33],\n",
    "     [0.77,0.25,0.10,0.05,0.80,0.55]]\n",
    ")\n",
    "batch=torch.stack((inputs,inputs),dim=0)\n",
    "print(batch.shape)\n",
    "batch_size,context_length,d_in=batch.shape\n",
    "d_out=6\n",
    "mha=MultiHeadAttention(d_in,d_out,context_length,0.0,num_heads=2)\n",
    "context_vecs=mha(batch)\n",
    "print(context_vecs)\n",
    "print(\"Context_vecs Shape:\",context_vecs.shape)"
   ]
  },
  {
   "cell_type": "markdown",
   "metadata": {},
   "source": [
    "## Implementing GPT model to generate text"
   ]
  },
  {
   "cell_type": "code",
   "execution_count": 89,
   "metadata": {},
   "outputs": [],
   "source": [
    "# we are going to make a placeholder for gpt model\n",
    "GPT_CONFIG_124M={\n",
    "    \"vocab_size\": 50257, #vocabulary\n",
    "    \"context_length\": 1024, \n",
    "    \"emb_dim\": 768, #embedding dimension\n",
    "    \"n_heads\": 12, #no of attention heads\n",
    "    \"n_layers\": 12, #no of layers\n",
    "    \"drop_rate\": 0.1, #dropout rate \n",
    "    \"qkv_bias\": False #Query-key-value bias\n",
    "}"
   ]
  },
  {
   "cell_type": "markdown",
   "metadata": {},
   "source": [
    "### Dummy GPT Model Class"
   ]
  },
  {
   "cell_type": "code",
   "execution_count": 90,
   "metadata": {},
   "outputs": [],
   "source": [
    "import torch\n",
    "import torch.nn as nn\n",
    "class DummyGPTModel(nn.Module):\n",
    "    def __init__(self,cfg):\n",
    "        super().__init__()\n",
    "        self.tok_emb=nn.Embedding(cfg[\"vocab_size\"],cfg[\"emb_dim\"])\n",
    "        self.pos_emb=nn.Embedding(cfg[\"context_length\"],cfg[\"emb_dim\"])\n",
    "        self.drop_emb=nn.Dropout(cfg[\"drop_rate\"])\n",
    "\n",
    "        #placeholder transformer\n",
    "        self.trf_blocks=nn.Sequential(\n",
    "            *[DummyTransformerBlock(cfg) for _ in range(cfg[\"n_layers\"])])\n",
    "        \n",
    "        #placeholder layernorm \n",
    "        self.final_norm =DummyLayerNorm(cfg[\"emb_dim\"])\n",
    "        self.out_head=nn.Linear(\n",
    "            cfg[\"emb_dim\"],cfg[\"vocab_size\"],bias=False\n",
    "        )\n",
    "    def forward(self,in_idx):\n",
    "        batch_size,seq_len=in_idx.shape\n",
    "        tok_embeds=self.tok_emb(in_idx)\n",
    "        pos_indices = torch.arange(seq_len, device=in_idx.device)\n",
    "        pos_embeds = self.pos_emb(pos_indices)\n",
    "        # pos_embeds=self.pos_emb(in_idx)\n",
    "        x=tok_embeds+pos_embeds\n",
    "        x=self.drop_emb(x)\n",
    "        x=self.trf_blocks(x)\n",
    "        x=self.final_norm(x)\n",
    "        logits=self.out_head(x)\n",
    "        return logits\n",
    "\n",
    "class DummyTransformerBlock(nn.Module):\n",
    "    def __init__(self,cfg):\n",
    "        super().__init__()\n",
    "        #placeholder\n",
    "    def forward(self,x):\n",
    "        #nothing happens here just returning the input\n",
    "        return x\n",
    "\n",
    "class DummyLayerNorm(nn.Module):\n",
    "    def  __init__(self,normalized_shape,eps=1e-5):\n",
    "        super().__init__()\n",
    "\n",
    "    def forward(self,x):\n",
    "        return x"
   ]
  },
  {
   "cell_type": "code",
   "execution_count": 91,
   "metadata": {},
   "outputs": [
    {
     "name": "stdout",
     "output_type": "stream",
     "text": [
      "tensor([[6109, 3626, 6100,  345],\n",
      "        [6109, 1110, 6622,  257]])\n"
     ]
    }
   ],
   "source": [
    "#tokenization \n",
    "import tiktoken\n",
    "tokenizer=tiktoken.get_encoding(\"gpt2\")\n",
    "batch=[]\n",
    "txt1=\"Every effort moves you\"\n",
    "txt2=\"Every day holds a\"\n",
    "batch.append(torch.tensor(tokenizer.encode(txt1)))\n",
    "batch.append(torch.tensor(tokenizer.encode(txt2)))\n",
    "batch= torch.stack(batch,dim=0)\n",
    "print(batch)"
   ]
  },
  {
   "cell_type": "code",
   "execution_count": 92,
   "metadata": {},
   "outputs": [
    {
     "name": "stdout",
     "output_type": "stream",
     "text": [
      "Output shape: torch.Size([2, 4, 50257])\n",
      "tensor([[[-1.2034,  0.3201, -0.7130,  ..., -1.5548, -0.2390, -0.4667],\n",
      "         [-0.1192,  0.4539, -0.4432,  ...,  0.2392,  1.3469,  1.2430],\n",
      "         [ 0.5307,  1.6720, -0.4695,  ...,  1.1966,  0.0111,  0.5835],\n",
      "         [ 0.0139,  1.6755, -0.3388,  ...,  1.1586, -0.0435, -1.0400]],\n",
      "\n",
      "        [[-1.0908,  0.1798, -0.9484,  ..., -1.6047,  0.2439, -0.4530],\n",
      "         [-0.7860,  0.5581, -0.0610,  ...,  0.4835, -0.0077,  1.6621],\n",
      "         [ 0.3567,  1.2698, -0.6398,  ..., -0.0162, -0.1296,  0.3717],\n",
      "         [-0.2407, -0.7349, -0.5102,  ...,  2.0057, -0.3694,  0.1814]]],\n",
      "       grad_fn=<UnsafeViewBackward0>)\n"
     ]
    }
   ],
   "source": [
    "#create an instance of dummygpt\n",
    "torch.manual_seed(123)\n",
    "model = DummyGPTModel(GPT_CONFIG_124M)\n",
    "logits=model(batch)\n",
    "print(\"Output shape:\",logits.shape)\n",
    "print(logits)"
   ]
  },
  {
   "cell_type": "code",
   "execution_count": 93,
   "metadata": {},
   "outputs": [
    {
     "name": "stdout",
     "output_type": "stream",
     "text": [
      "tensor([[0.2260, 0.3470, 0.0000, 0.2216, 0.0000, 0.0000],\n",
      "        [0.2133, 0.2394, 0.0000, 0.5198, 0.3297, 0.0000]],\n",
      "       grad_fn=<ReluBackward0>)\n"
     ]
    }
   ],
   "source": [
    "# Layer normalisation is done so that to prevent the gradient magnitudes to be too large or too small\n",
    "# internal covariate shift : as training proceeds inputs to each layer can change, this delays convergence \n",
    "torch.manual_seed(123)\n",
    "batch_example=torch.randn(2,5)\n",
    "layer=nn.Sequential(nn.Linear(5,6),nn.ReLU())\n",
    "out= layer(batch_example)\n",
    "print(out)\n",
    "# it is done before and after the multi-head attention  module and before final output layer\n",
    "# mean=0 variance =1\n",
    "# this is a linear layer followed by a ReLu activation layer"
   ]
  },
  {
   "cell_type": "code",
   "execution_count": 94,
   "metadata": {},
   "outputs": [
    {
     "name": "stdout",
     "output_type": "stream",
     "text": [
      "Mean: tensor([[0.1324],\n",
      "        [0.2170]], grad_fn=<MeanBackward1>)\n",
      "Variance: tensor([[0.0231],\n",
      "        [0.0398]], grad_fn=<VarBackward0>)\n"
     ]
    }
   ],
   "source": [
    "mean = out.mean(dim=-1,keepdim=True)\n",
    "var=out.var(dim=-1,keepdim=True)\n",
    "print(\"Mean:\",mean)\n",
    "print(\"Variance:\",var)"
   ]
  },
  {
   "cell_type": "code",
   "execution_count": 95,
   "metadata": {},
   "outputs": [
    {
     "name": "stdout",
     "output_type": "stream",
     "text": [
      "Normalized Layer outputs:\n",
      " tensor([[ 0.6159,  1.4126, -0.8719,  0.5872, -0.8719, -0.8719],\n",
      "        [-0.0189,  0.1121, -1.0876,  1.5173,  0.5647, -1.0876]],\n",
      "       grad_fn=<DivBackward0>)\n",
      "Mean:\n",
      " tensor([[9.9341e-09],\n",
      "        [1.9868e-08]], grad_fn=<MeanBackward1>)\n",
      "Variance:\n",
      " tensor([[1.0000],\n",
      "        [1.0000]], grad_fn=<VarBackward0>)\n"
     ]
    }
   ],
   "source": [
    "out_norm =(out - mean)/torch.sqrt(var)\n",
    "mean=out_norm.mean(dim = -1, keepdim = True)\n",
    "var=out_norm.var(dim = -1, keepdim = True)\n",
    "print(\"Normalized Layer outputs:\\n\", out_norm)\n",
    "print(\"Mean:\\n\",mean)\n",
    "print(\"Variance:\\n\",var)"
   ]
  },
  {
   "cell_type": "code",
   "execution_count": 96,
   "metadata": {},
   "outputs": [
    {
     "name": "stdout",
     "output_type": "stream",
     "text": [
      "Mean:\n",
      " tensor([[    0.0000],\n",
      "        [    0.0000]], grad_fn=<MeanBackward1>)\n",
      "Variance:\n",
      " tensor([[1.0000],\n",
      "        [1.0000]], grad_fn=<VarBackward0>)\n"
     ]
    }
   ],
   "source": [
    "torch.set_printoptions(sci_mode=False)\n",
    "print(\"Mean:\\n\",mean)\n",
    "print(\"Variance:\\n\",var)"
   ]
  },
  {
   "cell_type": "code",
   "execution_count": 97,
   "metadata": {},
   "outputs": [],
   "source": [
    "class LayerNorm(nn.Module):\n",
    "    def __init__(self,emb_dim):\n",
    "        super().__init__()\n",
    "        self.eps=1e-5\n",
    "        self.scale=nn.Parameter(torch.ones(emb_dim))\n",
    "        self.shift=nn.Parameter(torch.zeros(emb_dim))\n",
    "\n",
    "    def forward(self,x):\n",
    "        mean=x.mean(dim=-1,keepdim=True)\n",
    "        var=x.var(dim=-1,keepdim=True,unbiased=False)\n",
    "        norm_x=(x-mean)/torch.sqrt(var+self.eps)\n",
    "        return self.scale * norm_x + self.shift\n",
    "        # when unbiased= True then we get bessels correction where the denominator is n-1 not n "
   ]
  },
  {
   "cell_type": "code",
   "execution_count": 98,
   "metadata": {},
   "outputs": [
    {
     "name": "stdout",
     "output_type": "stream",
     "text": [
      "Mean:\n",
      " tensor([[    -0.0000],\n",
      "        [     0.0000]], grad_fn=<MeanBackward1>)\n",
      "Variance:\n",
      " tensor([[1.0000],\n",
      "        [1.0000]], grad_fn=<VarBackward0>)\n"
     ]
    }
   ],
   "source": [
    "ln = LayerNorm (emb_dim=5)\n",
    "out_ln=ln(batch_example)\n",
    "mean = out_ln.mean(dim=-1,keepdim=True)\n",
    "var=out_ln.var(dim=-1,unbiased=False,keepdim=True)\n",
    "print(\"Mean:\\n\",mean)\n",
    "print(\"Variance:\\n\", var)\n"
   ]
  },
  {
   "cell_type": "markdown",
   "metadata": {},
   "source": [
    "### Gelu activation "
   ]
  },
  {
   "cell_type": "code",
   "execution_count": 99,
   "metadata": {},
   "outputs": [],
   "source": [
    "class GELU(nn.Module):\n",
    "    def __init__(self):\n",
    "       super().__init__()\n",
    "    def forward (self,x):\n",
    "       return 0.5 * x * (1+torch.tanh(torch.sqrt(torch.tensor(2.0/torch.pi))*(x+ 0.044715 * torch.pow(x,3))))  "
   ]
  },
  {
   "cell_type": "code",
   "execution_count": 100,
   "metadata": {},
   "outputs": [],
   "source": [
    "class FeedForward(nn.Module):\n",
    "    def __init__(self,cfg):\n",
    "        super().__init__()\n",
    "        self.layers=nn.Sequential(\n",
    "            nn.Linear(cfg[\"emb_dim\"],4 * cfg[\"emb_dim\"]),\n",
    "            GELU(),\n",
    "            nn.Linear(4*cfg[\"emb_dim\"],cfg[\"emb_dim\"])\n",
    "        )\n",
    "    def forward(self,x):\n",
    "        return self.layers(x)"
   ]
  },
  {
   "cell_type": "code",
   "execution_count": 101,
   "metadata": {},
   "outputs": [
    {
     "name": "stdout",
     "output_type": "stream",
     "text": [
      "torch.Size([2, 3, 768])\n"
     ]
    }
   ],
   "source": [
    "ffn =FeedForward(GPT_CONFIG_124M)\n",
    "x=torch.rand(2,3,768)\n",
    "out=ffn(x)\n",
    "print(out.shape)"
   ]
  },
  {
   "cell_type": "markdown",
   "metadata": {},
   "source": [
    "### Shortcut Connections"
   ]
  },
  {
   "cell_type": "code",
   "execution_count": 102,
   "metadata": {},
   "outputs": [],
   "source": [
    "class ExampleDeepNeuralNetwork(nn.Module):\n",
    "    def __init__(self,layer_sizes,use_shortcut):\n",
    "        super().__init__()\n",
    "        self.use_shortcut=use_shortcut\n",
    "        self.layers=nn.ModuleList([\n",
    "            nn.Sequential(nn.Linear(layer_sizes[0],layer_sizes[1]),GELU()),\n",
    "            nn.Sequential(nn.Linear(layer_sizes[1],layer_sizes[2]),GELU()),\n",
    "            nn.Sequential(nn.Linear(layer_sizes[2],layer_sizes[3]),GELU()),\n",
    "            nn.Sequential(nn.Linear(layer_sizes[3],layer_sizes[4]),GELU()),\n",
    "            nn.Sequential(nn.Linear(layer_sizes[4],layer_sizes[5]),GELU())\n",
    "        ])\n",
    "    def forward(self,x):\n",
    "        for layer in self.layers:\n",
    "            layer_output=layer(x) #compute output of current layer\n",
    "            if self.use_shortcut and x.shape == layer_output.shape:\n",
    "                x=x+ layer_output\n",
    "            else:\n",
    "                x= layer_output\n",
    "        return x\n",
    "\n"
   ]
  },
  {
   "cell_type": "code",
   "execution_count": 103,
   "metadata": {},
   "outputs": [],
   "source": [
    "layer_sizes=[3,3,3,3,3,1]\n",
    "sample_input=torch.tensor([[1.,0.,-1.]])\n",
    "torch.manual_seed(123)\n",
    "model_without_shortcut= ExampleDeepNeuralNetwork(\n",
    "    layer_sizes,use_shortcut=False\n",
    ")"
   ]
  },
  {
   "cell_type": "code",
   "execution_count": 104,
   "metadata": {},
   "outputs": [],
   "source": [
    "def print_gradient(model, x):\n",
    "    output=model(x)#forward pass\n",
    "    target=torch.tensor([[0.]])\n",
    "\n",
    "    loss=nn.MSELoss()#calculate loss\n",
    "    loss=loss(output,target)\n",
    "\n",
    "    loss.backward()#backward pass\n",
    "\n",
    "    for name, param  in model.named_parameters():\n",
    "        if 'weight' in name:\n",
    "            print(f\"{name} has a gradient of {param.grad.abs().mean().item()}\")\n"
   ]
  },
  {
   "cell_type": "code",
   "execution_count": 105,
   "metadata": {},
   "outputs": [
    {
     "name": "stdout",
     "output_type": "stream",
     "text": [
      "layers.0.0.weight has a gradient of 0.00020173584925942123\n",
      "layers.1.0.weight has a gradient of 0.00012011159560643137\n",
      "layers.2.0.weight has a gradient of 0.0007152040489017963\n",
      "layers.3.0.weight has a gradient of 0.0013988736318424344\n",
      "layers.4.0.weight has a gradient of 0.005049645435065031\n"
     ]
    }
   ],
   "source": [
    "print_gradient(model_without_shortcut, sample_input) # vanish gradient"
   ]
  },
  {
   "cell_type": "code",
   "execution_count": 106,
   "metadata": {},
   "outputs": [
    {
     "name": "stdout",
     "output_type": "stream",
     "text": [
      "layers.0.0.weight has a gradient of 0.22169791162014008\n",
      "layers.1.0.weight has a gradient of 0.20694105327129364\n",
      "layers.2.0.weight has a gradient of 0.32896995544433594\n",
      "layers.3.0.weight has a gradient of 0.2665732204914093\n",
      "layers.4.0.weight has a gradient of 1.3258540630340576\n"
     ]
    }
   ],
   "source": [
    "torch.manual_seed(123)\n",
    "model_with_shortcut=ExampleDeepNeuralNetwork(\n",
    "    layer_sizes, use_shortcut=True\n",
    ")\n",
    "print_gradient(model_with_shortcut,sample_input) # no vanishing gradient"
   ]
  },
  {
   "cell_type": "markdown",
   "metadata": {},
   "source": [
    "## Transformer Block\n",
    "multihead attention-->layer normalisation -->Dropout -->Feed Forward layer -->GELU activation \n",
    "##### important components in transformer block"
   ]
  },
  {
   "cell_type": "code",
   "execution_count": 107,
   "metadata": {},
   "outputs": [],
   "source": [
    "GPT_CONFIG_124M={\n",
    "    \"vocab_size\": 50257, #vocabulary\n",
    "    \"context_length\": 1024, \n",
    "    \"emb_dim\": 768, #embedding dimension\n",
    "    \"n_heads\": 12, #no of attention heads\n",
    "    \"n_layers\": 12, #no of layers\n",
    "    \"drop_rate\": 0.1, #dropout rate \n",
    "    \"qkv_bias\": False #Query-key-value bias\n",
    "}"
   ]
  },
  {
   "cell_type": "code",
   "execution_count": 108,
   "metadata": {},
   "outputs": [],
   "source": [
    "#combine the separate elements youve added\n",
    "class LayerNorm(nn.Module):\n",
    "    def __init__(self,emb_dim):\n",
    "        super().__init__()\n",
    "        self.eps=1e-5\n",
    "        self.scale=nn.Parameter(torch.ones(emb_dim))\n",
    "        self.shift=nn.Parameter(torch.zeros(emb_dim))\n",
    "\n",
    "    def forward(self,x):\n",
    "        mean=x.mean(dim=-1,keepdim=True)\n",
    "        var=x.var(dim=-1,keepdim=True,unbiased=False)\n",
    "        norm_x=(x-mean)/torch.sqrt(var+self.eps)\n",
    "        return self.scale * norm_x + self.shift\n",
    "        # when unbiased= True then we get bessels correction where the denominator is n-1 not n \n",
    "\n",
    "class GELU(nn.Module):\n",
    "    def __init__(self):\n",
    "       super().__init__()\n",
    "    def forward (self,x):\n",
    "       return 0.5 * x * (1+torch.tanh(torch.sqrt(torch.tensor(2.0/torch.pi))*(x+ 0.044715 * torch.pow(x,3))))  \n",
    "        \n",
    "class FeedForward(nn.Module):\n",
    "    def __init__(self,cfg):\n",
    "        super().__init__()\n",
    "        self.layers=nn.Sequential(\n",
    "            nn.Linear(cfg[\"emb_dim\"],4 * cfg[\"emb_dim\"]),\n",
    "            GELU(),\n",
    "            nn.Linear(4*cfg[\"emb_dim\"],cfg[\"emb_dim\"])\n",
    "        )\n",
    "    def forward(self,x):\n",
    "        return self.layers(x)\n"
   ]
  },
  {
   "cell_type": "code",
   "execution_count": 109,
   "metadata": {},
   "outputs": [],
   "source": [
    "\n",
    "class TransformerBlock(nn.Module):\n",
    "    def __init__(self,cfg):\n",
    "        super().__init__()\n",
    "        self.att=MultiHeadAttention(\n",
    "            d_in = cfg[\"emb_dim\"],\n",
    "            d_out=cfg[\"emb_dim\"],\n",
    "            context_length=cfg[\"context_length\"],\n",
    "            num_heads=cfg[\"n_heads\"],\n",
    "            dropout=cfg[\"drop_rate\"],\n",
    "            qkv_bias=cfg[\"qkv_bias\"]\n",
    "        )\n",
    "        self.ff=FeedForward(cfg)\n",
    "        self.norm1=LayerNorm(cfg[\"emb_dim\"])\n",
    "        self.norm2=LayerNorm(cfg[\"emb_dim\"])\n",
    "        self.drop_shortcut=nn.Dropout(cfg[\"drop_rate\"])\n",
    "    \n",
    "    def forward(self,x):\n",
    "        shortcut=x\n",
    "        x=self.norm1(x)\n",
    "        x=self.att(x)\n",
    "        x=self.drop_shortcut(x)\n",
    "        x=x+shortcut\n",
    "\n",
    "        shortcut=x\n",
    "        x=self.norm2(x)\n",
    "        x=self.ff(x)\n",
    "        x=self.drop_shortcut(x)\n",
    "        x=x+shortcut\n",
    "\n",
    "        return x\n",
    "\n",
    "\n",
    "\n",
    "        "
   ]
  },
  {
   "cell_type": "code",
   "execution_count": 110,
   "metadata": {},
   "outputs": [
    {
     "name": "stdout",
     "output_type": "stream",
     "text": [
      "Input Shape: torch.Size([2, 4, 768])\n",
      "Output Shape: torch.Size([2, 4, 768])\n"
     ]
    }
   ],
   "source": [
    "import torch\n",
    "torch.manual_seed(123)\n",
    "x=torch.rand(2,4,768)\n",
    "block=TransformerBlock(GPT_CONFIG_124M)\n",
    "output=block(x)\n",
    "print(\"Input Shape:\",x.shape)\n",
    "print(\"Output Shape:\", output.shape)"
   ]
  },
  {
   "cell_type": "markdown",
   "metadata": {},
   "source": [
    "### Complete GPT model"
   ]
  },
  {
   "cell_type": "code",
   "execution_count": 111,
   "metadata": {},
   "outputs": [],
   "source": [
    "class GPTModel(nn.Module):\n",
    "    def __init__(self,cfg):\n",
    "        super().__init__()\n",
    "        self.tok_emb=nn.Embedding(cfg[\"vocab_size\"],cfg[\"emb_dim\"])\n",
    "        self.pos_emb=nn.Embedding(cfg[\"context_length\"],cfg[\"emb_dim\"])\n",
    "        self.drop_emb=nn.Dropout(cfg[\"drop_rate\"])\n",
    "\n",
    "        self.trf_blocks=nn.Sequential(\n",
    "           *[TransformerBlock(cfg) for  _ in range(cfg[\"n_layers\"])]\n",
    "        )\n",
    "\n",
    "        self.final_norm=LayerNorm (cfg[\"emb_dim\"])\n",
    "        self.out_head=nn.Linear(\n",
    "            cfg[\"emb_dim\"],cfg[\"vocab_size\"],bias=False\n",
    "        )\n",
    "\n",
    "    def forward(self,in_idx):\n",
    "        batch_size,seq_len=in_idx.shape\n",
    "        tok_embeds=self.tok_emb(in_idx)\n",
    "        pos_embeds=self.pos_emb(torch.arange(seq_len,device=in_idx.device))\n",
    "        x=tok_embeds+pos_embeds\n",
    "        x=self.drop_emb(x)\n",
    "        x=self.trf_blocks(x)\n",
    "        x=self.final_norm(x)\n",
    "        logits=self.out_head(x)\n",
    "\n",
    "        return logits"
   ]
  },
  {
   "cell_type": "code",
   "execution_count": 112,
   "metadata": {},
   "outputs": [
    {
     "name": "stdout",
     "output_type": "stream",
     "text": [
      "tensor([[6109, 3626, 6100,  345],\n",
      "        [6109, 1110, 6622,  257]])\n"
     ]
    }
   ],
   "source": [
    "import tiktoken\n",
    "tokenizer=tiktoken.get_encoding(\"gpt2\")\n",
    "batch=[]\n",
    "txt1=\"Every effort moves you\"\n",
    "txt2=\"Every day holds a\"\n",
    "batch.append(torch.tensor(tokenizer.encode(txt1)))\n",
    "batch.append(torch.tensor(tokenizer.encode(txt2)))\n",
    "batch= torch.stack(batch,dim=0)\n",
    "print(batch)"
   ]
  },
  {
   "cell_type": "code",
   "execution_count": 113,
   "metadata": {},
   "outputs": [
    {
     "name": "stdout",
     "output_type": "stream",
     "text": [
      "Input batch:\n",
      " tensor([[6109, 3626, 6100,  345],\n",
      "        [6109, 1110, 6622,  257]])\n",
      "\n",
      " Output shape: torch.Size([2, 4, 50257])\n",
      "tensor([[[ 0.3613,  0.4222, -0.0711,  ...,  0.3483,  0.4661, -0.2838],\n",
      "         [-0.1792, -0.5660, -0.9485,  ...,  0.0477,  0.5181, -0.3168],\n",
      "         [ 0.7120,  0.0332,  0.1085,  ...,  0.1018, -0.4327, -0.2553],\n",
      "         [-1.0076,  0.3418, -0.1190,  ...,  0.7195,  0.4023,  0.0532]],\n",
      "\n",
      "        [[-0.2564,  0.0900,  0.0335,  ...,  0.2659,  0.4454, -0.6806],\n",
      "         [ 0.1230,  0.3653, -0.2074,  ...,  0.7705,  0.2710,  0.2246],\n",
      "         [ 1.0558,  1.0318, -0.2800,  ...,  0.6936,  0.3205, -0.3178],\n",
      "         [-0.1565,  0.3926,  0.3288,  ...,  1.2630, -0.1858,  0.0388]]],\n",
      "       grad_fn=<UnsafeViewBackward0>)\n"
     ]
    }
   ],
   "source": [
    "torch.manual_seed(123)\n",
    "model=GPTModel(GPT_CONFIG_124M)\n",
    "out=model(batch)\n",
    "print(\"Input batch:\\n\",batch)\n",
    "print(\"\\n Output shape:\",out.shape)\n",
    "print(out)"
   ]
  },
  {
   "cell_type": "code",
   "execution_count": 114,
   "metadata": {},
   "outputs": [
    {
     "name": "stdout",
     "output_type": "stream",
     "text": [
      "Total parameters: 163009536\n"
     ]
    }
   ],
   "source": [
    "total_params=sum(p.numel() for p in model.parameters())\n",
    "print(\"Total parameters:\",total_params)"
   ]
  },
  {
   "cell_type": "markdown",
   "metadata": {},
   "source": [
    "## Predicting the next token\n",
    "### extract last vector and convert "
   ]
  },
  {
   "cell_type": "code",
   "execution_count": 115,
   "metadata": {},
   "outputs": [],
   "source": [
    "def generate_text_simple(model, idx, max_new_tokens,context_size):\n",
    "    # idx is (batch,n_tokens)\n",
    "    for _ in range(max_new_tokens):\n",
    "        idx_cond=idx[:,-context_size:] #if input size > context size, we select only the lasr elements the size of context size\n",
    "\n",
    "        with torch.no_grad():\n",
    "            logits =model(idx_cond) #get predictions \n",
    "        \n",
    "        logits=logits[:,-1,:] # last row \n",
    "\n",
    "        # convert logits into probabilities by applying softmax\n",
    "\n",
    "        probas = torch.softmax(logits,dim=-1)\n",
    "\n",
    "        # Get the idx of the vocab entry with highest priority\n",
    "        idx_next =torch.argmax(probas, dim =-1 , keepdim =True )\n",
    "\n",
    "        # append it to the running sequence \n",
    "\n",
    "        idx= torch.cat((idx,idx_next),dim=-1)\n",
    "\n",
    "    return idx\n",
    "\n"
   ]
  },
  {
   "cell_type": "code",
   "execution_count": 116,
   "metadata": {},
   "outputs": [
    {
     "name": "stdout",
     "output_type": "stream",
     "text": [
      "encoded: [15496, 11, 314, 716]\n",
      "encoded_tensor_shape: torch.Size([1, 4])\n"
     ]
    }
   ],
   "source": [
    "start_context =\"Hello, I am\"\n",
    "encoded=tokenizer.encode(start_context)\n",
    "print(\"encoded:\",encoded)\n",
    "encoded_tensor=torch.tensor(encoded).unsqueeze(0)\n",
    "print(\"encoded_tensor_shape:\", encoded_tensor.shape)"
   ]
  },
  {
   "cell_type": "code",
   "execution_count": 117,
   "metadata": {},
   "outputs": [
    {
     "name": "stdout",
     "output_type": "stream",
     "text": [
      "Output: tensor([[15496,    11,   314,   716, 27018, 24086, 47843, 30961, 42348,  7267]])\n",
      "Output Len 10\n"
     ]
    }
   ],
   "source": [
    "model.eval() #set  model to evaluation mode\n",
    "out=generate_text_simple(\n",
    "    model=model,\n",
    "    idx=encoded_tensor,\n",
    "    max_new_tokens=6,\n",
    "    context_size=GPT_CONFIG_124M[\"context_length\"]\n",
    ")\n",
    "print(\"Output:\",out)\n",
    "print(\"Output Len\",len(out[0]))"
   ]
  },
  {
   "cell_type": "code",
   "execution_count": 118,
   "metadata": {},
   "outputs": [
    {
     "name": "stdout",
     "output_type": "stream",
     "text": [
      "Hello, I am Featureiman Byeswickattribute argue\n"
     ]
    }
   ],
   "source": [
    "decoded_text=tokenizer.decode(out.squeeze(0).tolist())\n",
    "print(decoded_text) # the output is random and messy because the model is not trained yet \n",
    "# next we will train this model for more efficiency"
   ]
  },
  {
   "cell_type": "markdown",
   "metadata": {},
   "source": [
    "## Pretraining\n",
    "### Loss Function "
   ]
  },
  {
   "cell_type": "code",
   "execution_count": 119,
   "metadata": {},
   "outputs": [],
   "source": [
    "import torch \n",
    "GPT_CONFIG_124M={\n",
    "    \"vocab_size\":50257,\n",
    "    \"context_length\": 256,\n",
    "    \"emb_dim\":768,\n",
    "    \"n_heads\":12,\n",
    "    \"n_layers\":12,\n",
    "    \"drop_rate\":0.1,\n",
    "    \"qkv_bias\": False\n",
    "}\n",
    "torch.manual_seed(123)\n",
    "model= GPTModel(GPT_CONFIG_124M)\n",
    "model.eval(); # disable dropout "
   ]
  },
  {
   "cell_type": "code",
   "execution_count": 120,
   "metadata": {},
   "outputs": [
    {
     "name": "stdout",
     "output_type": "stream",
     "text": [
      "Output text:\n",
      " Every effort moves you rentingetic wasnم refres RexMeCHicular stren\n"
     ]
    }
   ],
   "source": [
    "import tiktoken\n",
    "def text_to_token_ids(text,tokenizer):\n",
    "    encoded =tokenizer.encode(text,allowed_special={'<|endoftext|>'})\n",
    "    encoded_tensor=torch.tensor(encoded).unsqueeze(0) # adding batch dimension \n",
    "    return encoded_tensor\n",
    "\n",
    "def token_ids_to_text(token_ids,tokenizer):\n",
    "    flat=token_ids.squeeze(0) #remove batch dimension \n",
    "    return tokenizer.decode(flat.tolist())\n",
    "\n",
    "start_context =\"Every effort moves you\"\n",
    "tokenizer=tiktoken.get_encoding(\"gpt2\")\n",
    "\n",
    "token_ids =generate_text_simple(\n",
    "    model=model,\n",
    "    idx=text_to_token_ids(start_context,tokenizer),\n",
    "    max_new_tokens=10,\n",
    "    context_size=GPT_CONFIG_124M[\"context_length\"]\n",
    ")\n",
    "\n",
    "print(\"Output text:\\n\", token_ids_to_text(token_ids,tokenizer))"
   ]
  },
  {
   "cell_type": "code",
   "execution_count": 121,
   "metadata": {},
   "outputs": [],
   "source": [
    "inputs=torch.tensor([[16833,3626,6100], #effort really moves\n",
    "                     [40,1107,588]]) # I really like\n",
    "\n",
    "targets=torch.tensor([[3626,6100,345], # effort moves you \n",
    "                       [1107,588,11311]])  #really likes choclate"
   ]
  },
  {
   "cell_type": "code",
   "execution_count": 122,
   "metadata": {},
   "outputs": [
    {
     "name": "stdout",
     "output_type": "stream",
     "text": [
      "torch.Size([2, 3, 50257])\n"
     ]
    }
   ],
   "source": [
    "with torch.no_grad():\n",
    "    logits=model(inputs)\n",
    "probas=torch.softmax(logits,dim=-1)\n",
    "print(probas.shape)"
   ]
  },
  {
   "cell_type": "code",
   "execution_count": 123,
   "metadata": {},
   "outputs": [
    {
     "name": "stdout",
     "output_type": "stream",
     "text": [
      "Token IDs:\n",
      " tensor([[[16657],\n",
      "         [  339],\n",
      "         [42826]],\n",
      "\n",
      "        [[49906],\n",
      "         [29669],\n",
      "         [41751]]])\n"
     ]
    }
   ],
   "source": [
    "token_ids=torch.argmax(probas,dim=-1,keepdim=True)\n",
    "print(\"Token IDs:\\n\",token_ids)"
   ]
  },
  {
   "cell_type": "code",
   "execution_count": 124,
   "metadata": {},
   "outputs": [
    {
     "name": "stdout",
     "output_type": "stream",
     "text": [
      "Target batch 1:  effort moves you\n",
      "Output batch 1:  pressuring empoweredfaith\n"
     ]
    }
   ],
   "source": [
    "print(\"Target batch 1:\",token_ids_to_text(targets[0],tokenizer))\n",
    "print(\"Output batch 1:\",token_ids_to_text(token_ids[1].flatten(),tokenizer))"
   ]
  },
  {
   "cell_type": "markdown",
   "metadata": {},
   "source": [
    "#### Tip\n",
    "to reduce loss what we do is that we would flatten the output tensor and then flatten the target tensor and then \n",
    "check the probability of each element in the target tensor in the output tensor in the prefect case the probability should be one "
   ]
  },
  {
   "cell_type": "markdown",
   "metadata": {},
   "source": [
    "### Cross Entropy Loss"
   ]
  },
  {
   "cell_type": "code",
   "execution_count": 125,
   "metadata": {},
   "outputs": [
    {
     "name": "stdout",
     "output_type": "stream",
     "text": [
      "Text 1: tensor([    0.0001,     0.0000,     0.0000])\n",
      "Text 2: tensor([    0.0000,     0.0001,     0.0000])\n"
     ]
    }
   ],
   "source": [
    "text_idx=0\n",
    "target_probas_1 =probas[text_idx,[0,1,2],targets[text_idx]]\n",
    "print(\"Text 1:\",target_probas_1) #p11 , p12 p13\n",
    "\n",
    "text_idx=1\n",
    "target_probas_2 =probas[text_idx,[0,1,2],targets[text_idx]]\n",
    "print(\"Text 2:\",target_probas_2) # p21, p22, p23"
   ]
  },
  {
   "cell_type": "code",
   "execution_count": 126,
   "metadata": {},
   "outputs": [
    {
     "name": "stdout",
     "output_type": "stream",
     "text": [
      "tensor([ -9.5042, -10.3796, -11.3677, -11.4798,  -9.7764, -12.2561])\n"
     ]
    }
   ],
   "source": [
    "# concatenate them \n",
    "log_probas=torch.log(torch.cat((target_probas_1,target_probas_2)))\n",
    "print(log_probas)"
   ]
  },
  {
   "cell_type": "code",
   "execution_count": 127,
   "metadata": {},
   "outputs": [
    {
     "name": "stdout",
     "output_type": "stream",
     "text": [
      "tensor(-10.7940)\n"
     ]
    }
   ],
   "source": [
    "# calculate mean of the log values\n",
    "avg_log_probas=torch.mean(log_probas)\n",
    "print(avg_log_probas)"
   ]
  },
  {
   "cell_type": "code",
   "execution_count": 128,
   "metadata": {},
   "outputs": [
    {
     "name": "stdout",
     "output_type": "stream",
     "text": [
      "tensor(10.7940)\n"
     ]
    }
   ],
   "source": [
    "# taking negative of the avg log\n",
    "neg_avg_log_probas=avg_log_probas * -1\n",
    "print(neg_avg_log_probas)# its conventional in deep learning to use negative loss "
   ]
  },
  {
   "cell_type": "code",
   "execution_count": null,
   "metadata": {},
   "outputs": [],
   "source": []
  },
  {
   "cell_type": "code",
   "execution_count": 129,
   "metadata": {},
   "outputs": [
    {
     "name": "stdout",
     "output_type": "stream",
     "text": [
      "Flattened Logits: torch.Size([6, 50257])\n",
      "Flattened Targets: torch.Size([6])\n"
     ]
    }
   ],
   "source": [
    "#much simpler way of doing this\n",
    "logits_flat=logits.flatten(0,1)\n",
    "targets_flat=targets.flatten()\n",
    "print(\"Flattened Logits:\",logits_flat.shape)\n",
    "print(\"Flattened Targets:\",targets_flat.shape)"
   ]
  },
  {
   "cell_type": "code",
   "execution_count": 130,
   "metadata": {},
   "outputs": [
    {
     "name": "stdout",
     "output_type": "stream",
     "text": [
      "tensor(10.7940)\n"
     ]
    }
   ],
   "source": [
    "# with just one line of code we get the loss\n",
    "loss= torch.nn.functional.cross_entropy(logits_flat,targets_flat)\n",
    "print(loss)\n"
   ]
  },
  {
   "cell_type": "markdown",
   "metadata": {},
   "source": [
    "### Perplexity"
   ]
  },
  {
   "cell_type": "code",
   "execution_count": 131,
   "metadata": {},
   "outputs": [
    {
     "name": "stdout",
     "output_type": "stream",
     "text": [
      "tensor(48725.8203)\n"
     ]
    }
   ],
   "source": [
    "# perplexity measures how well the probability distribution predicted by the model matches the actual distribution of words in the dataset\n",
    "# perplexity =exp(loss)\n",
    "perplexity = torch.exp(loss)\n",
    "print(perplexity) "
   ]
  },
  {
   "cell_type": "markdown",
   "metadata": {},
   "source": [
    "### Scaling this "
   ]
  },
  {
   "cell_type": "code",
   "execution_count": 20,
   "metadata": {},
   "outputs": [
    {
     "name": "stdout",
     "output_type": "stream",
     "text": [
      "I HAD always thought Jack Gisburn rather a cheap genius--though a good fellow enough--so it was no \n"
     ]
    }
   ],
   "source": [
    "#using the verdict to train this\n",
    "import os\n",
    "file_path=\"the-verdict.txt\"\n",
    "with open(file_path,\"r\",encoding=\"utf-8\") as file:\n",
    "    text_data=file.read()\n",
    "print(text_data[:99])"
   ]
  },
  {
   "cell_type": "code",
   "execution_count": 21,
   "metadata": {},
   "outputs": [
    {
     "name": "stdout",
     "output_type": "stream",
     "text": [
      "Characters: 20479\n",
      "Tokens: 5145\n"
     ]
    }
   ],
   "source": [
    "import tiktoken \n",
    "\n",
    "tokenizer= tiktoken.get_encoding(\"gpt2\")\n",
    "total_char=len(text_data)\n",
    "total_tokens=len(tokenizer.encode(text_data))\n",
    "print(\"Characters:\",total_char)\n",
    "print(\"Tokens:\",total_tokens)"
   ]
  },
  {
   "cell_type": "code",
   "execution_count": 22,
   "metadata": {},
   "outputs": [],
   "source": [
    "from torch.utils.data import Dataset, DataLoader\n",
    "\n",
    "\n",
    "class GPTDatasetV1(Dataset):\n",
    "    def __init__(self, txt, tokenizer, max_length, stride):\n",
    "        self.input_ids = []\n",
    "        self.target_ids = []\n",
    "\n",
    "        # Tokenize the entire text\n",
    "        token_ids = tokenizer.encode(txt, allowed_special={\"<|endoftext|>\"})\n",
    "\n",
    "        # Use a sliding window to chunk the book into overlapping sequences of max_length\n",
    "        for i in range(0, len(token_ids) - max_length, stride):\n",
    "            input_chunk = token_ids[i:i + max_length]\n",
    "            target_chunk = token_ids[i + 1: i + max_length + 1]\n",
    "            self.input_ids.append(torch.tensor(input_chunk))\n",
    "            self.target_ids.append(torch.tensor(target_chunk))\n",
    "\n",
    "    def __len__(self):\n",
    "        return len(self.input_ids)\n",
    "\n",
    "    def __getitem__(self, idx):\n",
    "        return self.input_ids[idx], self.target_ids[idx]\n",
    "\n",
    "def create_dataloader_v1(txt,batch_size=4,  #batch_size=4 no of elements in a training batch , stride=128 means the amount of movement of the window\n",
    "            max_length=256,stride=128,shuffle=True,drop_last=True,num_workers=0): # drop last is done so that the last batch of the training set may be ignored as if the batch size< 4 causes problem num_workers is the number of cpu threads that can be run simultaneously\n",
    "            tokenizer=tiktoken.get_encoding(\"gpt2\") #tokenizer initiated\n",
    "            dataset=GPTDatasetV1(txt,tokenizer,max_length,stride) #dataset made\n",
    "            dataloader= DataLoader( #create dataloader\n",
    "                dataset,\n",
    "                batch_size=batch_size,\n",
    "                shuffle=shuffle,\n",
    "                drop_last=drop_last,   #this dataloaderV1 and then from getitems it gives out a input output\n",
    "                num_workers=num_workers\n",
    "            )\n",
    "            return dataloader\n",
    "\n",
    "             "
   ]
  },
  {
   "cell_type": "code",
   "execution_count": 23,
   "metadata": {},
   "outputs": [],
   "source": [
    "GPT_CONFIG_124M = {\n",
    "    \"vocab_size\": 50257,   # Vocabulary size\n",
    "    \"context_length\": 256, # Shortened context length (orig: 1024)\n",
    "    \"emb_dim\": 768,        # Embedding dimension\n",
    "    \"n_heads\": 12,         # Number of attention heads\n",
    "    \"n_layers\": 12,        # Number of layers\n",
    "    \"drop_rate\": 0.1,      # Dropout rate\n",
    "    \"qkv_bias\": False      # Query-key-value bias\n",
    "}\n"
   ]
  },
  {
   "cell_type": "code",
   "execution_count": 24,
   "metadata": {},
   "outputs": [],
   "source": [
    "import torch \n",
    "# Train/validation ratio\n",
    "train_ratio = 0.90\n",
    "split_idx = int(train_ratio * len(text_data))\n",
    "train_data = text_data[:split_idx]\n",
    "val_data = text_data[split_idx:]\n",
    "\n",
    "\n",
    "torch.manual_seed(123)\n",
    "\n",
    "train_loader = create_dataloader_v1(\n",
    "    train_data,\n",
    "    batch_size=2,\n",
    "    max_length=GPT_CONFIG_124M[\"context_length\"],\n",
    "    stride=GPT_CONFIG_124M[\"context_length\"],\n",
    "    drop_last=True,\n",
    "    shuffle=True,\n",
    "    num_workers=0\n",
    ")\n",
    "\n",
    "val_loader = create_dataloader_v1(\n",
    "    val_data,\n",
    "    batch_size=2,\n",
    "    max_length=GPT_CONFIG_124M[\"context_length\"],\n",
    "    stride=GPT_CONFIG_124M[\"context_length\"],\n",
    "    drop_last=False,\n",
    "    shuffle=False,\n",
    "    num_workers=0\n",
    ")"
   ]
  },
  {
   "cell_type": "code",
   "execution_count": 25,
   "metadata": {},
   "outputs": [
    {
     "name": "stdout",
     "output_type": "stream",
     "text": [
      "Train loader:\n",
      "torch.Size([2, 256]) torch.Size([2, 256])\n",
      "torch.Size([2, 256]) torch.Size([2, 256])\n",
      "torch.Size([2, 256]) torch.Size([2, 256])\n",
      "torch.Size([2, 256]) torch.Size([2, 256])\n",
      "torch.Size([2, 256]) torch.Size([2, 256])\n",
      "torch.Size([2, 256]) torch.Size([2, 256])\n",
      "torch.Size([2, 256]) torch.Size([2, 256])\n",
      "torch.Size([2, 256]) torch.Size([2, 256])\n",
      "torch.Size([2, 256]) torch.Size([2, 256])\n",
      "\n",
      "Validation loader:\n",
      "torch.Size([2, 256]) torch.Size([2, 256])\n",
      "9\n",
      "1\n"
     ]
    }
   ],
   "source": [
    "print(\"Train loader:\")\n",
    "for x, y in train_loader:\n",
    "    print(x.shape, y.shape)\n",
    "\n",
    "print(\"\\nValidation loader:\")\n",
    "for x, y in val_loader:\n",
    "    print(x.shape, y.shape)\n",
    "\n",
    "print(len(train_loader))\n",
    "print(len(val_loader))\n"
   ]
  },
  {
   "cell_type": "code",
   "execution_count": 26,
   "metadata": {},
   "outputs": [],
   "source": [
    "import torch.nn as nn\n",
    "class MultiHeadAttention(nn.Module):\n",
    "    def __init__(self, d_in, d_out, context_length, dropout, num_heads, qkv_bias=False):\n",
    "        super().__init__()\n",
    "        assert (d_out % num_heads == 0), \\\n",
    "            \"d_out must be divisible by num_heads\"\n",
    "\n",
    "        self.d_out = d_out\n",
    "        self.num_heads = num_heads\n",
    "        self.head_dim = d_out // num_heads # Reduce the projection dim to match desired output dim\n",
    "\n",
    "        self.W_query = nn.Linear(d_in, d_out, bias=qkv_bias)\n",
    "        self.W_key = nn.Linear(d_in, d_out, bias=qkv_bias)\n",
    "        self.W_value = nn.Linear(d_in, d_out, bias=qkv_bias)\n",
    "        self.out_proj = nn.Linear(d_out, d_out)  # Linear layer to combine head outputs\n",
    "        self.dropout = nn.Dropout(dropout)\n",
    "        self.register_buffer(\n",
    "            \"mask\",\n",
    "            torch.triu(torch.ones(context_length, context_length),\n",
    "                       diagonal=1)\n",
    "        )\n",
    "\n",
    "    def forward(self, x):\n",
    "        b, num_tokens, d_in = x.shape\n",
    "\n",
    "        keys = self.W_key(x) # Shape: (b, num_tokens, d_out)\n",
    "        queries = self.W_query(x)\n",
    "        values = self.W_value(x)\n",
    "\n",
    "        # We implicitly split the matrix by adding a `num_heads` dimension\n",
    "        # Unroll last dim: (b, num_tokens, d_out) -> (b, num_tokens, num_heads, head_dim)\n",
    "        keys = keys.view(b, num_tokens, self.num_heads, self.head_dim) \n",
    "        values = values.view(b, num_tokens, self.num_heads, self.head_dim)\n",
    "        queries = queries.view(b, num_tokens, self.num_heads, self.head_dim)\n",
    "        # we have to group by the number of heads\n",
    "        # Transpose: (b, num_tokens, num_heads, head_dim) -> (b, num_heads, num_tokens, head_dim)\n",
    "        keys = keys.transpose(1, 2)\n",
    "        queries = queries.transpose(1, 2)\n",
    "        values = values.transpose(1, 2)\n",
    "\n",
    "        # Compute scaled dot-product attention (aka self-attention) with a causal mask\n",
    "        attn_scores = queries @ keys.transpose(2, 3)  # Dot product for each head\n",
    "\n",
    "        # Original mask truncated to the number of tokens and converted to boolean\n",
    "        mask_bool = self.mask.bool()[:num_tokens, :num_tokens]\n",
    "\n",
    "        # Use the mask to fill attention scores\n",
    "        attn_scores.masked_fill_(mask_bool, -torch.inf)\n",
    "        \n",
    "        attn_weights = torch.softmax(attn_scores / keys.shape[-1]**0.5, dim=-1)\n",
    "        attn_weights = self.dropout(attn_weights)\n",
    "\n",
    "        # Shape: (b, num_tokens, num_heads, head_dim)\n",
    "        context_vec = (attn_weights @ values).transpose(1, 2) \n",
    "        \n",
    "        # Combine heads, where self.d_out = self.num_heads * self.head_dim\n",
    "        context_vec = context_vec.contiguous().view(b, num_tokens, self.d_out)\n",
    "        context_vec = self.out_proj(context_vec) # optional projection\n",
    "\n",
    "        return context_vec\n",
    "\n",
    "#combine the separate elements youve added\n",
    "class LayerNorm(nn.Module):\n",
    "    def __init__(self,emb_dim):\n",
    "        super().__init__()\n",
    "        self.eps=1e-5\n",
    "        self.scale=nn.Parameter(torch.ones(emb_dim))\n",
    "        self.shift=nn.Parameter(torch.zeros(emb_dim))\n",
    "\n",
    "    def forward(self,x):\n",
    "        mean=x.mean(dim=-1,keepdim=True)\n",
    "        var=x.var(dim=-1,keepdim=True,unbiased=False)\n",
    "        norm_x=(x-mean)/torch.sqrt(var+self.eps)\n",
    "        return self.scale * norm_x + self.shift\n",
    "        # when unbiased= True then we get bessels correction where the denominator is n-1 not n \n",
    "\n",
    "class GELU(nn.Module):\n",
    "    def __init__(self):\n",
    "       super().__init__()\n",
    "    def forward (self,x):\n",
    "       return 0.5 * x * (1+torch.tanh(torch.sqrt(torch.tensor(2.0/torch.pi))*(x+ 0.044715 * torch.pow(x,3))))  \n",
    "        \n",
    "class FeedForward(nn.Module):\n",
    "    def __init__(self,cfg):\n",
    "        super().__init__()\n",
    "        self.layers=nn.Sequential(\n",
    "            nn.Linear(cfg[\"emb_dim\"],4 * cfg[\"emb_dim\"]),\n",
    "            GELU(),\n",
    "            nn.Linear(4*cfg[\"emb_dim\"],cfg[\"emb_dim\"])\n",
    "        )\n",
    "    def forward(self,x):\n",
    "        return self.layers(x)\n"
   ]
  },
  {
   "cell_type": "code",
   "execution_count": 27,
   "metadata": {},
   "outputs": [],
   "source": [
    "\n",
    "class TransformerBlock(nn.Module):\n",
    "    def __init__(self,cfg):\n",
    "        super().__init__()\n",
    "        self.att=MultiHeadAttention(\n",
    "            d_in = cfg[\"emb_dim\"],\n",
    "            d_out=cfg[\"emb_dim\"],\n",
    "            context_length=cfg[\"context_length\"],\n",
    "            num_heads=cfg[\"n_heads\"],\n",
    "            dropout=cfg[\"drop_rate\"],\n",
    "            qkv_bias=cfg[\"qkv_bias\"]\n",
    "        )\n",
    "        self.ff=FeedForward(cfg)\n",
    "        self.norm1=LayerNorm(cfg[\"emb_dim\"])\n",
    "        self.norm2=LayerNorm(cfg[\"emb_dim\"])\n",
    "        self.drop_shortcut=nn.Dropout(cfg[\"drop_rate\"])\n",
    "    \n",
    "    def forward(self,x):\n",
    "        shortcut=x\n",
    "        x=self.norm1(x)\n",
    "        x=self.att(x)\n",
    "        x=self.drop_shortcut(x)\n",
    "        x=x+shortcut\n",
    "\n",
    "        shortcut=x\n",
    "        x=self.norm2(x)\n",
    "        x=self.ff(x)\n",
    "        x=self.drop_shortcut(x)\n",
    "        x=x+shortcut\n",
    "\n",
    "        return x\n",
    "\n",
    "\n",
    "\n",
    "        "
   ]
  },
  {
   "cell_type": "code",
   "execution_count": 28,
   "metadata": {},
   "outputs": [],
   "source": [
    "import torch.nn as nn \n",
    "class GPTModel(nn.Module):\n",
    "    def __init__(self, cfg):\n",
    "        super().__init__()\n",
    "        self.tok_emb = nn.Embedding(cfg[\"vocab_size\"], cfg[\"emb_dim\"])\n",
    "        self.pos_emb = nn.Embedding(cfg[\"context_length\"], cfg[\"emb_dim\"])\n",
    "        self.drop_emb = nn.Dropout(cfg[\"drop_rate\"])\n",
    "        \n",
    "        self.trf_blocks = nn.Sequential(\n",
    "            *[TransformerBlock(cfg) for _ in range(cfg[\"n_layers\"])])\n",
    "        \n",
    "        self.final_norm = LayerNorm(cfg[\"emb_dim\"])\n",
    "        self.out_head = nn.Linear(\n",
    "            cfg[\"emb_dim\"], cfg[\"vocab_size\"], bias=False\n",
    "        )\n",
    "\n",
    "    def forward(self, in_idx):\n",
    "        batch_size, seq_len = in_idx.shape\n",
    "        tok_embeds = self.tok_emb(in_idx)\n",
    "        pos_embeds = self.pos_emb(torch.arange(seq_len, device=in_idx.device))\n",
    "        x = tok_embeds + pos_embeds  # Shape [batch_size, num_tokens, emb_size]\n",
    "        x = self.drop_emb(x)\n",
    "        x = self.trf_blocks(x)\n",
    "        x = self.final_norm(x)\n",
    "        logits = self.out_head(x)\n",
    "        return logits\n",
    "\n",
    "torch.manual_seed(123)\n",
    "model = GPTModel(GPT_CONFIG_124M)\n",
    "model.eval();  # Disable dropout during inference"
   ]
  },
  {
   "cell_type": "code",
   "execution_count": 29,
   "metadata": {},
   "outputs": [],
   "source": [
    "def calc_loss_batch(input_batch, target_batch, model, device):\n",
    "    input_batch, target_batch = input_batch.to(device), target_batch.to(device)\n",
    "    logits = model(input_batch)\n",
    "    loss = torch.nn.functional.cross_entropy(logits.flatten(0, 1), target_batch.flatten())\n",
    "    return loss\n",
    "\n",
    "\n",
    "def calc_loss_loader(data_loader, model, device, num_batches=None):\n",
    "    total_loss = 0.\n",
    "    if len(data_loader) == 0:\n",
    "        return float(\"nan\")\n",
    "    elif num_batches is None:\n",
    "        num_batches = len(data_loader)\n",
    "    else:\n",
    "        # Reduce the number of batches to match the total number of batches in the data loader\n",
    "        # if num_batches exceeds the number of batches in the data loader\n",
    "        num_batches = min(num_batches, len(data_loader))\n",
    "    for i, (input_batch, target_batch) in enumerate(data_loader):\n",
    "        if i < num_batches:\n",
    "            loss = calc_loss_batch(input_batch, target_batch, model, device)\n",
    "            total_loss += loss.item()\n",
    "        else:\n",
    "            break\n",
    "    return total_loss / num_batches"
   ]
  },
  {
   "cell_type": "code",
   "execution_count": 11,
   "metadata": {},
   "outputs": [
    {
     "name": "stdout",
     "output_type": "stream",
     "text": [
      "Training loss: 10.98758347829183\n",
      "Validation loss: 10.98110580444336\n"
     ]
    }
   ],
   "source": [
    "device = torch.device(\"cuda\" if torch.cuda.is_available() else \"cpu\")\n",
    "\n",
    "# Note:\n",
    "# Uncommenting the following lines will allow the code to run on Apple Silicon chips, if applicable,\n",
    "# which is approximately 2x faster than on an Apple CPU (as measured on an M3 MacBook Air).\n",
    "# However, the resulting loss values may be slightly different.\n",
    "\n",
    "#if torch.cuda.is_available():\n",
    "#    device = torch.device(\"cuda\")\n",
    "#elif torch.backends.mps.is_available():\n",
    "#    device = torch.device(\"mps\")\n",
    "#else:\n",
    "#    device = torch.device(\"cpu\")\n",
    "#\n",
    "# print(f\"Using {device} device.\")\n",
    "\n",
    "\n",
    "model.to(device) # no assignment model = model.to(device) necessary for nn.Module classes\n",
    "\n",
    "\n",
    "torch.manual_seed(123) # For reproducibility due to the shuffling in the data loader\n",
    "\n",
    "with torch.no_grad(): # Disable gradient tracking for efficiency because we are not training, yet\n",
    "    train_loss = calc_loss_loader(train_loader, model, device)\n",
    "    val_loss = calc_loss_loader(val_loader, model, device)\n",
    "\n",
    "print(\"Training loss:\", train_loss)\n",
    "print(\"Validation loss:\", val_loss)"
   ]
  },
  {
   "cell_type": "markdown",
   "metadata": {},
   "source": [
    "### Training Loop"
   ]
  },
  {
   "cell_type": "code",
   "execution_count": 30,
   "metadata": {},
   "outputs": [],
   "source": [
    "def evaluate_model(model,train_loader,val_loader,device,eval_iter):\n",
    "    model.eval()\n",
    "    with torch.no_grad():\n",
    "        train_loss=calc_loss_loader(train_loader,model,device,num_batches=eval_iter)\n",
    "        val_loss=calc_loss_loader(val_loader,model,device,num_batches=eval_iter)\n",
    "    model.train()\n",
    "    return train_loss,val_loss"
   ]
  },
  {
   "cell_type": "code",
   "execution_count": 31,
   "metadata": {},
   "outputs": [
    {
     "name": "stdout",
     "output_type": "stream",
     "text": [
      "Output text:\n",
      " Every effort moves you rentingetic wasnم refres RexMeCHicular stren\n"
     ]
    }
   ],
   "source": [
    "def generate_text_simple(model, idx, max_new_tokens,context_size):\n",
    "    # idx is (batch,n_tokens)\n",
    "    for _ in range(max_new_tokens):\n",
    "        idx_cond=idx[:,-context_size:] #if input size > context size, we select only the lasr elements the size of context size\n",
    "\n",
    "        with torch.no_grad():\n",
    "            logits =model(idx_cond) #get predictions \n",
    "        \n",
    "        logits=logits[:,-1,:] # last row \n",
    "\n",
    "        # convert logits into probabilities by applying softmax\n",
    "\n",
    "        probas = torch.softmax(logits,dim=-1)\n",
    "\n",
    "        # Get the idx of the vocab entry with highest priority\n",
    "        idx_next =torch.argmax(probas, dim =-1 , keepdim =True )\n",
    "\n",
    "        # append it to the running sequence \n",
    "\n",
    "        idx= torch.cat((idx,idx_next),dim=-1)\n",
    "\n",
    "    return idx\n",
    "\n",
    "\n",
    "import tiktoken\n",
    "def text_to_token_ids(text,tokenizer):\n",
    "    encoded =tokenizer.encode(text,allowed_special={'<|endoftext|>'})\n",
    "    encoded_tensor=torch.tensor(encoded).unsqueeze(0) # adding batch dimension \n",
    "    return encoded_tensor\n",
    "\n",
    "def token_ids_to_text(token_ids,tokenizer):\n",
    "    flat=token_ids.squeeze(0) #remove batch dimension \n",
    "    return tokenizer.decode(flat.tolist())\n",
    "\n",
    "start_context =\"Every effort moves you\"\n",
    "tokenizer=tiktoken.get_encoding(\"gpt2\")\n",
    "\n",
    "token_ids =generate_text_simple(\n",
    "    model=model,\n",
    "    idx=text_to_token_ids(start_context,tokenizer),\n",
    "    max_new_tokens=10,\n",
    "    context_size=GPT_CONFIG_124M[\"context_length\"]\n",
    ")\n",
    "\n",
    "print(\"Output text:\\n\", token_ids_to_text(token_ids,tokenizer))"
   ]
  },
  {
   "cell_type": "code",
   "execution_count": 32,
   "metadata": {},
   "outputs": [],
   "source": [
    "def generate_and_print_sample(model,tokenizer,device,start_context):\n",
    "    model.eval()\n",
    "    context_size=model.pos_emb.weight.shape[0]\n",
    "    encoded=text_to_token_ids(start_context,tokenizer).to(device)\n",
    "    with torch.no_grad():\n",
    "        token_ids=generate_text_simple(\n",
    "            model=model,idx=encoded,\n",
    "            max_new_tokens=50,context_size=context_size\n",
    "        )\n",
    "    decoded_text=token_ids_to_text(token_ids,tokenizer)\n",
    "    print(decoded_text.replace(\"\\n\",\" \"))\n",
    "    model.train"
   ]
  },
  {
   "cell_type": "code",
   "execution_count": 33,
   "metadata": {},
   "outputs": [],
   "source": [
    "def train_model_simple(model,train_loader,val_loader,optimizer,device,num_epochs,eval_freq,eval_iter,start_context,tokenizer):\n",
    "    train_losses,val_losses, track_tokens_seen =[],[],[]\n",
    "    tokens_seen,global_step=0,-1\n",
    "\n",
    "    #Main training loop \n",
    "    for epoch in range(num_epochs):\n",
    "        model.train()# set model to training mode\n",
    "        for input_batch,target_batch in train_loader:\n",
    "            optimizer.zero_grad()\n",
    "            loss=calc_loss_batch(input_batch,target_batch,model,device)\n",
    "            loss.backward()#calculate loss gradients\n",
    "            optimizer.step()# update model weights using loss gradients\n",
    "            tokens_seen+=input_batch.numel() #returns total number of tokens\n",
    "            global_step+=1\n",
    "\n",
    "            #evaluation\n",
    "            if global_step % eval_freq ==0:\n",
    "                train_loss,val_loss=evaluate_model(\n",
    "                    model,train_loader,val_loader,device,eval_iter\n",
    "                )\n",
    "                train_losses.append(train_loss)\n",
    "                val_losses.append(val_loss)\n",
    "                track_tokens_seen.append(tokens_seen)\n",
    "                print(f\"Ep {epoch+1} (Step {global_step:06d}):\"\n",
    "                      f\"Train Loss {train_loss:.3f}, Val Loss {val_loss:.3f}\")\n",
    "        # print sample after each epoch\n",
    "        generate_and_print_sample(\n",
    "            model,tokenizer,device,start_context\n",
    "        )\n",
    "    return train_losses,val_losses,track_tokens_seen\n",
    "\n"
   ]
  },
  {
   "cell_type": "code",
   "execution_count": 17,
   "metadata": {},
   "outputs": [
    {
     "name": "stdout",
     "output_type": "stream",
     "text": [
      "Ep 1 (Step 000000):Train Loss 9.783, Val Loss 9.927\n",
      "Ep 1 (Step 000005):Train Loss 7.985, Val Loss 8.335\n",
      "Every effort moves you,,,,,,,,,,,,.                                     \n",
      "Ep 2 (Step 000010):Train Loss 6.753, Val Loss 7.048\n",
      "Ep 2 (Step 000015):Train Loss 6.114, Val Loss 6.573\n",
      "Every effort moves you, and,, and, and,,,,, and, and,,,,,,,,,,,,,, and,,,, and,, and,,,,, and,,,,,,\n",
      "Ep 3 (Step 000020):Train Loss 5.525, Val Loss 6.490\n",
      "Ep 3 (Step 000025):Train Loss 5.324, Val Loss 6.387\n",
      "Every effort moves you, and to the picture.                      \"I, and the of the of the's the honour, and, and I had been, and I\n",
      "Ep 4 (Step 000030):Train Loss 4.761, Val Loss 6.360\n",
      "Ep 4 (Step 000035):Train Loss 4.461, Val Loss 6.258\n",
      "Every effort moves you of the to the picture--as of the picture--as I had been \" it was his \" I was the     \"I was his I had been the his pictures--and it the picture and I had been the picture of\n",
      "Ep 5 (Step 000040):Train Loss 3.833, Val Loss 6.196\n",
      "Every effort moves you know the \"Oh, and he was not the fact by his last word.         \"I was.      \"Oh, I felt a little a little the    \n",
      "Ep 6 (Step 000045):Train Loss 3.352, Val Loss 6.139\n",
      "Ep 6 (Step 000050):Train Loss 2.861, Val Loss 6.112\n",
      "Every effort moves you know; and my dear, and he was not the fact with a little of the house of the fact of the fact, and.                       \n",
      "Ep 7 (Step 000055):Train Loss 2.347, Val Loss 6.138\n",
      "Ep 7 (Step 000060):Train Loss 2.084, Val Loss 6.179\n",
      "Every effort moves you know,\" was one of the picture for nothing--I told Mrs.  \"I looked--as of the fact, and I felt him--his back his head to the donkey. \"Oh, and_--because he had always _\n",
      "Ep 8 (Step 000065):Train Loss 1.521, Val Loss 6.176\n",
      "Ep 8 (Step 000070):Train Loss 1.272, Val Loss 6.178\n",
      "Every effort moves you?\" \"I didn't bear the picture--I told me.  \"I looked up, and went on groping and Mrs. I was back the head to look up at the honour being _mine_--because he was when I\n",
      "Ep 9 (Step 000075):Train Loss 1.000, Val Loss 6.277\n",
      "Ep 9 (Step 000080):Train Loss 0.718, Val Loss 6.281\n",
      "Every effort moves you?\"  \"Yes--quite insensible to the irony. She wanted him vindicated--and by me!\"  He laughed again, and threw back his head to look up at the sketch of the donkey. \"There were days when I\n",
      "Ep 10 (Step 000085):Train Loss 0.506, Val Loss 6.325\n",
      "Every effort moves you?\"  \"Yes--quite insensible to the irony. She wanted him vindicated--and by me!\"  He laughed again, and threw back his head to the donkey again. I saw that, and down the room, when I\n",
      "Training Completed in 19.73 minutes.\n"
     ]
    }
   ],
   "source": [
    "import time\n",
    "start_time=time.time()\n",
    "\n",
    "torch.manual_seed(123)\n",
    "model=GPTModel(GPT_CONFIG_124M)\n",
    "model.to(device)\n",
    "optimizer=torch.optim.AdamW(model.parameters(),lr=0.0004,weight_decay=0.1)\n",
    "\n",
    "num_epochs=10\n",
    "train_losses,val_losses,tokens_seen= train_model_simple(\n",
    "    model,train_loader,val_loader,optimizer,device,num_epochs=num_epochs,\n",
    "    eval_freq=5,eval_iter=5,start_context=\"Every effort moves you\",tokenizer=tokenizer\n",
    ")\n",
    "\n",
    "end_time=time.time()\n",
    "execution_time_minutes=(end_time - start_time)/60\n",
    "print(f\"Training Completed in {execution_time_minutes:.2f} minutes.\")\n"
   ]
  },
  {
   "cell_type": "code",
   "execution_count": 18,
   "metadata": {},
   "outputs": [
    {
     "name": "stdout",
     "output_type": "stream",
     "text": [
      "whats your name? It was not that my hostess was \"interesting\": on that point I could have given Miss Croft the fullest reassurance. It was just because she was _not_ interesting--if I saw that, a fashionable painter--that I was not\n"
     ]
    }
   ],
   "source": [
    "generate_and_print_sample(\n",
    "            model,tokenizer,device,\"whats your name?\"\n",
    "        )"
   ]
  },
  {
   "cell_type": "code",
   "execution_count": 19,
   "metadata": {},
   "outputs": [
    {
     "name": "stdout",
     "output_type": "stream",
     "text": [
      "Requirement already satisfied: matplotlib in ./venv/lib/python3.12/site-packages (3.10.3)\n",
      "Requirement already satisfied: contourpy>=1.0.1 in ./venv/lib/python3.12/site-packages (from matplotlib) (1.3.2)\n",
      "Requirement already satisfied: cycler>=0.10 in ./venv/lib/python3.12/site-packages (from matplotlib) (0.12.1)\n",
      "Requirement already satisfied: fonttools>=4.22.0 in ./venv/lib/python3.12/site-packages (from matplotlib) (4.59.0)\n",
      "Requirement already satisfied: kiwisolver>=1.3.1 in ./venv/lib/python3.12/site-packages (from matplotlib) (1.4.8)\n",
      "Requirement already satisfied: numpy>=1.23 in ./venv/lib/python3.12/site-packages (from matplotlib) (2.1.3)\n",
      "Requirement already satisfied: packaging>=20.0 in ./venv/lib/python3.12/site-packages (from matplotlib) (25.0)\n",
      "Requirement already satisfied: pillow>=8 in ./venv/lib/python3.12/site-packages (from matplotlib) (11.0.0)\n",
      "Requirement already satisfied: pyparsing>=2.3.1 in ./venv/lib/python3.12/site-packages (from matplotlib) (3.2.3)\n",
      "Requirement already satisfied: python-dateutil>=2.7 in ./venv/lib/python3.12/site-packages (from matplotlib) (2.9.0.post0)\n",
      "Requirement already satisfied: six>=1.5 in ./venv/lib/python3.12/site-packages (from python-dateutil>=2.7->matplotlib) (1.17.0)\n",
      "Note: you may need to restart the kernel to use updated packages.\n"
     ]
    }
   ],
   "source": [
    "pip install matplotlib"
   ]
  },
  {
   "cell_type": "code",
   "execution_count": 20,
   "metadata": {},
   "outputs": [
    {
     "data": {
      "image/png": "[encoded data removed]",
      "text/plain": [
       "<Figure size 500x300 with 2 Axes>"
      ]
     },
     "metadata": {},
     "output_type": "display_data"
    }
   ],
   "source": [
    "import matplotlib.pyplot as plt\n",
    "from matplotlib.ticker import MaxNLocator\n",
    "\n",
    "\n",
    "def plot_losses(epochs_seen, tokens_seen, train_losses, val_losses):\n",
    "    fig, ax1 = plt.subplots(figsize=(5, 3))\n",
    "\n",
    "    # Plot training and validation loss against epochs\n",
    "    ax1.plot(epochs_seen, train_losses, label=\"Training loss\")\n",
    "    ax1.plot(epochs_seen, val_losses, linestyle=\"-.\", label=\"Validation loss\")\n",
    "    ax1.set_xlabel(\"Epochs\")\n",
    "    ax1.set_ylabel(\"Loss\")\n",
    "    ax1.legend(loc=\"upper right\")\n",
    "    ax1.xaxis.set_major_locator(MaxNLocator(integer=True))  # only show integer labels on x-axis\n",
    "\n",
    "    # Create a second x-axis for tokens seen\n",
    "    ax2 = ax1.twiny()  # Create a second x-axis that shares the same y-axis\n",
    "    ax2.plot(tokens_seen, train_losses, alpha=0)  # Invisible plot for aligning ticks\n",
    "    ax2.set_xlabel(\"Tokens seen\")\n",
    "\n",
    "    fig.tight_layout()  # Adjust layout to make room\n",
    "    plt.savefig(\"loss-plot.pdf\")\n",
    "    plt.show()\n",
    "\n",
    "epochs_tensor = torch.linspace(0, num_epochs, len(train_losses))\n",
    "plot_losses(epochs_tensor, tokens_seen, train_losses, val_losses)"
   ]
  },
  {
   "cell_type": "markdown",
   "metadata": {},
   "source": [
    "### Decoding Strats to control randomness"
   ]
  },
  {
   "cell_type": "code",
   "execution_count": 21,
   "metadata": {},
   "outputs": [
    {
     "data": {
      "text/plain": [
       "GPTModel(\n",
       "  (tok_emb): Embedding(50257, 768)\n",
       "  (pos_emb): Embedding(256, 768)\n",
       "  (drop_emb): Dropout(p=0.1, inplace=False)\n",
       "  (trf_blocks): Sequential(\n",
       "    (0): TransformerBlock(\n",
       "      (att): MultiHeadAttention(\n",
       "        (W_query): Linear(in_features=768, out_features=768, bias=False)\n",
       "        (W_key): Linear(in_features=768, out_features=768, bias=False)\n",
       "        (W_value): Linear(in_features=768, out_features=768, bias=False)\n",
       "        (out_proj): Linear(in_features=768, out_features=768, bias=True)\n",
       "        (dropout): Dropout(p=0.1, inplace=False)\n",
       "      )\n",
       "      (ff): FeedForward(\n",
       "        (layers): Sequential(\n",
       "          (0): Linear(in_features=768, out_features=3072, bias=True)\n",
       "          (1): GELU()\n",
       "          (2): Linear(in_features=3072, out_features=768, bias=True)\n",
       "        )\n",
       "      )\n",
       "      (norm1): LayerNorm()\n",
       "      (norm2): LayerNorm()\n",
       "      (drop_shortcut): Dropout(p=0.1, inplace=False)\n",
       "    )\n",
       "    (1): TransformerBlock(\n",
       "      (att): MultiHeadAttention(\n",
       "        (W_query): Linear(in_features=768, out_features=768, bias=False)\n",
       "        (W_key): Linear(in_features=768, out_features=768, bias=False)\n",
       "        (W_value): Linear(in_features=768, out_features=768, bias=False)\n",
       "        (out_proj): Linear(in_features=768, out_features=768, bias=True)\n",
       "        (dropout): Dropout(p=0.1, inplace=False)\n",
       "      )\n",
       "      (ff): FeedForward(\n",
       "        (layers): Sequential(\n",
       "          (0): Linear(in_features=768, out_features=3072, bias=True)\n",
       "          (1): GELU()\n",
       "          (2): Linear(in_features=3072, out_features=768, bias=True)\n",
       "        )\n",
       "      )\n",
       "      (norm1): LayerNorm()\n",
       "      (norm2): LayerNorm()\n",
       "      (drop_shortcut): Dropout(p=0.1, inplace=False)\n",
       "    )\n",
       "    (2): TransformerBlock(\n",
       "      (att): MultiHeadAttention(\n",
       "        (W_query): Linear(in_features=768, out_features=768, bias=False)\n",
       "        (W_key): Linear(in_features=768, out_features=768, bias=False)\n",
       "        (W_value): Linear(in_features=768, out_features=768, bias=False)\n",
       "        (out_proj): Linear(in_features=768, out_features=768, bias=True)\n",
       "        (dropout): Dropout(p=0.1, inplace=False)\n",
       "      )\n",
       "      (ff): FeedForward(\n",
       "        (layers): Sequential(\n",
       "          (0): Linear(in_features=768, out_features=3072, bias=True)\n",
       "          (1): GELU()\n",
       "          (2): Linear(in_features=3072, out_features=768, bias=True)\n",
       "        )\n",
       "      )\n",
       "      (norm1): LayerNorm()\n",
       "      (norm2): LayerNorm()\n",
       "      (drop_shortcut): Dropout(p=0.1, inplace=False)\n",
       "    )\n",
       "    (3): TransformerBlock(\n",
       "      (att): MultiHeadAttention(\n",
       "        (W_query): Linear(in_features=768, out_features=768, bias=False)\n",
       "        (W_key): Linear(in_features=768, out_features=768, bias=False)\n",
       "        (W_value): Linear(in_features=768, out_features=768, bias=False)\n",
       "        (out_proj): Linear(in_features=768, out_features=768, bias=True)\n",
       "        (dropout): Dropout(p=0.1, inplace=False)\n",
       "      )\n",
       "      (ff): FeedForward(\n",
       "        (layers): Sequential(\n",
       "          (0): Linear(in_features=768, out_features=3072, bias=True)\n",
       "          (1): GELU()\n",
       "          (2): Linear(in_features=3072, out_features=768, bias=True)\n",
       "        )\n",
       "      )\n",
       "      (norm1): LayerNorm()\n",
       "      (norm2): LayerNorm()\n",
       "      (drop_shortcut): Dropout(p=0.1, inplace=False)\n",
       "    )\n",
       "    (4): TransformerBlock(\n",
       "      (att): MultiHeadAttention(\n",
       "        (W_query): Linear(in_features=768, out_features=768, bias=False)\n",
       "        (W_key): Linear(in_features=768, out_features=768, bias=False)\n",
       "        (W_value): Linear(in_features=768, out_features=768, bias=False)\n",
       "        (out_proj): Linear(in_features=768, out_features=768, bias=True)\n",
       "        (dropout): Dropout(p=0.1, inplace=False)\n",
       "      )\n",
       "      (ff): FeedForward(\n",
       "        (layers): Sequential(\n",
       "          (0): Linear(in_features=768, out_features=3072, bias=True)\n",
       "          (1): GELU()\n",
       "          (2): Linear(in_features=3072, out_features=768, bias=True)\n",
       "        )\n",
       "      )\n",
       "      (norm1): LayerNorm()\n",
       "      (norm2): LayerNorm()\n",
       "      (drop_shortcut): Dropout(p=0.1, inplace=False)\n",
       "    )\n",
       "    (5): TransformerBlock(\n",
       "      (att): MultiHeadAttention(\n",
       "        (W_query): Linear(in_features=768, out_features=768, bias=False)\n",
       "        (W_key): Linear(in_features=768, out_features=768, bias=False)\n",
       "        (W_value): Linear(in_features=768, out_features=768, bias=False)\n",
       "        (out_proj): Linear(in_features=768, out_features=768, bias=True)\n",
       "        (dropout): Dropout(p=0.1, inplace=False)\n",
       "      )\n",
       "      (ff): FeedForward(\n",
       "        (layers): Sequential(\n",
       "          (0): Linear(in_features=768, out_features=3072, bias=True)\n",
       "          (1): GELU()\n",
       "          (2): Linear(in_features=3072, out_features=768, bias=True)\n",
       "        )\n",
       "      )\n",
       "      (norm1): LayerNorm()\n",
       "      (norm2): LayerNorm()\n",
       "      (drop_shortcut): Dropout(p=0.1, inplace=False)\n",
       "    )\n",
       "    (6): TransformerBlock(\n",
       "      (att): MultiHeadAttention(\n",
       "        (W_query): Linear(in_features=768, out_features=768, bias=False)\n",
       "        (W_key): Linear(in_features=768, out_features=768, bias=False)\n",
       "        (W_value): Linear(in_features=768, out_features=768, bias=False)\n",
       "        (out_proj): Linear(in_features=768, out_features=768, bias=True)\n",
       "        (dropout): Dropout(p=0.1, inplace=False)\n",
       "      )\n",
       "      (ff): FeedForward(\n",
       "        (layers): Sequential(\n",
       "          (0): Linear(in_features=768, out_features=3072, bias=True)\n",
       "          (1): GELU()\n",
       "          (2): Linear(in_features=3072, out_features=768, bias=True)\n",
       "        )\n",
       "      )\n",
       "      (norm1): LayerNorm()\n",
       "      (norm2): LayerNorm()\n",
       "      (drop_shortcut): Dropout(p=0.1, inplace=False)\n",
       "    )\n",
       "    (7): TransformerBlock(\n",
       "      (att): MultiHeadAttention(\n",
       "        (W_query): Linear(in_features=768, out_features=768, bias=False)\n",
       "        (W_key): Linear(in_features=768, out_features=768, bias=False)\n",
       "        (W_value): Linear(in_features=768, out_features=768, bias=False)\n",
       "        (out_proj): Linear(in_features=768, out_features=768, bias=True)\n",
       "        (dropout): Dropout(p=0.1, inplace=False)\n",
       "      )\n",
       "      (ff): FeedForward(\n",
       "        (layers): Sequential(\n",
       "          (0): Linear(in_features=768, out_features=3072, bias=True)\n",
       "          (1): GELU()\n",
       "          (2): Linear(in_features=3072, out_features=768, bias=True)\n",
       "        )\n",
       "      )\n",
       "      (norm1): LayerNorm()\n",
       "      (norm2): LayerNorm()\n",
       "      (drop_shortcut): Dropout(p=0.1, inplace=False)\n",
       "    )\n",
       "    (8): TransformerBlock(\n",
       "      (att): MultiHeadAttention(\n",
       "        (W_query): Linear(in_features=768, out_features=768, bias=False)\n",
       "        (W_key): Linear(in_features=768, out_features=768, bias=False)\n",
       "        (W_value): Linear(in_features=768, out_features=768, bias=False)\n",
       "        (out_proj): Linear(in_features=768, out_features=768, bias=True)\n",
       "        (dropout): Dropout(p=0.1, inplace=False)\n",
       "      )\n",
       "      (ff): FeedForward(\n",
       "        (layers): Sequential(\n",
       "          (0): Linear(in_features=768, out_features=3072, bias=True)\n",
       "          (1): GELU()\n",
       "          (2): Linear(in_features=3072, out_features=768, bias=True)\n",
       "        )\n",
       "      )\n",
       "      (norm1): LayerNorm()\n",
       "      (norm2): LayerNorm()\n",
       "      (drop_shortcut): Dropout(p=0.1, inplace=False)\n",
       "    )\n",
       "    (9): TransformerBlock(\n",
       "      (att): MultiHeadAttention(\n",
       "        (W_query): Linear(in_features=768, out_features=768, bias=False)\n",
       "        (W_key): Linear(in_features=768, out_features=768, bias=False)\n",
       "        (W_value): Linear(in_features=768, out_features=768, bias=False)\n",
       "        (out_proj): Linear(in_features=768, out_features=768, bias=True)\n",
       "        (dropout): Dropout(p=0.1, inplace=False)\n",
       "      )\n",
       "      (ff): FeedForward(\n",
       "        (layers): Sequential(\n",
       "          (0): Linear(in_features=768, out_features=3072, bias=True)\n",
       "          (1): GELU()\n",
       "          (2): Linear(in_features=3072, out_features=768, bias=True)\n",
       "        )\n",
       "      )\n",
       "      (norm1): LayerNorm()\n",
       "      (norm2): LayerNorm()\n",
       "      (drop_shortcut): Dropout(p=0.1, inplace=False)\n",
       "    )\n",
       "    (10): TransformerBlock(\n",
       "      (att): MultiHeadAttention(\n",
       "        (W_query): Linear(in_features=768, out_features=768, bias=False)\n",
       "        (W_key): Linear(in_features=768, out_features=768, bias=False)\n",
       "        (W_value): Linear(in_features=768, out_features=768, bias=False)\n",
       "        (out_proj): Linear(in_features=768, out_features=768, bias=True)\n",
       "        (dropout): Dropout(p=0.1, inplace=False)\n",
       "      )\n",
       "      (ff): FeedForward(\n",
       "        (layers): Sequential(\n",
       "          (0): Linear(in_features=768, out_features=3072, bias=True)\n",
       "          (1): GELU()\n",
       "          (2): Linear(in_features=3072, out_features=768, bias=True)\n",
       "        )\n",
       "      )\n",
       "      (norm1): LayerNorm()\n",
       "      (norm2): LayerNorm()\n",
       "      (drop_shortcut): Dropout(p=0.1, inplace=False)\n",
       "    )\n",
       "    (11): TransformerBlock(\n",
       "      (att): MultiHeadAttention(\n",
       "        (W_query): Linear(in_features=768, out_features=768, bias=False)\n",
       "        (W_key): Linear(in_features=768, out_features=768, bias=False)\n",
       "        (W_value): Linear(in_features=768, out_features=768, bias=False)\n",
       "        (out_proj): Linear(in_features=768, out_features=768, bias=True)\n",
       "        (dropout): Dropout(p=0.1, inplace=False)\n",
       "      )\n",
       "      (ff): FeedForward(\n",
       "        (layers): Sequential(\n",
       "          (0): Linear(in_features=768, out_features=3072, bias=True)\n",
       "          (1): GELU()\n",
       "          (2): Linear(in_features=3072, out_features=768, bias=True)\n",
       "        )\n",
       "      )\n",
       "      (norm1): LayerNorm()\n",
       "      (norm2): LayerNorm()\n",
       "      (drop_shortcut): Dropout(p=0.1, inplace=False)\n",
       "    )\n",
       "  )\n",
       "  (final_norm): LayerNorm()\n",
       "  (out_head): Linear(in_features=768, out_features=50257, bias=False)\n",
       ")"
      ]
     },
     "execution_count": 21,
     "metadata": {},
     "output_type": "execute_result"
    }
   ],
   "source": [
    "model.to(\"cpu\")\n",
    "model.eval()"
   ]
  },
  {
   "cell_type": "code",
   "execution_count": 22,
   "metadata": {},
   "outputs": [
    {
     "name": "stdout",
     "output_type": "stream",
     "text": [
      "Output text:\n",
      " Every effort moves you?\"\n",
      "\n",
      "\"Yes--quite insensible to the irony. She wanted him vindicated--and by me!\"\n",
      "\n",
      "\n"
     ]
    }
   ],
   "source": [
    "tokenizer=tiktoken.get_encoding(\"gpt2\")\n",
    "token_ids=generate_text_simple(\n",
    "    model=model,\n",
    "    idx=text_to_token_ids(\"Every effort moves you\",tokenizer),\n",
    "    max_new_tokens=25,\n",
    "    context_size=GPT_CONFIG_124M[\"context_length\"]\n",
    ")\n",
    "print(\"Output text:\\n\",token_ids_to_text(token_ids,tokenizer))"
   ]
  },
  {
   "cell_type": "markdown",
   "metadata": {},
   "source": [
    "### Decoding strategy 1: Temperature Scaling"
   ]
  },
  {
   "cell_type": "code",
   "execution_count": 23,
   "metadata": {},
   "outputs": [],
   "source": [
    "#use multinomial sampling\n",
    "vocab = { \n",
    "    \"closer\": 0,\n",
    "    \"every\": 1, \n",
    "    \"effort\": 2, \n",
    "    \"forward\": 3,\n",
    "    \"inches\": 4,\n",
    "    \"moves\": 5, \n",
    "    \"pizza\": 6,\n",
    "    \"toward\": 7,\n",
    "    \"you\": 8,\n",
    "} \n",
    "\n",
    "inverse_vocab = {v: k for k, v in vocab.items()}"
   ]
  },
  {
   "cell_type": "code",
   "execution_count": 24,
   "metadata": {},
   "outputs": [],
   "source": [
    "next_token_logits = torch.tensor(\n",
    "[4.51, 0.89, -1.90, 6.75, 1.63, -1.62, -1.89, 6.28, 1.79]\n",
    ")\n",
    "\n",
    "next_token_logits2 = next_token_logits/0.1\n",
    "\n",
    "next_token_logits3 = next_token_logits/5"
   ]
  },
  {
   "cell_type": "code",
   "execution_count": 25,
   "metadata": {},
   "outputs": [
    {
     "name": "stdout",
     "output_type": "stream",
     "text": [
      "tensor([1.8530e-10, 3.5189e-26, 2.6890e-38, 9.9099e-01, 5.7569e-23, 4.4220e-37,\n",
      "        2.9718e-38, 9.0133e-03, 2.8514e-22])\n"
     ]
    }
   ],
   "source": [
    "probas = torch.softmax(next_token_logits2, dim=0)\n",
    "\n",
    "print(probas)\n",
    "\n"
   ]
  },
  {
   "cell_type": "code",
   "execution_count": 26,
   "metadata": {},
   "outputs": [
    {
     "name": "stdout",
     "output_type": "stream",
     "text": [
      "tensor([0.1546, 0.0750, 0.0429, 0.2421, 0.0869, 0.0454, 0.0430, 0.2203, 0.0898])\n"
     ]
    }
   ],
   "source": [
    "probas = torch.softmax(next_token_logits3, dim=0)\n",
    "\n",
    "print(probas)"
   ]
  },
  {
   "cell_type": "code",
   "execution_count": 27,
   "metadata": {},
   "outputs": [
    {
     "name": "stdout",
     "output_type": "stream",
     "text": [
      "tensor([6.0907e-02, 1.6313e-03, 1.0019e-04, 5.7212e-01, 3.4190e-03, 1.3257e-04,\n",
      "        1.0120e-04, 3.5758e-01, 4.0122e-03])\n",
      "3\n",
      "forward\n"
     ]
    }
   ],
   "source": [
    "probas = torch.softmax(next_token_logits, dim=0)\n",
    "\n",
    "print(probas)\n",
    "\n",
    "next_token_id = torch.argmax(probas).item()\n",
    "\n",
    "print(next_token_id)\n",
    "\n",
    "print(inverse_vocab[next_token_id])"
   ]
  },
  {
   "cell_type": "code",
   "execution_count": 28,
   "metadata": {},
   "outputs": [
    {
     "name": "stdout",
     "output_type": "stream",
     "text": [
      "toward\n"
     ]
    }
   ],
   "source": [
    "torch.manual_seed(123)\n",
    "next_token_id = torch.multinomial(probas, num_samples=1).item()\n",
    "print(inverse_vocab[next_token_id])"
   ]
  },
  {
   "cell_type": "code",
   "execution_count": 29,
   "metadata": {},
   "outputs": [
    {
     "name": "stdout",
     "output_type": "stream",
     "text": [
      "71 x closer\n",
      "2 x every\n",
      "0 x effort\n",
      "544 x forward\n",
      "2 x inches\n",
      "1 x moves\n",
      "0 x pizza\n",
      "376 x toward\n",
      "4 x you\n"
     ]
    }
   ],
   "source": [
    "def print_sampled_tokens(probas):\n",
    "    torch.manual_seed(123) # Manual seed for reproducibility\n",
    "    sample = [torch.multinomial(probas, num_samples=1).item() for i in range(1_000)]\n",
    "    sampled_ids = torch.bincount(torch.tensor(sample))\n",
    "    for i, freq in enumerate(sampled_ids):\n",
    "        print(f\"{freq} x {inverse_vocab[i]}\")\n",
    "\n",
    "print_sampled_tokens(probas)"
   ]
  },
  {
   "cell_type": "code",
   "execution_count": 30,
   "metadata": {},
   "outputs": [],
   "source": [
    "def softmax_with_temperature(logits, temperature):\n",
    "    scaled_logits = logits / temperature\n",
    "    return torch.softmax(scaled_logits, dim=0)\n",
    "\n",
    "# Temperature values\n",
    "temperatures = [1, 0.1, 5]  # Original, higher confidence, and lower confidence\n",
    "\n",
    "# Calculate scaled probabilities\n",
    "scaled_probas = [softmax_with_temperature(next_token_logits, T) for T in temperatures]\n",
    "\n",
    "##Multinomial"
   ]
  },
  {
   "cell_type": "code",
   "execution_count": 31,
   "metadata": {},
   "outputs": [
    {
     "data": {
      "image/png": "[encoded data removed]",
      "text/plain": [
       "<Figure size 500x300 with 1 Axes>"
      ]
     },
     "metadata": {},
     "output_type": "display_data"
    }
   ],
   "source": [
    "# Plotting\n",
    "x = torch.arange(len(vocab))\n",
    "bar_width = 0.15\n",
    "\n",
    "fig, ax = plt.subplots(figsize=(5, 3))\n",
    "for i, T in enumerate(temperatures):\n",
    "    rects = ax.bar(x + i * bar_width, scaled_probas[i], bar_width, label=f'Temperature = {T}')\n",
    "\n",
    "ax.set_ylabel('Probability')\n",
    "ax.set_xticks(x)\n",
    "ax.set_xticklabels(vocab.keys(), rotation=90)\n",
    "ax.legend()\n",
    "\n",
    "plt.tight_layout()\n",
    "plt.savefig(\"temperature-plot.pdf\")\n",
    "plt.show()"
   ]
  },
  {
   "cell_type": "markdown",
   "metadata": {},
   "source": [
    "### Decoding Strategy 2: Top-k Scaling"
   ]
  },
  {
   "cell_type": "code",
   "execution_count": 32,
   "metadata": {},
   "outputs": [
    {
     "name": "stdout",
     "output_type": "stream",
     "text": [
      "Top logits: tensor([6.7500, 6.2800, 4.5100])\n",
      "Top positions: tensor([3, 7, 0])\n"
     ]
    }
   ],
   "source": [
    "top_k=3\n",
    "top_logits,top_pos=torch.topk(next_token_logits,top_k)\n",
    "print(\"Top logits:\",top_logits)\n",
    "print(\"Top positions:\", top_pos)"
   ]
  },
  {
   "cell_type": "code",
   "execution_count": 33,
   "metadata": {},
   "outputs": [
    {
     "name": "stdout",
     "output_type": "stream",
     "text": [
      "tensor([4.5100,   -inf,   -inf, 6.7500,   -inf,   -inf,   -inf, 6.2800,   -inf])\n"
     ]
    }
   ],
   "source": [
    "new_logits=torch.where(\n",
    "    condition=next_token_logits < top_logits[-1],\n",
    "    input=torch.tensor(float(\"-inf\")),\n",
    "    other=next_token_logits\n",
    ")\n",
    "print(new_logits)"
   ]
  },
  {
   "cell_type": "code",
   "execution_count": 34,
   "metadata": {},
   "outputs": [
    {
     "name": "stdout",
     "output_type": "stream",
     "text": [
      "tensor([0.0615, 0.0000, 0.0000, 0.5775, 0.0000, 0.0000, 0.0000, 0.3610, 0.0000])\n"
     ]
    }
   ],
   "source": [
    "topk_probas=torch.softmax(new_logits,dim=0)\n",
    "print(topk_probas)"
   ]
  },
  {
   "cell_type": "markdown",
   "metadata": {},
   "source": [
    "### Merging topk and temperature scaling"
   ]
  },
  {
   "cell_type": "code",
   "execution_count": 16,
   "metadata": {},
   "outputs": [],
   "source": [
    "def generate(model,idx,max_new_tokens,context_size,temperature=0.0,top_k=None,eos_id=None):\n",
    "    for _ in range(max_new_tokens):\n",
    "        idx_cond=idx[:,-context_size:]\n",
    "        with torch.no_grad():\n",
    "            logits=model(idx_cond)\n",
    "        logits=logits[:,-1,:]\n",
    "\n",
    "        if top_k is not None:\n",
    "            # keep topk values\n",
    "            top_logits,_ = torch.topk(logits,top_k)\n",
    "            min_val=top_logits[:,-1]\n",
    "            logits=torch.where(logits < min_val, torch.tensor(float(\"-inf\")).to(logits.device),logits)\n",
    "\n",
    "\n",
    "        #apply temp scaling\n",
    "        if temperature >0.0:\n",
    "            logits=logits/temperature\n",
    "\n",
    "            # softmax\n",
    "            probs=torch.softmax(logits,dim=-1) # (batch_size,context_len)\n",
    "\n",
    "            #sample from distribution \n",
    "            idx_next=torch.multinomial(probs,num_samples=1)\n",
    "        \n",
    "        #otherwise same as before\n",
    "        else:\n",
    "            idx_next=torch.argmax(logits,dim=-1,keepdim=True)\n",
    "        \n",
    "\n",
    "        if idx_next== eos_id:\n",
    "            break\n",
    "        \n",
    "        # append sampled text to the sequence\n",
    "        idx=torch.cat((idx,idx_next),dim=1)\n",
    "\n",
    "    return idx"
   ]
  },
  {
   "cell_type": "code",
   "execution_count": 36,
   "metadata": {},
   "outputs": [
    {
     "name": "stdout",
     "output_type": "stream",
     "text": [
      "Output text:\n",
      " Every effort moves you know began to my surprise, a little it was the\n",
      "\"Ah enough\n"
     ]
    }
   ],
   "source": [
    "torch.manual_seed(123)\n",
    "token_ids=generate(\n",
    "    model=model,\n",
    "    idx=text_to_token_ids(\"Every effort moves you\",tokenizer),\n",
    "    max_new_tokens=15,\n",
    "    context_size=GPT_CONFIG_124M[\"context_length\"],\n",
    "    top_k=25,\n",
    "    temperature=1.4\n",
    ")\n",
    "print(\"Output text:\\n\",token_ids_to_text(token_ids,tokenizer))"
   ]
  },
  {
   "cell_type": "markdown",
   "metadata": {},
   "source": [
    "### Loading and saving model weights"
   ]
  },
  {
   "cell_type": "code",
   "execution_count": 37,
   "metadata": {},
   "outputs": [],
   "source": [
    "model=GPTModel(GPT_CONFIG_124M)\n",
    "torch.save(model.state_dict(),\"model.pth\")"
   ]
  },
  {
   "cell_type": "code",
   "execution_count": 38,
   "metadata": {},
   "outputs": [
    {
     "name": "stderr",
     "output_type": "stream",
     "text": [
      "/tmp/ipykernel_43641/2906731100.py:2: FutureWarning: You are using `torch.load` with `weights_only=False` (the current default value), which uses the default pickle module implicitly. It is possible to construct malicious pickle data which will execute arbitrary code during unpickling (See https://github.com/pytorch/pytorch/blob/main/SECURITY.md#untrusted-models for more details). In a future release, the default value for `weights_only` will be flipped to `True`. This limits the functions that could be executed during unpickling. Arbitrary objects will no longer be allowed to be loaded via this mode unless they are explicitly allowlisted by the user via `torch.serialization.add_safe_globals`. We recommend you start setting `weights_only=True` for any use case where you don't have full control of the loaded file. Please open an issue on GitHub for any issues related to this experimental feature.\n",
      "  model.load_state_dict(torch.load(\"model.pth\"))\n"
     ]
    },
    {
     "data": {
      "text/plain": [
       "GPTModel(\n",
       "  (tok_emb): Embedding(50257, 768)\n",
       "  (pos_emb): Embedding(256, 768)\n",
       "  (drop_emb): Dropout(p=0.1, inplace=False)\n",
       "  (trf_blocks): Sequential(\n",
       "    (0): TransformerBlock(\n",
       "      (att): MultiHeadAttention(\n",
       "        (W_query): Linear(in_features=768, out_features=768, bias=False)\n",
       "        (W_key): Linear(in_features=768, out_features=768, bias=False)\n",
       "        (W_value): Linear(in_features=768, out_features=768, bias=False)\n",
       "        (out_proj): Linear(in_features=768, out_features=768, bias=True)\n",
       "        (dropout): Dropout(p=0.1, inplace=False)\n",
       "      )\n",
       "      (ff): FeedForward(\n",
       "        (layers): Sequential(\n",
       "          (0): Linear(in_features=768, out_features=3072, bias=True)\n",
       "          (1): GELU()\n",
       "          (2): Linear(in_features=3072, out_features=768, bias=True)\n",
       "        )\n",
       "      )\n",
       "      (norm1): LayerNorm()\n",
       "      (norm2): LayerNorm()\n",
       "      (drop_shortcut): Dropout(p=0.1, inplace=False)\n",
       "    )\n",
       "    (1): TransformerBlock(\n",
       "      (att): MultiHeadAttention(\n",
       "        (W_query): Linear(in_features=768, out_features=768, bias=False)\n",
       "        (W_key): Linear(in_features=768, out_features=768, bias=False)\n",
       "        (W_value): Linear(in_features=768, out_features=768, bias=False)\n",
       "        (out_proj): Linear(in_features=768, out_features=768, bias=True)\n",
       "        (dropout): Dropout(p=0.1, inplace=False)\n",
       "      )\n",
       "      (ff): FeedForward(\n",
       "        (layers): Sequential(\n",
       "          (0): Linear(in_features=768, out_features=3072, bias=True)\n",
       "          (1): GELU()\n",
       "          (2): Linear(in_features=3072, out_features=768, bias=True)\n",
       "        )\n",
       "      )\n",
       "      (norm1): LayerNorm()\n",
       "      (norm2): LayerNorm()\n",
       "      (drop_shortcut): Dropout(p=0.1, inplace=False)\n",
       "    )\n",
       "    (2): TransformerBlock(\n",
       "      (att): MultiHeadAttention(\n",
       "        (W_query): Linear(in_features=768, out_features=768, bias=False)\n",
       "        (W_key): Linear(in_features=768, out_features=768, bias=False)\n",
       "        (W_value): Linear(in_features=768, out_features=768, bias=False)\n",
       "        (out_proj): Linear(in_features=768, out_features=768, bias=True)\n",
       "        (dropout): Dropout(p=0.1, inplace=False)\n",
       "      )\n",
       "      (ff): FeedForward(\n",
       "        (layers): Sequential(\n",
       "          (0): Linear(in_features=768, out_features=3072, bias=True)\n",
       "          (1): GELU()\n",
       "          (2): Linear(in_features=3072, out_features=768, bias=True)\n",
       "        )\n",
       "      )\n",
       "      (norm1): LayerNorm()\n",
       "      (norm2): LayerNorm()\n",
       "      (drop_shortcut): Dropout(p=0.1, inplace=False)\n",
       "    )\n",
       "    (3): TransformerBlock(\n",
       "      (att): MultiHeadAttention(\n",
       "        (W_query): Linear(in_features=768, out_features=768, bias=False)\n",
       "        (W_key): Linear(in_features=768, out_features=768, bias=False)\n",
       "        (W_value): Linear(in_features=768, out_features=768, bias=False)\n",
       "        (out_proj): Linear(in_features=768, out_features=768, bias=True)\n",
       "        (dropout): Dropout(p=0.1, inplace=False)\n",
       "      )\n",
       "      (ff): FeedForward(\n",
       "        (layers): Sequential(\n",
       "          (0): Linear(in_features=768, out_features=3072, bias=True)\n",
       "          (1): GELU()\n",
       "          (2): Linear(in_features=3072, out_features=768, bias=True)\n",
       "        )\n",
       "      )\n",
       "      (norm1): LayerNorm()\n",
       "      (norm2): LayerNorm()\n",
       "      (drop_shortcut): Dropout(p=0.1, inplace=False)\n",
       "    )\n",
       "    (4): TransformerBlock(\n",
       "      (att): MultiHeadAttention(\n",
       "        (W_query): Linear(in_features=768, out_features=768, bias=False)\n",
       "        (W_key): Linear(in_features=768, out_features=768, bias=False)\n",
       "        (W_value): Linear(in_features=768, out_features=768, bias=False)\n",
       "        (out_proj): Linear(in_features=768, out_features=768, bias=True)\n",
       "        (dropout): Dropout(p=0.1, inplace=False)\n",
       "      )\n",
       "      (ff): FeedForward(\n",
       "        (layers): Sequential(\n",
       "          (0): Linear(in_features=768, out_features=3072, bias=True)\n",
       "          (1): GELU()\n",
       "          (2): Linear(in_features=3072, out_features=768, bias=True)\n",
       "        )\n",
       "      )\n",
       "      (norm1): LayerNorm()\n",
       "      (norm2): LayerNorm()\n",
       "      (drop_shortcut): Dropout(p=0.1, inplace=False)\n",
       "    )\n",
       "    (5): TransformerBlock(\n",
       "      (att): MultiHeadAttention(\n",
       "        (W_query): Linear(in_features=768, out_features=768, bias=False)\n",
       "        (W_key): Linear(in_features=768, out_features=768, bias=False)\n",
       "        (W_value): Linear(in_features=768, out_features=768, bias=False)\n",
       "        (out_proj): Linear(in_features=768, out_features=768, bias=True)\n",
       "        (dropout): Dropout(p=0.1, inplace=False)\n",
       "      )\n",
       "      (ff): FeedForward(\n",
       "        (layers): Sequential(\n",
       "          (0): Linear(in_features=768, out_features=3072, bias=True)\n",
       "          (1): GELU()\n",
       "          (2): Linear(in_features=3072, out_features=768, bias=True)\n",
       "        )\n",
       "      )\n",
       "      (norm1): LayerNorm()\n",
       "      (norm2): LayerNorm()\n",
       "      (drop_shortcut): Dropout(p=0.1, inplace=False)\n",
       "    )\n",
       "    (6): TransformerBlock(\n",
       "      (att): MultiHeadAttention(\n",
       "        (W_query): Linear(in_features=768, out_features=768, bias=False)\n",
       "        (W_key): Linear(in_features=768, out_features=768, bias=False)\n",
       "        (W_value): Linear(in_features=768, out_features=768, bias=False)\n",
       "        (out_proj): Linear(in_features=768, out_features=768, bias=True)\n",
       "        (dropout): Dropout(p=0.1, inplace=False)\n",
       "      )\n",
       "      (ff): FeedForward(\n",
       "        (layers): Sequential(\n",
       "          (0): Linear(in_features=768, out_features=3072, bias=True)\n",
       "          (1): GELU()\n",
       "          (2): Linear(in_features=3072, out_features=768, bias=True)\n",
       "        )\n",
       "      )\n",
       "      (norm1): LayerNorm()\n",
       "      (norm2): LayerNorm()\n",
       "      (drop_shortcut): Dropout(p=0.1, inplace=False)\n",
       "    )\n",
       "    (7): TransformerBlock(\n",
       "      (att): MultiHeadAttention(\n",
       "        (W_query): Linear(in_features=768, out_features=768, bias=False)\n",
       "        (W_key): Linear(in_features=768, out_features=768, bias=False)\n",
       "        (W_value): Linear(in_features=768, out_features=768, bias=False)\n",
       "        (out_proj): Linear(in_features=768, out_features=768, bias=True)\n",
       "        (dropout): Dropout(p=0.1, inplace=False)\n",
       "      )\n",
       "      (ff): FeedForward(\n",
       "        (layers): Sequential(\n",
       "          (0): Linear(in_features=768, out_features=3072, bias=True)\n",
       "          (1): GELU()\n",
       "          (2): Linear(in_features=3072, out_features=768, bias=True)\n",
       "        )\n",
       "      )\n",
       "      (norm1): LayerNorm()\n",
       "      (norm2): LayerNorm()\n",
       "      (drop_shortcut): Dropout(p=0.1, inplace=False)\n",
       "    )\n",
       "    (8): TransformerBlock(\n",
       "      (att): MultiHeadAttention(\n",
       "        (W_query): Linear(in_features=768, out_features=768, bias=False)\n",
       "        (W_key): Linear(in_features=768, out_features=768, bias=False)\n",
       "        (W_value): Linear(in_features=768, out_features=768, bias=False)\n",
       "        (out_proj): Linear(in_features=768, out_features=768, bias=True)\n",
       "        (dropout): Dropout(p=0.1, inplace=False)\n",
       "      )\n",
       "      (ff): FeedForward(\n",
       "        (layers): Sequential(\n",
       "          (0): Linear(in_features=768, out_features=3072, bias=True)\n",
       "          (1): GELU()\n",
       "          (2): Linear(in_features=3072, out_features=768, bias=True)\n",
       "        )\n",
       "      )\n",
       "      (norm1): LayerNorm()\n",
       "      (norm2): LayerNorm()\n",
       "      (drop_shortcut): Dropout(p=0.1, inplace=False)\n",
       "    )\n",
       "    (9): TransformerBlock(\n",
       "      (att): MultiHeadAttention(\n",
       "        (W_query): Linear(in_features=768, out_features=768, bias=False)\n",
       "        (W_key): Linear(in_features=768, out_features=768, bias=False)\n",
       "        (W_value): Linear(in_features=768, out_features=768, bias=False)\n",
       "        (out_proj): Linear(in_features=768, out_features=768, bias=True)\n",
       "        (dropout): Dropout(p=0.1, inplace=False)\n",
       "      )\n",
       "      (ff): FeedForward(\n",
       "        (layers): Sequential(\n",
       "          (0): Linear(in_features=768, out_features=3072, bias=True)\n",
       "          (1): GELU()\n",
       "          (2): Linear(in_features=3072, out_features=768, bias=True)\n",
       "        )\n",
       "      )\n",
       "      (norm1): LayerNorm()\n",
       "      (norm2): LayerNorm()\n",
       "      (drop_shortcut): Dropout(p=0.1, inplace=False)\n",
       "    )\n",
       "    (10): TransformerBlock(\n",
       "      (att): MultiHeadAttention(\n",
       "        (W_query): Linear(in_features=768, out_features=768, bias=False)\n",
       "        (W_key): Linear(in_features=768, out_features=768, bias=False)\n",
       "        (W_value): Linear(in_features=768, out_features=768, bias=False)\n",
       "        (out_proj): Linear(in_features=768, out_features=768, bias=True)\n",
       "        (dropout): Dropout(p=0.1, inplace=False)\n",
       "      )\n",
       "      (ff): FeedForward(\n",
       "        (layers): Sequential(\n",
       "          (0): Linear(in_features=768, out_features=3072, bias=True)\n",
       "          (1): GELU()\n",
       "          (2): Linear(in_features=3072, out_features=768, bias=True)\n",
       "        )\n",
       "      )\n",
       "      (norm1): LayerNorm()\n",
       "      (norm2): LayerNorm()\n",
       "      (drop_shortcut): Dropout(p=0.1, inplace=False)\n",
       "    )\n",
       "    (11): TransformerBlock(\n",
       "      (att): MultiHeadAttention(\n",
       "        (W_query): Linear(in_features=768, out_features=768, bias=False)\n",
       "        (W_key): Linear(in_features=768, out_features=768, bias=False)\n",
       "        (W_value): Linear(in_features=768, out_features=768, bias=False)\n",
       "        (out_proj): Linear(in_features=768, out_features=768, bias=True)\n",
       "        (dropout): Dropout(p=0.1, inplace=False)\n",
       "      )\n",
       "      (ff): FeedForward(\n",
       "        (layers): Sequential(\n",
       "          (0): Linear(in_features=768, out_features=3072, bias=True)\n",
       "          (1): GELU()\n",
       "          (2): Linear(in_features=3072, out_features=768, bias=True)\n",
       "        )\n",
       "      )\n",
       "      (norm1): LayerNorm()\n",
       "      (norm2): LayerNorm()\n",
       "      (drop_shortcut): Dropout(p=0.1, inplace=False)\n",
       "    )\n",
       "  )\n",
       "  (final_norm): LayerNorm()\n",
       "  (out_head): Linear(in_features=768, out_features=50257, bias=False)\n",
       ")"
      ]
     },
     "execution_count": 38,
     "metadata": {},
     "output_type": "execute_result"
    }
   ],
   "source": [
    "model=GPTModel(GPT_CONFIG_124M)\n",
    "model.load_state_dict(torch.load(\"model.pth\"))\n",
    "model.eval()"
   ]
  },
  {
   "cell_type": "code",
   "execution_count": 39,
   "metadata": {},
   "outputs": [],
   "source": [
    "optimizer=torch.optim.AdamW(model.parameters(),lr=0.0004,weight_decay=0.1)\n",
    "torch.save({\n",
    "    \"model_state_dict\":model.state_dict(),\n",
    "    \"optimizer_state_dict\":optimizer.state_dict(),\n",
    "    },\n",
    "    \"model_and_optimizer.pth\"\n",
    ")"
   ]
  },
  {
   "cell_type": "code",
   "execution_count": 40,
   "metadata": {},
   "outputs": [
    {
     "name": "stderr",
     "output_type": "stream",
     "text": [
      "/tmp/ipykernel_43641/1242810220.py:1: FutureWarning: You are using `torch.load` with `weights_only=False` (the current default value), which uses the default pickle module implicitly. It is possible to construct malicious pickle data which will execute arbitrary code during unpickling (See https://github.com/pytorch/pytorch/blob/main/SECURITY.md#untrusted-models for more details). In a future release, the default value for `weights_only` will be flipped to `True`. This limits the functions that could be executed during unpickling. Arbitrary objects will no longer be allowed to be loaded via this mode unless they are explicitly allowlisted by the user via `torch.serialization.add_safe_globals`. We recommend you start setting `weights_only=True` for any use case where you don't have full control of the loaded file. Please open an issue on GitHub for any issues related to this experimental feature.\n",
      "  checkpoint=torch.load(\"model_and_optimizer.pth\")\n"
     ]
    },
    {
     "data": {
      "text/plain": [
       "GPTModel(\n",
       "  (tok_emb): Embedding(50257, 768)\n",
       "  (pos_emb): Embedding(256, 768)\n",
       "  (drop_emb): Dropout(p=0.1, inplace=False)\n",
       "  (trf_blocks): Sequential(\n",
       "    (0): TransformerBlock(\n",
       "      (att): MultiHeadAttention(\n",
       "        (W_query): Linear(in_features=768, out_features=768, bias=False)\n",
       "        (W_key): Linear(in_features=768, out_features=768, bias=False)\n",
       "        (W_value): Linear(in_features=768, out_features=768, bias=False)\n",
       "        (out_proj): Linear(in_features=768, out_features=768, bias=True)\n",
       "        (dropout): Dropout(p=0.1, inplace=False)\n",
       "      )\n",
       "      (ff): FeedForward(\n",
       "        (layers): Sequential(\n",
       "          (0): Linear(in_features=768, out_features=3072, bias=True)\n",
       "          (1): GELU()\n",
       "          (2): Linear(in_features=3072, out_features=768, bias=True)\n",
       "        )\n",
       "      )\n",
       "      (norm1): LayerNorm()\n",
       "      (norm2): LayerNorm()\n",
       "      (drop_shortcut): Dropout(p=0.1, inplace=False)\n",
       "    )\n",
       "    (1): TransformerBlock(\n",
       "      (att): MultiHeadAttention(\n",
       "        (W_query): Linear(in_features=768, out_features=768, bias=False)\n",
       "        (W_key): Linear(in_features=768, out_features=768, bias=False)\n",
       "        (W_value): Linear(in_features=768, out_features=768, bias=False)\n",
       "        (out_proj): Linear(in_features=768, out_features=768, bias=True)\n",
       "        (dropout): Dropout(p=0.1, inplace=False)\n",
       "      )\n",
       "      (ff): FeedForward(\n",
       "        (layers): Sequential(\n",
       "          (0): Linear(in_features=768, out_features=3072, bias=True)\n",
       "          (1): GELU()\n",
       "          (2): Linear(in_features=3072, out_features=768, bias=True)\n",
       "        )\n",
       "      )\n",
       "      (norm1): LayerNorm()\n",
       "      (norm2): LayerNorm()\n",
       "      (drop_shortcut): Dropout(p=0.1, inplace=False)\n",
       "    )\n",
       "    (2): TransformerBlock(\n",
       "      (att): MultiHeadAttention(\n",
       "        (W_query): Linear(in_features=768, out_features=768, bias=False)\n",
       "        (W_key): Linear(in_features=768, out_features=768, bias=False)\n",
       "        (W_value): Linear(in_features=768, out_features=768, bias=False)\n",
       "        (out_proj): Linear(in_features=768, out_features=768, bias=True)\n",
       "        (dropout): Dropout(p=0.1, inplace=False)\n",
       "      )\n",
       "      (ff): FeedForward(\n",
       "        (layers): Sequential(\n",
       "          (0): Linear(in_features=768, out_features=3072, bias=True)\n",
       "          (1): GELU()\n",
       "          (2): Linear(in_features=3072, out_features=768, bias=True)\n",
       "        )\n",
       "      )\n",
       "      (norm1): LayerNorm()\n",
       "      (norm2): LayerNorm()\n",
       "      (drop_shortcut): Dropout(p=0.1, inplace=False)\n",
       "    )\n",
       "    (3): TransformerBlock(\n",
       "      (att): MultiHeadAttention(\n",
       "        (W_query): Linear(in_features=768, out_features=768, bias=False)\n",
       "        (W_key): Linear(in_features=768, out_features=768, bias=False)\n",
       "        (W_value): Linear(in_features=768, out_features=768, bias=False)\n",
       "        (out_proj): Linear(in_features=768, out_features=768, bias=True)\n",
       "        (dropout): Dropout(p=0.1, inplace=False)\n",
       "      )\n",
       "      (ff): FeedForward(\n",
       "        (layers): Sequential(\n",
       "          (0): Linear(in_features=768, out_features=3072, bias=True)\n",
       "          (1): GELU()\n",
       "          (2): Linear(in_features=3072, out_features=768, bias=True)\n",
       "        )\n",
       "      )\n",
       "      (norm1): LayerNorm()\n",
       "      (norm2): LayerNorm()\n",
       "      (drop_shortcut): Dropout(p=0.1, inplace=False)\n",
       "    )\n",
       "    (4): TransformerBlock(\n",
       "      (att): MultiHeadAttention(\n",
       "        (W_query): Linear(in_features=768, out_features=768, bias=False)\n",
       "        (W_key): Linear(in_features=768, out_features=768, bias=False)\n",
       "        (W_value): Linear(in_features=768, out_features=768, bias=False)\n",
       "        (out_proj): Linear(in_features=768, out_features=768, bias=True)\n",
       "        (dropout): Dropout(p=0.1, inplace=False)\n",
       "      )\n",
       "      (ff): FeedForward(\n",
       "        (layers): Sequential(\n",
       "          (0): Linear(in_features=768, out_features=3072, bias=True)\n",
       "          (1): GELU()\n",
       "          (2): Linear(in_features=3072, out_features=768, bias=True)\n",
       "        )\n",
       "      )\n",
       "      (norm1): LayerNorm()\n",
       "      (norm2): LayerNorm()\n",
       "      (drop_shortcut): Dropout(p=0.1, inplace=False)\n",
       "    )\n",
       "    (5): TransformerBlock(\n",
       "      (att): MultiHeadAttention(\n",
       "        (W_query): Linear(in_features=768, out_features=768, bias=False)\n",
       "        (W_key): Linear(in_features=768, out_features=768, bias=False)\n",
       "        (W_value): Linear(in_features=768, out_features=768, bias=False)\n",
       "        (out_proj): Linear(in_features=768, out_features=768, bias=True)\n",
       "        (dropout): Dropout(p=0.1, inplace=False)\n",
       "      )\n",
       "      (ff): FeedForward(\n",
       "        (layers): Sequential(\n",
       "          (0): Linear(in_features=768, out_features=3072, bias=True)\n",
       "          (1): GELU()\n",
       "          (2): Linear(in_features=3072, out_features=768, bias=True)\n",
       "        )\n",
       "      )\n",
       "      (norm1): LayerNorm()\n",
       "      (norm2): LayerNorm()\n",
       "      (drop_shortcut): Dropout(p=0.1, inplace=False)\n",
       "    )\n",
       "    (6): TransformerBlock(\n",
       "      (att): MultiHeadAttention(\n",
       "        (W_query): Linear(in_features=768, out_features=768, bias=False)\n",
       "        (W_key): Linear(in_features=768, out_features=768, bias=False)\n",
       "        (W_value): Linear(in_features=768, out_features=768, bias=False)\n",
       "        (out_proj): Linear(in_features=768, out_features=768, bias=True)\n",
       "        (dropout): Dropout(p=0.1, inplace=False)\n",
       "      )\n",
       "      (ff): FeedForward(\n",
       "        (layers): Sequential(\n",
       "          (0): Linear(in_features=768, out_features=3072, bias=True)\n",
       "          (1): GELU()\n",
       "          (2): Linear(in_features=3072, out_features=768, bias=True)\n",
       "        )\n",
       "      )\n",
       "      (norm1): LayerNorm()\n",
       "      (norm2): LayerNorm()\n",
       "      (drop_shortcut): Dropout(p=0.1, inplace=False)\n",
       "    )\n",
       "    (7): TransformerBlock(\n",
       "      (att): MultiHeadAttention(\n",
       "        (W_query): Linear(in_features=768, out_features=768, bias=False)\n",
       "        (W_key): Linear(in_features=768, out_features=768, bias=False)\n",
       "        (W_value): Linear(in_features=768, out_features=768, bias=False)\n",
       "        (out_proj): Linear(in_features=768, out_features=768, bias=True)\n",
       "        (dropout): Dropout(p=0.1, inplace=False)\n",
       "      )\n",
       "      (ff): FeedForward(\n",
       "        (layers): Sequential(\n",
       "          (0): Linear(in_features=768, out_features=3072, bias=True)\n",
       "          (1): GELU()\n",
       "          (2): Linear(in_features=3072, out_features=768, bias=True)\n",
       "        )\n",
       "      )\n",
       "      (norm1): LayerNorm()\n",
       "      (norm2): LayerNorm()\n",
       "      (drop_shortcut): Dropout(p=0.1, inplace=False)\n",
       "    )\n",
       "    (8): TransformerBlock(\n",
       "      (att): MultiHeadAttention(\n",
       "        (W_query): Linear(in_features=768, out_features=768, bias=False)\n",
       "        (W_key): Linear(in_features=768, out_features=768, bias=False)\n",
       "        (W_value): Linear(in_features=768, out_features=768, bias=False)\n",
       "        (out_proj): Linear(in_features=768, out_features=768, bias=True)\n",
       "        (dropout): Dropout(p=0.1, inplace=False)\n",
       "      )\n",
       "      (ff): FeedForward(\n",
       "        (layers): Sequential(\n",
       "          (0): Linear(in_features=768, out_features=3072, bias=True)\n",
       "          (1): GELU()\n",
       "          (2): Linear(in_features=3072, out_features=768, bias=True)\n",
       "        )\n",
       "      )\n",
       "      (norm1): LayerNorm()\n",
       "      (norm2): LayerNorm()\n",
       "      (drop_shortcut): Dropout(p=0.1, inplace=False)\n",
       "    )\n",
       "    (9): TransformerBlock(\n",
       "      (att): MultiHeadAttention(\n",
       "        (W_query): Linear(in_features=768, out_features=768, bias=False)\n",
       "        (W_key): Linear(in_features=768, out_features=768, bias=False)\n",
       "        (W_value): Linear(in_features=768, out_features=768, bias=False)\n",
       "        (out_proj): Linear(in_features=768, out_features=768, bias=True)\n",
       "        (dropout): Dropout(p=0.1, inplace=False)\n",
       "      )\n",
       "      (ff): FeedForward(\n",
       "        (layers): Sequential(\n",
       "          (0): Linear(in_features=768, out_features=3072, bias=True)\n",
       "          (1): GELU()\n",
       "          (2): Linear(in_features=3072, out_features=768, bias=True)\n",
       "        )\n",
       "      )\n",
       "      (norm1): LayerNorm()\n",
       "      (norm2): LayerNorm()\n",
       "      (drop_shortcut): Dropout(p=0.1, inplace=False)\n",
       "    )\n",
       "    (10): TransformerBlock(\n",
       "      (att): MultiHeadAttention(\n",
       "        (W_query): Linear(in_features=768, out_features=768, bias=False)\n",
       "        (W_key): Linear(in_features=768, out_features=768, bias=False)\n",
       "        (W_value): Linear(in_features=768, out_features=768, bias=False)\n",
       "        (out_proj): Linear(in_features=768, out_features=768, bias=True)\n",
       "        (dropout): Dropout(p=0.1, inplace=False)\n",
       "      )\n",
       "      (ff): FeedForward(\n",
       "        (layers): Sequential(\n",
       "          (0): Linear(in_features=768, out_features=3072, bias=True)\n",
       "          (1): GELU()\n",
       "          (2): Linear(in_features=3072, out_features=768, bias=True)\n",
       "        )\n",
       "      )\n",
       "      (norm1): LayerNorm()\n",
       "      (norm2): LayerNorm()\n",
       "      (drop_shortcut): Dropout(p=0.1, inplace=False)\n",
       "    )\n",
       "    (11): TransformerBlock(\n",
       "      (att): MultiHeadAttention(\n",
       "        (W_query): Linear(in_features=768, out_features=768, bias=False)\n",
       "        (W_key): Linear(in_features=768, out_features=768, bias=False)\n",
       "        (W_value): Linear(in_features=768, out_features=768, bias=False)\n",
       "        (out_proj): Linear(in_features=768, out_features=768, bias=True)\n",
       "        (dropout): Dropout(p=0.1, inplace=False)\n",
       "      )\n",
       "      (ff): FeedForward(\n",
       "        (layers): Sequential(\n",
       "          (0): Linear(in_features=768, out_features=3072, bias=True)\n",
       "          (1): GELU()\n",
       "          (2): Linear(in_features=3072, out_features=768, bias=True)\n",
       "        )\n",
       "      )\n",
       "      (norm1): LayerNorm()\n",
       "      (norm2): LayerNorm()\n",
       "      (drop_shortcut): Dropout(p=0.1, inplace=False)\n",
       "    )\n",
       "  )\n",
       "  (final_norm): LayerNorm()\n",
       "  (out_head): Linear(in_features=768, out_features=50257, bias=False)\n",
       ")"
      ]
     },
     "execution_count": 40,
     "metadata": {},
     "output_type": "execute_result"
    }
   ],
   "source": [
    "checkpoint=torch.load(\"model_and_optimizer.pth\")\n",
    "model=GPTModel(GPT_CONFIG_124M)\n",
    "model.load_state_dict(checkpoint[\"model_state_dict\"])\n",
    "optimizer=torch.optim.AdamW(model.parameters(),lr=5e-4,weight_decay=0.1)\n",
    "optimizer.load_state_dict(checkpoint[\"optimizer_state_dict\"])\n",
    "model.train()"
   ]
  },
  {
   "cell_type": "markdown",
   "metadata": {},
   "source": [
    "### Loading pre-trained openAI weights"
   ]
  },
  {
   "cell_type": "code",
   "execution_count": null,
   "metadata": {},
   "outputs": [],
   "source": []
  },
  {
   "cell_type": "code",
   "execution_count": 41,
   "metadata": {},
   "outputs": [
    {
     "name": "stderr",
     "output_type": "stream",
     "text": [
      "2025-07-24 22:03:36.675853: E external/local_xla/xla/stream_executor/cuda/cuda_fft.cc:467] Unable to register cuFFT factory: Attempting to register factory for plugin cuFFT when one has already been registered\n",
      "WARNING: All log messages before absl::InitializeLog() is called are written to STDERR\n",
      "E0000 00:00:1753374816.824105   43641 cuda_dnn.cc:8579] Unable to register cuDNN factory: Attempting to register factory for plugin cuDNN when one has already been registered\n",
      "E0000 00:00:1753374816.869099   43641 cuda_blas.cc:1407] Unable to register cuBLAS factory: Attempting to register factory for plugin cuBLAS when one has already been registered\n",
      "W0000 00:00:1753374817.134710   43641 computation_placer.cc:177] computation placer already registered. Please check linkage and avoid linking the same target more than once.\n",
      "W0000 00:00:1753374817.134760   43641 computation_placer.cc:177] computation placer already registered. Please check linkage and avoid linking the same target more than once.\n",
      "W0000 00:00:1753374817.134767   43641 computation_placer.cc:177] computation placer already registered. Please check linkage and avoid linking the same target more than once.\n",
      "W0000 00:00:1753374817.134773   43641 computation_placer.cc:177] computation placer already registered. Please check linkage and avoid linking the same target more than once.\n",
      "2025-07-24 22:03:37.173906: I tensorflow/core/platform/cpu_feature_guard.cc:210] This TensorFlow binary is optimized to use available CPU instructions in performance-critical operations.\n",
      "To enable the following instructions: AVX2 FMA, in other operations, rebuild TensorFlow with the appropriate compiler flags.\n"
     ]
    },
    {
     "name": "stdout",
     "output_type": "stream",
     "text": [
      "2.19.0\n",
      "4.67.1\n"
     ]
    }
   ],
   "source": [
    "import tensorflow as tf\n",
    "import tqdm \n",
    "print(tf.__version__)\n",
    "print(tqdm.__version__)"
   ]
  },
  {
   "cell_type": "code",
   "execution_count": 42,
   "metadata": {},
   "outputs": [],
   "source": [
    "from gpt_download3 import download_and_load_gpt2"
   ]
  },
  {
   "cell_type": "code",
   "execution_count": 43,
   "metadata": {},
   "outputs": [
    {
     "name": "stdout",
     "output_type": "stream",
     "text": [
      "File already exists and is up-to-date: gpt2/124M/checkpoint\n",
      "File already exists and is up-to-date: gpt2/124M/encoder.json\n",
      "File already exists and is up-to-date: gpt2/124M/hparams.json\n",
      "File already exists and is up-to-date: gpt2/124M/model.ckpt.data-00000-of-00001\n",
      "File already exists and is up-to-date: gpt2/124M/model.ckpt.index\n",
      "File already exists and is up-to-date: gpt2/124M/model.ckpt.meta\n",
      "File already exists and is up-to-date: gpt2/124M/vocab.bpe\n"
     ]
    },
    {
     "name": "stderr",
     "output_type": "stream",
     "text": [
      "2025-07-24 22:03:53.031045: W external/local_xla/xla/tsl/framework/cpu_allocator_impl.cc:83] Allocation of 154389504 exceeds 10% of free system memory.\n"
     ]
    }
   ],
   "source": [
    "settings,params=download_and_load_gpt2(model_size=\"124M\",models_dir=\"gpt2\")"
   ]
  },
  {
   "cell_type": "code",
   "execution_count": 46,
   "metadata": {},
   "outputs": [],
   "source": [
    "model_configs = {\n",
    "    \"gpt2-small (124M)\": {\"emb_dim\": 768, \"n_layers\": 12, \"n_heads\": 12},\n",
    "    \"gpt2-medium (355M)\": {\"emb_dim\": 1024, \"n_layers\": 24, \"n_heads\": 16},\n",
    "    \"gpt2-large (774M)\": {\"emb_dim\": 1280, \"n_layers\": 36, \"n_heads\": 20},\n",
    "    \"gpt2-xl (1558M)\": {\"emb_dim\": 1600, \"n_layers\": 48, \"n_heads\": 25},\n",
    "}\n",
    "model_name=\"gpt2-small (124M)\"\n",
    "NEW_CONFIG=GPT_CONFIG_124M.copy()\n",
    "NEW_CONFIG.update(model_configs[model_name])\n"
   ]
  },
  {
   "cell_type": "code",
   "execution_count": 47,
   "metadata": {},
   "outputs": [
    {
     "data": {
      "text/plain": [
       "GPTModel(\n",
       "  (tok_emb): Embedding(50257, 768)\n",
       "  (pos_emb): Embedding(1024, 768)\n",
       "  (drop_emb): Dropout(p=0.1, inplace=False)\n",
       "  (trf_blocks): Sequential(\n",
       "    (0): TransformerBlock(\n",
       "      (att): MultiHeadAttention(\n",
       "        (W_query): Linear(in_features=768, out_features=768, bias=True)\n",
       "        (W_key): Linear(in_features=768, out_features=768, bias=True)\n",
       "        (W_value): Linear(in_features=768, out_features=768, bias=True)\n",
       "        (out_proj): Linear(in_features=768, out_features=768, bias=True)\n",
       "        (dropout): Dropout(p=0.1, inplace=False)\n",
       "      )\n",
       "      (ff): FeedForward(\n",
       "        (layers): Sequential(\n",
       "          (0): Linear(in_features=768, out_features=3072, bias=True)\n",
       "          (1): GELU()\n",
       "          (2): Linear(in_features=3072, out_features=768, bias=True)\n",
       "        )\n",
       "      )\n",
       "      (norm1): LayerNorm()\n",
       "      (norm2): LayerNorm()\n",
       "      (drop_shortcut): Dropout(p=0.1, inplace=False)\n",
       "    )\n",
       "    (1): TransformerBlock(\n",
       "      (att): MultiHeadAttention(\n",
       "        (W_query): Linear(in_features=768, out_features=768, bias=True)\n",
       "        (W_key): Linear(in_features=768, out_features=768, bias=True)\n",
       "        (W_value): Linear(in_features=768, out_features=768, bias=True)\n",
       "        (out_proj): Linear(in_features=768, out_features=768, bias=True)\n",
       "        (dropout): Dropout(p=0.1, inplace=False)\n",
       "      )\n",
       "      (ff): FeedForward(\n",
       "        (layers): Sequential(\n",
       "          (0): Linear(in_features=768, out_features=3072, bias=True)\n",
       "          (1): GELU()\n",
       "          (2): Linear(in_features=3072, out_features=768, bias=True)\n",
       "        )\n",
       "      )\n",
       "      (norm1): LayerNorm()\n",
       "      (norm2): LayerNorm()\n",
       "      (drop_shortcut): Dropout(p=0.1, inplace=False)\n",
       "    )\n",
       "    (2): TransformerBlock(\n",
       "      (att): MultiHeadAttention(\n",
       "        (W_query): Linear(in_features=768, out_features=768, bias=True)\n",
       "        (W_key): Linear(in_features=768, out_features=768, bias=True)\n",
       "        (W_value): Linear(in_features=768, out_features=768, bias=True)\n",
       "        (out_proj): Linear(in_features=768, out_features=768, bias=True)\n",
       "        (dropout): Dropout(p=0.1, inplace=False)\n",
       "      )\n",
       "      (ff): FeedForward(\n",
       "        (layers): Sequential(\n",
       "          (0): Linear(in_features=768, out_features=3072, bias=True)\n",
       "          (1): GELU()\n",
       "          (2): Linear(in_features=3072, out_features=768, bias=True)\n",
       "        )\n",
       "      )\n",
       "      (norm1): LayerNorm()\n",
       "      (norm2): LayerNorm()\n",
       "      (drop_shortcut): Dropout(p=0.1, inplace=False)\n",
       "    )\n",
       "    (3): TransformerBlock(\n",
       "      (att): MultiHeadAttention(\n",
       "        (W_query): Linear(in_features=768, out_features=768, bias=True)\n",
       "        (W_key): Linear(in_features=768, out_features=768, bias=True)\n",
       "        (W_value): Linear(in_features=768, out_features=768, bias=True)\n",
       "        (out_proj): Linear(in_features=768, out_features=768, bias=True)\n",
       "        (dropout): Dropout(p=0.1, inplace=False)\n",
       "      )\n",
       "      (ff): FeedForward(\n",
       "        (layers): Sequential(\n",
       "          (0): Linear(in_features=768, out_features=3072, bias=True)\n",
       "          (1): GELU()\n",
       "          (2): Linear(in_features=3072, out_features=768, bias=True)\n",
       "        )\n",
       "      )\n",
       "      (norm1): LayerNorm()\n",
       "      (norm2): LayerNorm()\n",
       "      (drop_shortcut): Dropout(p=0.1, inplace=False)\n",
       "    )\n",
       "    (4): TransformerBlock(\n",
       "      (att): MultiHeadAttention(\n",
       "        (W_query): Linear(in_features=768, out_features=768, bias=True)\n",
       "        (W_key): Linear(in_features=768, out_features=768, bias=True)\n",
       "        (W_value): Linear(in_features=768, out_features=768, bias=True)\n",
       "        (out_proj): Linear(in_features=768, out_features=768, bias=True)\n",
       "        (dropout): Dropout(p=0.1, inplace=False)\n",
       "      )\n",
       "      (ff): FeedForward(\n",
       "        (layers): Sequential(\n",
       "          (0): Linear(in_features=768, out_features=3072, bias=True)\n",
       "          (1): GELU()\n",
       "          (2): Linear(in_features=3072, out_features=768, bias=True)\n",
       "        )\n",
       "      )\n",
       "      (norm1): LayerNorm()\n",
       "      (norm2): LayerNorm()\n",
       "      (drop_shortcut): Dropout(p=0.1, inplace=False)\n",
       "    )\n",
       "    (5): TransformerBlock(\n",
       "      (att): MultiHeadAttention(\n",
       "        (W_query): Linear(in_features=768, out_features=768, bias=True)\n",
       "        (W_key): Linear(in_features=768, out_features=768, bias=True)\n",
       "        (W_value): Linear(in_features=768, out_features=768, bias=True)\n",
       "        (out_proj): Linear(in_features=768, out_features=768, bias=True)\n",
       "        (dropout): Dropout(p=0.1, inplace=False)\n",
       "      )\n",
       "      (ff): FeedForward(\n",
       "        (layers): Sequential(\n",
       "          (0): Linear(in_features=768, out_features=3072, bias=True)\n",
       "          (1): GELU()\n",
       "          (2): Linear(in_features=3072, out_features=768, bias=True)\n",
       "        )\n",
       "      )\n",
       "      (norm1): LayerNorm()\n",
       "      (norm2): LayerNorm()\n",
       "      (drop_shortcut): Dropout(p=0.1, inplace=False)\n",
       "    )\n",
       "    (6): TransformerBlock(\n",
       "      (att): MultiHeadAttention(\n",
       "        (W_query): Linear(in_features=768, out_features=768, bias=True)\n",
       "        (W_key): Linear(in_features=768, out_features=768, bias=True)\n",
       "        (W_value): Linear(in_features=768, out_features=768, bias=True)\n",
       "        (out_proj): Linear(in_features=768, out_features=768, bias=True)\n",
       "        (dropout): Dropout(p=0.1, inplace=False)\n",
       "      )\n",
       "      (ff): FeedForward(\n",
       "        (layers): Sequential(\n",
       "          (0): Linear(in_features=768, out_features=3072, bias=True)\n",
       "          (1): GELU()\n",
       "          (2): Linear(in_features=3072, out_features=768, bias=True)\n",
       "        )\n",
       "      )\n",
       "      (norm1): LayerNorm()\n",
       "      (norm2): LayerNorm()\n",
       "      (drop_shortcut): Dropout(p=0.1, inplace=False)\n",
       "    )\n",
       "    (7): TransformerBlock(\n",
       "      (att): MultiHeadAttention(\n",
       "        (W_query): Linear(in_features=768, out_features=768, bias=True)\n",
       "        (W_key): Linear(in_features=768, out_features=768, bias=True)\n",
       "        (W_value): Linear(in_features=768, out_features=768, bias=True)\n",
       "        (out_proj): Linear(in_features=768, out_features=768, bias=True)\n",
       "        (dropout): Dropout(p=0.1, inplace=False)\n",
       "      )\n",
       "      (ff): FeedForward(\n",
       "        (layers): Sequential(\n",
       "          (0): Linear(in_features=768, out_features=3072, bias=True)\n",
       "          (1): GELU()\n",
       "          (2): Linear(in_features=3072, out_features=768, bias=True)\n",
       "        )\n",
       "      )\n",
       "      (norm1): LayerNorm()\n",
       "      (norm2): LayerNorm()\n",
       "      (drop_shortcut): Dropout(p=0.1, inplace=False)\n",
       "    )\n",
       "    (8): TransformerBlock(\n",
       "      (att): MultiHeadAttention(\n",
       "        (W_query): Linear(in_features=768, out_features=768, bias=True)\n",
       "        (W_key): Linear(in_features=768, out_features=768, bias=True)\n",
       "        (W_value): Linear(in_features=768, out_features=768, bias=True)\n",
       "        (out_proj): Linear(in_features=768, out_features=768, bias=True)\n",
       "        (dropout): Dropout(p=0.1, inplace=False)\n",
       "      )\n",
       "      (ff): FeedForward(\n",
       "        (layers): Sequential(\n",
       "          (0): Linear(in_features=768, out_features=3072, bias=True)\n",
       "          (1): GELU()\n",
       "          (2): Linear(in_features=3072, out_features=768, bias=True)\n",
       "        )\n",
       "      )\n",
       "      (norm1): LayerNorm()\n",
       "      (norm2): LayerNorm()\n",
       "      (drop_shortcut): Dropout(p=0.1, inplace=False)\n",
       "    )\n",
       "    (9): TransformerBlock(\n",
       "      (att): MultiHeadAttention(\n",
       "        (W_query): Linear(in_features=768, out_features=768, bias=True)\n",
       "        (W_key): Linear(in_features=768, out_features=768, bias=True)\n",
       "        (W_value): Linear(in_features=768, out_features=768, bias=True)\n",
       "        (out_proj): Linear(in_features=768, out_features=768, bias=True)\n",
       "        (dropout): Dropout(p=0.1, inplace=False)\n",
       "      )\n",
       "      (ff): FeedForward(\n",
       "        (layers): Sequential(\n",
       "          (0): Linear(in_features=768, out_features=3072, bias=True)\n",
       "          (1): GELU()\n",
       "          (2): Linear(in_features=3072, out_features=768, bias=True)\n",
       "        )\n",
       "      )\n",
       "      (norm1): LayerNorm()\n",
       "      (norm2): LayerNorm()\n",
       "      (drop_shortcut): Dropout(p=0.1, inplace=False)\n",
       "    )\n",
       "    (10): TransformerBlock(\n",
       "      (att): MultiHeadAttention(\n",
       "        (W_query): Linear(in_features=768, out_features=768, bias=True)\n",
       "        (W_key): Linear(in_features=768, out_features=768, bias=True)\n",
       "        (W_value): Linear(in_features=768, out_features=768, bias=True)\n",
       "        (out_proj): Linear(in_features=768, out_features=768, bias=True)\n",
       "        (dropout): Dropout(p=0.1, inplace=False)\n",
       "      )\n",
       "      (ff): FeedForward(\n",
       "        (layers): Sequential(\n",
       "          (0): Linear(in_features=768, out_features=3072, bias=True)\n",
       "          (1): GELU()\n",
       "          (2): Linear(in_features=3072, out_features=768, bias=True)\n",
       "        )\n",
       "      )\n",
       "      (norm1): LayerNorm()\n",
       "      (norm2): LayerNorm()\n",
       "      (drop_shortcut): Dropout(p=0.1, inplace=False)\n",
       "    )\n",
       "    (11): TransformerBlock(\n",
       "      (att): MultiHeadAttention(\n",
       "        (W_query): Linear(in_features=768, out_features=768, bias=True)\n",
       "        (W_key): Linear(in_features=768, out_features=768, bias=True)\n",
       "        (W_value): Linear(in_features=768, out_features=768, bias=True)\n",
       "        (out_proj): Linear(in_features=768, out_features=768, bias=True)\n",
       "        (dropout): Dropout(p=0.1, inplace=False)\n",
       "      )\n",
       "      (ff): FeedForward(\n",
       "        (layers): Sequential(\n",
       "          (0): Linear(in_features=768, out_features=3072, bias=True)\n",
       "          (1): GELU()\n",
       "          (2): Linear(in_features=3072, out_features=768, bias=True)\n",
       "        )\n",
       "      )\n",
       "      (norm1): LayerNorm()\n",
       "      (norm2): LayerNorm()\n",
       "      (drop_shortcut): Dropout(p=0.1, inplace=False)\n",
       "    )\n",
       "  )\n",
       "  (final_norm): LayerNorm()\n",
       "  (out_head): Linear(in_features=768, out_features=50257, bias=False)\n",
       ")"
      ]
     },
     "execution_count": 47,
     "metadata": {},
     "output_type": "execute_result"
    }
   ],
   "source": [
    "NEW_CONFIG.update({\"context_length\":1024,\"qkv_bias\":True})\n",
    "gpt=GPTModel(NEW_CONFIG)\n",
    "gpt.eval()"
   ]
  },
  {
   "cell_type": "code",
   "execution_count": 34,
   "metadata": {},
   "outputs": [],
   "source": [
    "def assign (left,right):\n",
    "    if left.shape !=right.shape:\n",
    "        raise ValueError(f\"Shape Mismatch. Left:{left.shape} , Right:{right.shape}\")\n",
    "    return torch.nn.Parameter(torch.tensor(right))"
   ]
  },
  {
   "cell_type": "code",
   "execution_count": 35,
   "metadata": {},
   "outputs": [],
   "source": [
    "import numpy as np\n",
    "\n",
    "def load_weights_into_gpt(gpt,params):\n",
    "    gpt.pos_emb.weight=assign(gpt.pos_emb.weight,params['wpe'])\n",
    "    gpt.tok_emb.weight=assign(gpt.tok_emb.weight,params['wte'])\n",
    "    for b in range (len(params[\"blocks\"])):\n",
    "        q_w,k_w,v_w=np.split(\n",
    "            (params[\"blocks\"][b][\"attn\"][\"c_attn\"])[\"w\"], 3,axis=-1\n",
    "        )\n",
    "        gpt.trf_blocks[b].att.W_query.weight=assign(\n",
    "            gpt.trf_blocks[b].att.W_query.weight,q_w.T\n",
    "        )\n",
    "        gpt.trf_blocks[b].att.W_key.weight=assign(\n",
    "            gpt.trf_blocks[b].att.W_key.weight,k_w.T\n",
    "        )\n",
    "        gpt.trf_blocks[b].att.W_value.weight=assign(\n",
    "            gpt.trf_blocks[b].att.W_value.weight,v_w.T\n",
    "        )\n",
    "\n",
    "        q_b,k_b,v_b=np.split(\n",
    "            (params[\"blocks\"][b][\"attn\"][\"c_attn\"])[\"b\"], 3,axis=-1\n",
    "        )\n",
    "        gpt.trf_blocks[b].att.W_query.bias=assign(\n",
    "            gpt.trf_blocks[b].att.W_query.bias,q_b\n",
    "        )\n",
    "        gpt.trf_blocks[b].att.W_key.bias=assign(\n",
    "            gpt.trf_blocks[b].att.W_key.bias,k_b\n",
    "        )\n",
    "        gpt.trf_blocks[b].att.W_value.bias=assign(\n",
    "            gpt.trf_blocks[b].att.W_value.bias,v_b\n",
    "        )\n",
    "\n",
    "\n",
    "        \n",
    "        gpt.trf_blocks[b].att.out_proj.weight=assign(\n",
    "            gpt.trf_blocks[b].att.out_proj.weight,\n",
    "            params[\"blocks\"][b][\"attn\"][\"c_proj\"][\"w\"].T\n",
    "        )\n",
    "        gpt.trf_blocks[b].att.out_proj.bias=assign(\n",
    "            gpt.trf_blocks[b].att.out_proj.bias,\n",
    "            params[\"blocks\"][b][\"attn\"][\"c_proj\"][\"b\"]\n",
    "        )\n",
    "\n",
    "        gpt.trf_blocks[b].ff.layers[0].weight=assign(\n",
    "            gpt.trf_blocks[b].ff.layers[0].weight,\n",
    "            params[\"blocks\"][b][\"mlp\"][\"c_fc\"][\"w\"].T\n",
    "        )\n",
    "        gpt.trf_blocks[b].ff.layers[0].bias=assign(\n",
    "            gpt.trf_blocks[b].ff.layers[0].bias,\n",
    "            params[\"blocks\"][b][\"mlp\"][\"c_fc\"][\"b\"]\n",
    "        )\n",
    "        gpt.trf_blocks[b].ff.layers[2].weight=assign(\n",
    "            gpt.trf_blocks[b].ff.layers[2].weight,\n",
    "            params[\"blocks\"][b][\"mlp\"][\"c_proj\"][\"w\"].T\n",
    "        )\n",
    "        gpt.trf_blocks[b].ff.layers[2].bias=assign(\n",
    "            gpt.trf_blocks[b].ff.layers[2].bias,\n",
    "            params[\"blocks\"][b][\"mlp\"][\"c_proj\"][\"b\"]\n",
    "        )\n",
    "\n",
    "\n",
    "        gpt.trf_blocks[b].norm1.scale=assign(\n",
    "            gpt.trf_blocks[b].norm1.scale,\n",
    "            params[\"blocks\"][b][\"ln_1\"][\"g\"]\n",
    "        )\n",
    "        gpt.trf_blocks[b].norm1.shift=assign(\n",
    "            gpt.trf_blocks[b].norm1.shift,\n",
    "            params[\"blocks\"][b][\"ln_1\"][\"b\"]\n",
    "        )\n",
    "        gpt.trf_blocks[b].norm2.scale=assign(\n",
    "            gpt.trf_blocks[b].norm2.scale,\n",
    "            params[\"blocks\"][b][\"ln_2\"][\"g\"]\n",
    "        )\n",
    "        gpt.trf_blocks[b].norm2.shift=assign(\n",
    "            gpt.trf_blocks[b].norm2.shift,\n",
    "            params[\"blocks\"][b][\"ln_2\"][\"b\"]\n",
    "        )\n",
    "\n",
    "\n",
    "    gpt.final_norm.scale=assign(gpt.final_norm.scale,params[\"g\"])\n",
    "    gpt.final_norm.shift=assign(gpt.final_norm.shift,params[\"b\"])\n",
    "    gpt.out_head.weight=assign(gpt.out_head.weight,params[\"wte\"])\n",
    "\n",
    "\n"
   ]
  },
  {
   "cell_type": "code",
   "execution_count": 58,
   "metadata": {},
   "outputs": [],
   "source": [
    "load_weights_into_gpt(gpt,params)\n",
    "gpt.to(device);"
   ]
  },
  {
   "cell_type": "code",
   "execution_count": 2,
   "metadata": {},
   "outputs": [
    {
     "ename": "NameError",
     "evalue": "name 'torch' is not defined",
     "output_type": "error",
     "traceback": [
      "\u001b[31m---------------------------------------------------------------------------\u001b[39m",
      "\u001b[31mNameError\u001b[39m                                 Traceback (most recent call last)",
      "\u001b[36mCell\u001b[39m\u001b[36m \u001b[39m\u001b[32mIn[2]\u001b[39m\u001b[32m, line 1\u001b[39m\n\u001b[32m----> \u001b[39m\u001b[32m1\u001b[39m \u001b[43mtorch\u001b[49m.manual_seed(\u001b[32m123\u001b[39m)\n\u001b[32m      2\u001b[39m token_ids=generate(\n\u001b[32m      3\u001b[39m     model=gpt,\n\u001b[32m      4\u001b[39m     idx=text_to_token_ids(\u001b[33m\"\u001b[39m\u001b[33mEvery effort moves you\u001b[39m\u001b[33m\"\u001b[39m,tokenizer).to(device),\n\u001b[32m   (...)\u001b[39m\u001b[32m      8\u001b[39m     temperature=\u001b[32m1\u001b[39m\n\u001b[32m      9\u001b[39m )\n\u001b[32m     10\u001b[39m \u001b[38;5;28mprint\u001b[39m(\u001b[33m\"\u001b[39m\u001b[33mOutput text:\u001b[39m\u001b[38;5;130;01m\\n\u001b[39;00m\u001b[33m\"\u001b[39m,token_ids_to_text(token_ids,tokenizer))\n",
      "\u001b[31mNameError\u001b[39m: name 'torch' is not defined"
     ]
    }
   ],
   "source": [
    "torch.manual_seed(123)\n",
    "token_ids=generate(\n",
    "    model=gpt,\n",
    "    idx=text_to_token_ids(\"Every effort moves you\",tokenizer).to(device),\n",
    "    max_new_tokens=25,\n",
    "    context_size=NEW_CONFIG[\"context_length\"],\n",
    "    top_k=50,\n",
    "    temperature=1\n",
    ")\n",
    "print(\"Output text:\\n\",token_ids_to_text(token_ids,tokenizer))"
   ]
  },
  {
   "cell_type": "markdown",
   "metadata": {},
   "source": [
    "### Fine tuning\n",
    "instruction based classification based finetuning"
   ]
  },
  {
   "cell_type": "markdown",
   "metadata": {},
   "source": [
    "### All the code before\n",
    "its anoying scrolling up and down"
   ]
  },
  {
   "cell_type": "code",
   "execution_count": 10,
   "metadata": {},
   "outputs": [
    {
     "name": "stdout",
     "output_type": "stream",
     "text": [
      "Memory usage: 44.4%\n"
     ]
    }
   ],
   "source": [
    "# Add to a cell and run after restart\n",
    "%reset -f\n",
    "import psutil\n",
    "print(f\"Memory usage: {psutil.virtual_memory().percent}%\")"
   ]
  },
  {
   "cell_type": "code",
   "execution_count": 11,
   "metadata": {},
   "outputs": [
    {
     "name": "stdout",
     "output_type": "stream",
     "text": [
      "Memory usage: 44.3%\n"
     ]
    }
   ],
   "source": [
    "\n",
    "import torch\n",
    "import torch.nn as nn\n",
    "class MultiHeadAttention(nn.Module):\n",
    "    def __init__(self, d_in, d_out, context_length, dropout, num_heads, qkv_bias=False):\n",
    "        super().__init__()\n",
    "        assert (d_out % num_heads == 0), \\\n",
    "            \"d_out must be divisible by num_heads\"\n",
    "\n",
    "        self.d_out = d_out\n",
    "        self.num_heads = num_heads\n",
    "        self.head_dim = d_out // num_heads # Reduce the projection dim to match desired output dim\n",
    "\n",
    "        self.W_query = nn.Linear(d_in, d_out, bias=qkv_bias)\n",
    "        self.W_key = nn.Linear(d_in, d_out, bias=qkv_bias)\n",
    "        self.W_value = nn.Linear(d_in, d_out, bias=qkv_bias)\n",
    "        self.out_proj = nn.Linear(d_out, d_out)  # Linear layer to combine head outputs\n",
    "        self.dropout = nn.Dropout(dropout)\n",
    "        self.register_buffer(\n",
    "            \"mask\",\n",
    "            torch.triu(torch.ones(context_length, context_length),\n",
    "                       diagonal=1)\n",
    "        )\n",
    "\n",
    "    def forward(self, x):\n",
    "        b, num_tokens, d_in = x.shape\n",
    "\n",
    "        keys = self.W_key(x) # Shape: (b, num_tokens, d_out)\n",
    "        queries = self.W_query(x)\n",
    "        values = self.W_value(x)\n",
    "\n",
    "        # We implicitly split the matrix by adding a `num_heads` dimension\n",
    "        # Unroll last dim: (b, num_tokens, d_out) -> (b, num_tokens, num_heads, head_dim)\n",
    "        keys = keys.view(b, num_tokens, self.num_heads, self.head_dim) \n",
    "        values = values.view(b, num_tokens, self.num_heads, self.head_dim)\n",
    "        queries = queries.view(b, num_tokens, self.num_heads, self.head_dim)\n",
    "        # we have to group by the number of heads\n",
    "        # Transpose: (b, num_tokens, num_heads, head_dim) -> (b, num_heads, num_tokens, head_dim)\n",
    "        keys = keys.transpose(1, 2)\n",
    "        queries = queries.transpose(1, 2)\n",
    "        values = values.transpose(1, 2)\n",
    "\n",
    "        # Compute scaled dot-product attention (aka self-attention) with a causal mask\n",
    "        attn_scores = queries @ keys.transpose(2, 3)  # Dot product for each head\n",
    "\n",
    "        # Original mask truncated to the number of tokens and converted to boolean\n",
    "        mask_bool = self.mask.bool()[:num_tokens, :num_tokens]\n",
    "\n",
    "        # Use the mask to fill attention scores\n",
    "        attn_scores.masked_fill_(mask_bool, -torch.inf)\n",
    "        \n",
    "        attn_weights = torch.softmax(attn_scores / keys.shape[-1]**0.5, dim=-1)\n",
    "        attn_weights = self.dropout(attn_weights)\n",
    "\n",
    "        # Shape: (b, num_tokens, num_heads, head_dim)\n",
    "        context_vec = (attn_weights @ values).transpose(1, 2) \n",
    "        \n",
    "        # Combine heads, where self.d_out = self.num_heads * self.head_dim\n",
    "        context_vec = context_vec.contiguous().view(b, num_tokens, self.d_out)\n",
    "        context_vec = self.out_proj(context_vec) # optional projection\n",
    "\n",
    "        return context_vec\n",
    "\n",
    "#combine the separate elements youve added\n",
    "class LayerNorm(nn.Module):\n",
    "    def __init__(self,emb_dim):\n",
    "        super().__init__()\n",
    "        self.eps=1e-5\n",
    "        self.scale=nn.Parameter(torch.ones(emb_dim))\n",
    "        self.shift=nn.Parameter(torch.zeros(emb_dim))\n",
    "\n",
    "    def forward(self,x):\n",
    "        mean=x.mean(dim=-1,keepdim=True)\n",
    "        var=x.var(dim=-1,keepdim=True,unbiased=False)\n",
    "        norm_x=(x-mean)/torch.sqrt(var+self.eps)\n",
    "        return self.scale * norm_x + self.shift\n",
    "        # when unbiased= True then we get bessels correction where the denominator is n-1 not n \n",
    "\n",
    "class GELU(nn.Module):\n",
    "    def __init__(self):\n",
    "       super().__init__()\n",
    "    def forward (self,x):\n",
    "       return 0.5 * x * (1+torch.tanh(torch.sqrt(torch.tensor(2.0/torch.pi))*(x+ 0.044715 * torch.pow(x,3))))  \n",
    "        \n",
    "class FeedForward(nn.Module):\n",
    "    def __init__(self,cfg):\n",
    "        super().__init__()\n",
    "        self.layers=nn.Sequential(\n",
    "            nn.Linear(cfg[\"emb_dim\"],4 * cfg[\"emb_dim\"]),\n",
    "            GELU(),\n",
    "            nn.Linear(4*cfg[\"emb_dim\"],cfg[\"emb_dim\"])\n",
    "        )\n",
    "    def forward(self,x):\n",
    "        return self.layers(x)\n",
    "\n",
    "\n",
    "\n",
    "class TransformerBlock(nn.Module):\n",
    "    def __init__(self,cfg):\n",
    "        super().__init__()\n",
    "        self.att=MultiHeadAttention(\n",
    "            d_in = cfg[\"emb_dim\"],\n",
    "            d_out=cfg[\"emb_dim\"],\n",
    "            context_length=cfg[\"context_length\"],\n",
    "            num_heads=cfg[\"n_heads\"],\n",
    "            dropout=cfg[\"drop_rate\"],\n",
    "            qkv_bias=cfg[\"qkv_bias\"]\n",
    "        )\n",
    "        self.ff=FeedForward(cfg)\n",
    "        self.norm1=LayerNorm(cfg[\"emb_dim\"])\n",
    "        self.norm2=LayerNorm(cfg[\"emb_dim\"])\n",
    "        self.drop_shortcut=nn.Dropout(cfg[\"drop_rate\"])\n",
    "    \n",
    "    def forward(self,x):\n",
    "        shortcut=x\n",
    "        x=self.norm1(x)\n",
    "        x=self.att(x)\n",
    "        x=self.drop_shortcut(x)\n",
    "        x=x+shortcut\n",
    "\n",
    "        shortcut=x\n",
    "        x=self.norm2(x)\n",
    "        x=self.ff(x)\n",
    "        x=self.drop_shortcut(x)\n",
    "        x=x+shortcut\n",
    "\n",
    "        return x\n",
    "\n",
    "\n",
    "\n",
    "        \n",
    "\n",
    "import torch.nn as nn \n",
    "class GPTModel(nn.Module):\n",
    "    def __init__(self, cfg):\n",
    "        super().__init__()\n",
    "        self.tok_emb = nn.Embedding(cfg[\"vocab_size\"], cfg[\"emb_dim\"])\n",
    "        self.pos_emb = nn.Embedding(cfg[\"context_length\"], cfg[\"emb_dim\"])\n",
    "        self.drop_emb = nn.Dropout(cfg[\"drop_rate\"])\n",
    "        \n",
    "        self.trf_blocks = nn.Sequential(\n",
    "            *[TransformerBlock(cfg) for _ in range(cfg[\"n_layers\"])])\n",
    "        \n",
    "        self.final_norm = LayerNorm(cfg[\"emb_dim\"])\n",
    "        self.out_head = nn.Linear(\n",
    "            cfg[\"emb_dim\"], cfg[\"vocab_size\"], bias=False\n",
    "        )\n",
    "\n",
    "    def forward(self, in_idx):\n",
    "        batch_size, seq_len = in_idx.shape\n",
    "        tok_embeds = self.tok_emb(in_idx)\n",
    "        pos_embeds = self.pos_emb(torch.arange(seq_len, device=in_idx.device))\n",
    "        x = tok_embeds + pos_embeds  # Shape [batch_size, num_tokens, emb_size]\n",
    "        x = self.drop_emb(x)\n",
    "        x = self.trf_blocks(x)\n",
    "        x = self.final_norm(x)\n",
    "        logits = self.out_head(x)\n",
    "        return logits\n",
    "\n",
    "\n",
    "def calc_loss_batch(input_batch, target_batch, model, device):\n",
    "    input_batch, target_batch = input_batch.to(device), target_batch.to(device)\n",
    "    logits = model(input_batch)\n",
    "    loss = torch.nn.functional.cross_entropy(logits.flatten(0, 1), target_batch.flatten())\n",
    "    return loss\n",
    "\n",
    "\n",
    "def calc_loss_loader(data_loader, model, device, num_batches=None):\n",
    "    total_loss = 0.\n",
    "    if len(data_loader) == 0:\n",
    "        return float(\"nan\")\n",
    "    elif num_batches is None:\n",
    "        num_batches = len(data_loader)\n",
    "    else:\n",
    "        # Reduce the number of batches to match the total number of batches in the data loader\n",
    "        # if num_batches exceeds the number of batches in the data loader\n",
    "        num_batches = min(num_batches, len(data_loader))\n",
    "    for i, (input_batch, target_batch) in enumerate(data_loader):\n",
    "        if i < num_batches:\n",
    "            loss = calc_loss_batch(input_batch, target_batch, model, device)\n",
    "            total_loss += loss.item()\n",
    "        else:\n",
    "            break\n",
    "    return total_loss / num_batches\n",
    "\n",
    "\n",
    "def evaluate_model(model,train_loader,val_loader,device,eval_iter):\n",
    "    model.eval()\n",
    "    with torch.no_grad():\n",
    "        train_loss=calc_loss_loader(train_loader,model,device,num_batches=eval_iter)\n",
    "        val_loss=calc_loss_loader(val_loader,model,device,num_batches=eval_iter)\n",
    "    model.train()\n",
    "    return train_loss,val_loss\n",
    "\n",
    "def generate_text_simple(model, idx, max_new_tokens,context_size):\n",
    "    # idx is (batch,n_tokens)\n",
    "    for _ in range(max_new_tokens):\n",
    "        idx_cond=idx[:,-context_size:] #if input size > context size, we select only the lasr elements the size of context size\n",
    "\n",
    "        with torch.no_grad():\n",
    "            logits =model(idx_cond) #get predictions \n",
    "        \n",
    "        logits=logits[:,-1,:] # last row \n",
    "\n",
    "        # convert logits into probabilities by applying softmax\n",
    "\n",
    "        probas = torch.softmax(logits,dim=-1)\n",
    "\n",
    "        # Get the idx of the vocab entry with highest priority\n",
    "        idx_next =torch.argmax(probas, dim =-1 , keepdim =True )\n",
    "\n",
    "        # append it to the running sequence \n",
    "\n",
    "        idx= torch.cat((idx,idx_next),dim=-1)\n",
    "\n",
    "    return idx\n",
    "\n",
    "\n",
    "import tiktoken\n",
    "def text_to_token_ids(text,tokenizer):\n",
    "    encoded =tokenizer.encode(text,allowed_special={'<|endoftext|>'})\n",
    "    encoded_tensor=torch.tensor(encoded).unsqueeze(0) # adding batch dimension \n",
    "    return encoded_tensor\n",
    "\n",
    "def token_ids_to_text(token_ids,tokenizer):\n",
    "    flat=token_ids.squeeze(0) #remove batch dimension \n",
    "    return tokenizer.decode(flat.tolist())\n",
    "\n",
    "\n",
    "def generate_and_print_sample(model,tokenizer,device,start_context):\n",
    "    model.eval()\n",
    "    context_size=model.pos_emb.weight.shape[0]\n",
    "    encoded=text_to_token_ids(start_context,tokenizer).to(device)\n",
    "    with torch.no_grad():\n",
    "        token_ids=generate_text_simple(\n",
    "            model=model,idx=encoded,\n",
    "            max_new_tokens=50,context_size=context_size\n",
    "        )\n",
    "    decoded_text=token_ids_to_text(token_ids,tokenizer)\n",
    "    print(decoded_text.replace(\"\\n\",\" \"))\n",
    "    model.train\n",
    "\n",
    "def train_model_simple(model,train_loader,val_loader,optimizer,device,num_epochs,eval_freq,eval_iter,start_context,tokenizer):\n",
    "    train_losses,val_losses, track_tokens_seen =[],[],[]\n",
    "    tokens_seen,global_step=0,-1\n",
    "\n",
    "    #Main training loop \n",
    "    for epoch in range(num_epochs):\n",
    "        model.train()# set model to training mode\n",
    "        for input_batch,target_batch in train_loader:\n",
    "            optimizer.zero_grad()\n",
    "            loss=calc_loss_batch(input_batch,target_batch,model,device)\n",
    "            loss.backward()#calculate loss gradients\n",
    "            optimizer.step()# update model weights using loss gradients\n",
    "            tokens_seen+=input_batch.numel() #returns total number of tokens\n",
    "            global_step+=1\n",
    "\n",
    "            #evaluation\n",
    "            if global_step % eval_freq ==0:\n",
    "                train_loss,val_loss=evaluate_model(\n",
    "                    model,train_loader,val_loader,device,eval_iter\n",
    "                )\n",
    "                train_losses.append(train_loss)\n",
    "                val_losses.append(val_loss)\n",
    "                track_tokens_seen.append(tokens_seen)\n",
    "                print(f\"Ep {epoch+1} (Step {global_step:06d}):\"\n",
    "                      f\"Train Loss {train_loss:.3f}, Val Loss {val_loss:.3f}\")\n",
    "        # print sample after each epoch\n",
    "        generate_and_print_sample(\n",
    "            model,tokenizer,device,start_context\n",
    "        )\n",
    "    return train_losses,val_losses,track_tokens_seen\n",
    "\n",
    "def generate(model,idx,max_new_tokens,context_size,temperature=0.0,top_k=None,eos_id=None):\n",
    "    for _ in range(max_new_tokens):\n",
    "        idx_cond=idx[:,-context_size:]\n",
    "        with torch.no_grad():\n",
    "            logits=model(idx_cond)\n",
    "        logits=logits[:,-1,:]\n",
    "\n",
    "        if top_k is not None:\n",
    "            # keep topk values\n",
    "            top_logits,_ = torch.topk(logits,top_k)\n",
    "            min_val=top_logits[:,-1]\n",
    "            logits=torch.where(logits < min_val, torch.tensor(float(\"-inf\")).to(logits.device),logits)\n",
    "\n",
    "\n",
    "        #apply temp scaling\n",
    "        if temperature >0.0:\n",
    "            logits=logits/temperature\n",
    "\n",
    "            # softmax\n",
    "            probs=torch.softmax(logits,dim=-1) # (batch_size,context_len)\n",
    "\n",
    "            #sample from distribution \n",
    "            idx_next=torch.multinomial(probs,num_samples=1)\n",
    "        \n",
    "        #otherwise same as before\n",
    "        else:\n",
    "            idx_next=torch.argmax(logits,dim=-1,keepdim=True)\n",
    "        \n",
    "\n",
    "        if idx_next== eos_id:\n",
    "            break\n",
    "        \n",
    "        # append sampled text to the sequence\n",
    "        idx=torch.cat((idx,idx_next),dim=1)\n",
    "\n",
    "    return idx\n",
    "\n",
    "def assign (left,right):\n",
    "    if left.shape !=right.shape:\n",
    "        raise ValueError(f\"Shape Mismatch. Left:{left.shape} , Right:{right.shape}\")\n",
    "    return torch.nn.Parameter(torch.tensor(right))\n",
    "\n",
    "import numpy as np\n",
    "\n",
    "def load_weights_into_gpt(gpt,params):\n",
    "    gpt.pos_emb.weight=assign(gpt.pos_emb.weight,params['wpe'])\n",
    "    gpt.tok_emb.weight=assign(gpt.tok_emb.weight,params['wte'])\n",
    "    for b in range (len(params[\"blocks\"])):\n",
    "        q_w,k_w,v_w=np.split(\n",
    "            (params[\"blocks\"][b][\"attn\"][\"c_attn\"])[\"w\"], 3,axis=-1\n",
    "        )\n",
    "        gpt.trf_blocks[b].att.W_query.weight=assign(\n",
    "            gpt.trf_blocks[b].att.W_query.weight,q_w.T\n",
    "        )\n",
    "        gpt.trf_blocks[b].att.W_key.weight=assign(\n",
    "            gpt.trf_blocks[b].att.W_key.weight,k_w.T\n",
    "        )\n",
    "        gpt.trf_blocks[b].att.W_value.weight=assign(\n",
    "            gpt.trf_blocks[b].att.W_value.weight,v_w.T\n",
    "        )\n",
    "\n",
    "        q_b,k_b,v_b=np.split(\n",
    "            (params[\"blocks\"][b][\"attn\"][\"c_attn\"])[\"b\"], 3,axis=-1\n",
    "        )\n",
    "        gpt.trf_blocks[b].att.W_query.bias=assign(\n",
    "            gpt.trf_blocks[b].att.W_query.bias,q_b\n",
    "        )\n",
    "        gpt.trf_blocks[b].att.W_key.bias=assign(\n",
    "            gpt.trf_blocks[b].att.W_key.bias,k_b\n",
    "        )\n",
    "        gpt.trf_blocks[b].att.W_value.bias=assign(\n",
    "            gpt.trf_blocks[b].att.W_value.bias,v_b\n",
    "        )\n",
    "\n",
    "\n",
    "        \n",
    "        gpt.trf_blocks[b].att.out_proj.weight=assign(\n",
    "            gpt.trf_blocks[b].att.out_proj.weight,\n",
    "            params[\"blocks\"][b][\"attn\"][\"c_proj\"][\"w\"].T\n",
    "        )\n",
    "        gpt.trf_blocks[b].att.out_proj.bias=assign(\n",
    "            gpt.trf_blocks[b].att.out_proj.bias,\n",
    "            params[\"blocks\"][b][\"attn\"][\"c_proj\"][\"b\"]\n",
    "        )\n",
    "\n",
    "        gpt.trf_blocks[b].ff.layers[0].weight=assign(\n",
    "            gpt.trf_blocks[b].ff.layers[0].weight,\n",
    "            params[\"blocks\"][b][\"mlp\"][\"c_fc\"][\"w\"].T\n",
    "        )\n",
    "        gpt.trf_blocks[b].ff.layers[0].bias=assign(\n",
    "            gpt.trf_blocks[b].ff.layers[0].bias,\n",
    "            params[\"blocks\"][b][\"mlp\"][\"c_fc\"][\"b\"]\n",
    "        )\n",
    "        gpt.trf_blocks[b].ff.layers[2].weight=assign(\n",
    "            gpt.trf_blocks[b].ff.layers[2].weight,\n",
    "            params[\"blocks\"][b][\"mlp\"][\"c_proj\"][\"w\"].T\n",
    "        )\n",
    "        gpt.trf_blocks[b].ff.layers[2].bias=assign(\n",
    "            gpt.trf_blocks[b].ff.layers[2].bias,\n",
    "            params[\"blocks\"][b][\"mlp\"][\"c_proj\"][\"b\"]\n",
    "        )\n",
    "\n",
    "\n",
    "        gpt.trf_blocks[b].norm1.scale=assign(\n",
    "            gpt.trf_blocks[b].norm1.scale,\n",
    "            params[\"blocks\"][b][\"ln_1\"][\"g\"]\n",
    "        )\n",
    "        gpt.trf_blocks[b].norm1.shift=assign(\n",
    "            gpt.trf_blocks[b].norm1.shift,\n",
    "            params[\"blocks\"][b][\"ln_1\"][\"b\"]\n",
    "        )\n",
    "        gpt.trf_blocks[b].norm2.scale=assign(\n",
    "            gpt.trf_blocks[b].norm2.scale,\n",
    "            params[\"blocks\"][b][\"ln_2\"][\"g\"]\n",
    "        )\n",
    "        gpt.trf_blocks[b].norm2.shift=assign(\n",
    "            gpt.trf_blocks[b].norm2.shift,\n",
    "            params[\"blocks\"][b][\"ln_2\"][\"b\"]\n",
    "        )\n",
    "\n",
    "\n",
    "    gpt.final_norm.scale=assign(gpt.final_norm.scale,params[\"g\"])\n",
    "    gpt.final_norm.shift=assign(gpt.final_norm.shift,params[\"b\"])\n",
    "    gpt.out_head.weight=assign(gpt.out_head.weight,params[\"wte\"])\n",
    "\n",
    "\n",
    "import psutil\n",
    "print(f\"Memory usage: {psutil.virtual_memory().percent}%\")\n",
    "\n"
   ]
  },
  {
   "cell_type": "code",
   "execution_count": 12,
   "metadata": {},
   "outputs": [
    {
     "name": "stdout",
     "output_type": "stream",
     "text": [
      "Number of entries: 1100\n",
      "Memory usage: 44.1%\n"
     ]
    }
   ],
   "source": [
    "# parameter efficient finetuning (PEFT) like Lora and QLora\n",
    "import json\n",
    "import os\n",
    "import urllib\n",
    "import ssl\n",
    "\n",
    "def download_and_load_file(file_path, url):\n",
    "    ssl_context = ssl.create_default_context()\n",
    "    ssl_context.check_hostname = False\n",
    "    ssl_context.verify_mode = ssl.CERT_NONE\n",
    "\n",
    "    if not os.path.exists(file_path):\n",
    "        with urllib.request.urlopen(url, context=ssl_context) as response:\n",
    "            text_data = response.read().decode(\"utf-8\")\n",
    "        with open(file_path, \"w\", encoding=\"utf-8\") as file:\n",
    "            file.write(text_data)\n",
    "    else:\n",
    "        with open(file_path, \"r\", encoding=\"utf-8\") as file:\n",
    "            text_data = file.read()\n",
    "\n",
    "    with open(file_path, \"r\", encoding=\"utf-8\") as file:\n",
    "        data = json.load(file)\n",
    "\n",
    "    return data\n",
    "\n",
    "\n",
    "file_path = \"instruction-data.json\"\n",
    "url = (\n",
    "    \"https://raw.githubusercontent.com/rasbt/LLMs-from-scratch\"\n",
    "    \"/main/ch07/01_main-chapter-code/instruction-data.json\"\n",
    ")\n",
    "\n",
    "data = download_and_load_file(file_path, url)\n",
    "print(\"Number of entries:\", len(data))\n",
    "import psutil\n",
    "print(f\"Memory usage: {psutil.virtual_memory().percent}%\")\n"
   ]
  },
  {
   "cell_type": "code",
   "execution_count": 13,
   "metadata": {},
   "outputs": [
    {
     "name": "stdout",
     "output_type": "stream",
     "text": [
      "Memory usage: 44.2%\n"
     ]
    }
   ],
   "source": [
    "#Converting the instructions to the alpaca format\n",
    "def format_input(entry):\n",
    "    instruction_text = (\n",
    "        f\"Below is an instruction that describes a task. \"\n",
    "        f\"Write a response that appropriately completes the request.\"\n",
    "        f\"\\n\\n### Instruction:\\n{entry['instruction']}\"\n",
    "    )\n",
    "\n",
    "    input_text = f\"\\n\\n### Input:\\n{entry['input']}\" if entry[\"input\"] else \"\"\n",
    "\n",
    "    return instruction_text + input_text\n",
    "print(f\"Memory usage: {psutil.virtual_memory().percent}%\")"
   ]
  },
  {
   "cell_type": "code",
   "execution_count": 14,
   "metadata": {},
   "outputs": [
    {
     "name": "stdout",
     "output_type": "stream",
     "text": [
      "Below is an instruction that describes a task. Write a response that appropriately completes the request.\n",
      "\n",
      "### Instruction:\n",
      "Identify the correct spelling of the following word.\n",
      "\n",
      "### Input:\n",
      "Ocassion\n",
      "\n",
      "### Response:\n",
      "The correct spelling is 'Occasion.'\n",
      "Memory usage: 44.1%\n"
     ]
    }
   ],
   "source": [
    "model_input = format_input(data[50])\n",
    "desired_response = f\"\\n\\n### Response:\\n{data[50]['output']}\"\n",
    "\n",
    "print(model_input + desired_response)\n",
    "\n",
    "print(f\"Memory usage: {psutil.virtual_memory().percent}%\")"
   ]
  },
  {
   "cell_type": "code",
   "execution_count": 15,
   "metadata": {},
   "outputs": [
    {
     "name": "stdout",
     "output_type": "stream",
     "text": [
      "Memory usage: 44.1%\n"
     ]
    }
   ],
   "source": [
    "train_portion = int(len(data) * 0.85)  # 85% for training\n",
    "test_portion = int(len(data) * 0.1)    # 10% for testing\n",
    "val_portion = len(data) - train_portion - test_portion  # Remaining 5% for validation\n",
    "\n",
    "train_data = data[:train_portion]\n",
    "test_data = data[train_portion:train_portion + test_portion]\n",
    "val_data = data[train_portion + test_portion:]\n",
    "print(f\"Memory usage: {psutil.virtual_memory().percent}%\")"
   ]
  },
  {
   "cell_type": "code",
   "execution_count": 16,
   "metadata": {},
   "outputs": [
    {
     "name": "stdout",
     "output_type": "stream",
     "text": [
      "Training set length: 935\n",
      "Validation set length: 55\n",
      "Test set length: 110\n",
      "Memory usage: 44.0%\n"
     ]
    }
   ],
   "source": [
    "print(\"Training set length:\", len(train_data))\n",
    "print(\"Validation set length:\", len(val_data))\n",
    "print(\"Test set length:\", len(test_data))\n",
    "print(f\"Memory usage: {psutil.virtual_memory().percent}%\")"
   ]
  },
  {
   "cell_type": "code",
   "execution_count": 17,
   "metadata": {},
   "outputs": [
    {
     "name": "stdout",
     "output_type": "stream",
     "text": [
      "Memory usage: 44.3%\n"
     ]
    }
   ],
   "source": [
    "import torch\n",
    "from torch.utils.data import Dataset\n",
    "\n",
    "\n",
    "class InstructionDataset(Dataset):\n",
    "    def __init__(self, data, tokenizer):\n",
    "        self.data = data\n",
    "\n",
    "        # Pre-tokenize texts\n",
    "        self.encoded_texts = []\n",
    "        for entry in data:\n",
    "            instruction_plus_input = format_input(entry)\n",
    "            response_text = f\"\\n\\n### Response:\\n{entry['output']}\"\n",
    "            full_text = instruction_plus_input + response_text\n",
    "            self.encoded_texts.append(\n",
    "                tokenizer.encode(full_text)\n",
    "            )\n",
    "\n",
    "    def __getitem__(self, index):\n",
    "        return self.encoded_texts[index]\n",
    "\n",
    "    def __len__(self):\n",
    "        return len(self.data)\n",
    "print(f\"Memory usage: {psutil.virtual_memory().percent}%\")"
   ]
  },
  {
   "cell_type": "code",
   "execution_count": 18,
   "metadata": {},
   "outputs": [
    {
     "name": "stdout",
     "output_type": "stream",
     "text": [
      "[50256]\n",
      "Memory usage: 44.6%\n"
     ]
    }
   ],
   "source": [
    "import tiktoken\n",
    "tokenizer = tiktoken.get_encoding(\"gpt2\")\n",
    "\n",
    "print(tokenizer.encode(\"<|endoftext|>\", allowed_special={\"<|endoftext|>\"}))\n",
    "print(f\"Memory usage: {psutil.virtual_memory().percent}%\")"
   ]
  },
  {
   "cell_type": "code",
   "execution_count": 19,
   "metadata": {},
   "outputs": [
    {
     "name": "stdout",
     "output_type": "stream",
     "text": [
      "Memory usage: 44.6%\n"
     ]
    }
   ],
   "source": [
    "def custom_collate_draft_1(\n",
    "    batch,\n",
    "    pad_token_id=50256,\n",
    "    device=\"cpu\"\n",
    "):\n",
    "    # Find the longest sequence in the batch\n",
    "    # and increase the max length by +1, which will add one extra\n",
    "    # padding token below\n",
    "    batch_max_length = max(len(item)+1 for item in batch)\n",
    "\n",
    "    # Pad and prepare inputs\n",
    "    inputs_lst = []\n",
    "\n",
    "    for item in batch:\n",
    "        new_item = item.copy()\n",
    "        # Add an <|endoftext|> token\n",
    "        new_item += [pad_token_id]\n",
    "        # Pad sequences to batch_max_length\n",
    "        padded = (\n",
    "            new_item + [pad_token_id] *\n",
    "            (batch_max_length - len(new_item))\n",
    "        )\n",
    "        # Via padded[:-1], we remove the extra padded token\n",
    "        # that has been added via the +1 setting in batch_max_length\n",
    "        # (the extra padding token will be relevant in later codes)\n",
    "        inputs = torch.tensor(padded[:-1])\n",
    "        inputs_lst.append(inputs)\n",
    "\n",
    "    # Convert list of inputs to tensor and transfer to target device\n",
    "    inputs_tensor = torch.stack(inputs_lst).to(device)\n",
    "    return inputs_tensor\n",
    "print(f\"Memory usage: {psutil.virtual_memory().percent}%\")"
   ]
  },
  {
   "cell_type": "code",
   "execution_count": 20,
   "metadata": {},
   "outputs": [
    {
     "name": "stdout",
     "output_type": "stream",
     "text": [
      "tensor([[    0,     1,     2,     3,     4],\n",
      "        [    5,     6, 50256, 50256, 50256],\n",
      "        [    7,     8,     9, 50256, 50256]])\n",
      "Memory usage: 44.6%\n"
     ]
    }
   ],
   "source": [
    "inputs_1 = [0, 1, 2, 3, 4]\n",
    "inputs_2 = [5, 6]\n",
    "inputs_3 = [7, 8, 9]\n",
    "\n",
    "batch = (\n",
    "    inputs_1,\n",
    "    inputs_2,\n",
    "    inputs_3\n",
    ")\n",
    "\n",
    "print(custom_collate_draft_1(batch))\n",
    "print(f\"Memory usage: {psutil.virtual_memory().percent}%\")"
   ]
  },
  {
   "cell_type": "code",
   "execution_count": 21,
   "metadata": {},
   "outputs": [
    {
     "name": "stdout",
     "output_type": "stream",
     "text": [
      "Memory usage: 44.6%\n"
     ]
    }
   ],
   "source": [
    "def custom_collate_draft_2(\n",
    "    batch,\n",
    "    pad_token_id=50256,\n",
    "    device=\"cpu\"\n",
    "):\n",
    "    # Find the longest sequence in the batch\n",
    "    batch_max_length = max(len(item)+1 for item in batch)\n",
    "\n",
    "    # Pad and prepare inputs\n",
    "    inputs_lst, targets_lst = [], []\n",
    "\n",
    "    for item in batch:\n",
    "        new_item = item.copy()\n",
    "        # Add an <|endoftext|> token\n",
    "        new_item += [pad_token_id]\n",
    "        # Pad sequences to max_length\n",
    "        padded = (\n",
    "            new_item + [pad_token_id] *\n",
    "            (batch_max_length - len(new_item))\n",
    "        )\n",
    "        inputs = torch.tensor(padded[:-1])  # Truncate the last token for inputs\n",
    "        targets = torch.tensor(padded[1:])  # Shift +1 to the right for targets\n",
    "        inputs_lst.append(inputs)\n",
    "        targets_lst.append(targets)\n",
    "\n",
    "    # Convert list of inputs to tensor and transfer to target device\n",
    "    inputs_tensor = torch.stack(inputs_lst).to(device)\n",
    "    targets_tensor = torch.stack(targets_lst).to(device)\n",
    "    return inputs_tensor, targets_tensor\n",
    "print(f\"Memory usage: {psutil.virtual_memory().percent}%\")"
   ]
  },
  {
   "cell_type": "code",
   "execution_count": 22,
   "metadata": {},
   "outputs": [
    {
     "name": "stdout",
     "output_type": "stream",
     "text": [
      "Memory usage: 44.4%\n"
     ]
    }
   ],
   "source": [
    "def custom_collate_fn(\n",
    "    batch,\n",
    "    pad_token_id=50256,\n",
    "    ignore_index=-100,\n",
    "    allowed_max_length=None,\n",
    "    device=\"cpu\"\n",
    "):\n",
    "    # Find the longest sequence in the batch\n",
    "    batch_max_length = max(len(item)+1 for item in batch)\n",
    "\n",
    "    # Pad and prepare inputs and targets\n",
    "    inputs_lst, targets_lst = [], []\n",
    "\n",
    "    for item in batch:\n",
    "        new_item = item.copy()\n",
    "        # Add an <|endoftext|> token\n",
    "        new_item += [pad_token_id]\n",
    "        # Pad sequences to max_length\n",
    "        padded = (\n",
    "            new_item + [pad_token_id] *\n",
    "            (batch_max_length - len(new_item))\n",
    "        )\n",
    "        inputs = torch.tensor(padded[:-1])  # Truncate the last token for inputs\n",
    "        targets = torch.tensor(padded[1:])  # Shift +1 to the right for targets\n",
    "\n",
    "        # New: Replace all but the first padding tokens in targets by ignore_index\n",
    "        mask = targets == pad_token_id\n",
    "        indices = torch.nonzero(mask).squeeze()\n",
    "        if indices.numel() > 1:\n",
    "            targets[indices[1:]] = ignore_index\n",
    "\n",
    "        # New: Optionally truncate to maximum sequence length\n",
    "        if allowed_max_length is not None:\n",
    "            inputs = inputs[:allowed_max_length]\n",
    "            targets = targets[:allowed_max_length]\n",
    "\n",
    "        inputs_lst.append(inputs)\n",
    "        targets_lst.append(targets)\n",
    "\n",
    "    # Convert list of inputs and targets to tensors and transfer to target device\n",
    "    inputs_tensor = torch.stack(inputs_lst).to(device)\n",
    "    targets_tensor = torch.stack(targets_lst).to(device)\n",
    "\n",
    "    return inputs_tensor, targets_tensor\n",
    "print(f\"Memory usage: {psutil.virtual_memory().percent}%\")"
   ]
  },
  {
   "cell_type": "code",
   "execution_count": 23,
   "metadata": {},
   "outputs": [
    {
     "name": "stdout",
     "output_type": "stream",
     "text": [
      "tensor([[    0,     1,     2,     3,     4],\n",
      "        [    5,     6, 50256, 50256, 50256],\n",
      "        [    7,     8,     9, 50256, 50256]])\n",
      "tensor([[    1,     2,     3,     4, 50256],\n",
      "        [    6, 50256,  -100,  -100,  -100],\n",
      "        [    8,     9, 50256,  -100,  -100]])\n",
      "Memory usage: 44.3%\n"
     ]
    }
   ],
   "source": [
    "inputs_1 = [0, 1, 2, 3, 4]\n",
    "inputs_2 = [5, 6]\n",
    "inputs_3 = [7, 8, 9]\n",
    "\n",
    "batch = (\n",
    "    inputs_1,\n",
    "    inputs_2,\n",
    "    inputs_3\n",
    ")\n",
    "\n",
    "inputs, targets = custom_collate_fn(batch)\n",
    "print(inputs)\n",
    "print(targets)\n",
    "print(f\"Memory usage: {psutil.virtual_memory().percent}%\")"
   ]
  },
  {
   "cell_type": "code",
   "execution_count": 24,
   "metadata": {},
   "outputs": [
    {
     "name": "stdout",
     "output_type": "stream",
     "text": [
      "Device: cpu\n",
      "Memory usage: 44.2%\n"
     ]
    }
   ],
   "source": [
    "# Masking the target tokrn ids\n",
    "device = torch.device(\"cuda\" if torch.cuda.is_available() else \"cpu\")\n",
    "\n",
    "# Note:\n",
    "# Uncommenting the following lines will allow the code to run on Apple Silicon chips, if applicable,\n",
    "# which is much faster than on an Apple CPU (as measured on an M3 MacBook Air).\n",
    "# However, the resulting loss values may be slightly different.\n",
    "\n",
    "#if torch.cuda.is_available():\n",
    "#    device = torch.device(\"cuda\")\n",
    "#elif torch.backends.mps.is_available():\n",
    "#    device = torch.device(\"mps\")\n",
    "#else:\n",
    "#    device = torch.device(\"cpu\")\n",
    "\n",
    "print(\"Device:\", device)\n",
    "print(f\"Memory usage: {psutil.virtual_memory().percent}%\")"
   ]
  },
  {
   "cell_type": "markdown",
   "metadata": {},
   "source": []
  },
  {
   "cell_type": "code",
   "execution_count": 25,
   "metadata": {},
   "outputs": [],
   "source": [
    "from functools import partial\n",
    "customized_collate_fn = partial(custom_collate_fn, device=device, allowed_max_length=1024)"
   ]
  },
  {
   "cell_type": "code",
   "execution_count": 26,
   "metadata": {},
   "outputs": [
    {
     "name": "stdout",
     "output_type": "stream",
     "text": [
      "Memory usage: 44.6%\n"
     ]
    }
   ],
   "source": [
    "from torch.utils.data import DataLoader\n",
    "\n",
    "\n",
    "num_workers = 0\n",
    "batch_size = 1 #originally 8 but the system is not able to handle it\n",
    "\n",
    "torch.manual_seed(123)\n",
    "\n",
    "train_dataset = InstructionDataset(train_data, tokenizer)\n",
    "train_loader = DataLoader(\n",
    "    train_dataset,\n",
    "    batch_size=batch_size,\n",
    "    collate_fn=customized_collate_fn,\n",
    "    shuffle=True,\n",
    "    drop_last=True,\n",
    "    num_workers=num_workers\n",
    ")\n",
    "\n",
    "val_dataset = InstructionDataset(val_data, tokenizer)\n",
    "val_loader = DataLoader(\n",
    "    val_dataset,\n",
    "    batch_size=batch_size,\n",
    "    collate_fn=customized_collate_fn,\n",
    "    shuffle=False,\n",
    "    drop_last=False,\n",
    "    num_workers=num_workers\n",
    ")\n",
    "\n",
    "test_dataset = InstructionDataset(test_data, tokenizer)\n",
    "test_loader = DataLoader(\n",
    "    test_dataset,\n",
    "    batch_size=batch_size,\n",
    "    collate_fn=customized_collate_fn,\n",
    "    shuffle=False,\n",
    "    drop_last=False,\n",
    "    num_workers=num_workers\n",
    ")\n",
    "print(f\"Memory usage: {psutil.virtual_memory().percent}%\")"
   ]
  },
  {
   "cell_type": "code",
   "execution_count": 27,
   "metadata": {},
   "outputs": [
    {
     "name": "stdout",
     "output_type": "stream",
     "text": [
      "Train loader:\n",
      "torch.Size([1, 61]) torch.Size([1, 61])\n",
      "torch.Size([1, 48]) torch.Size([1, 48])\n",
      "torch.Size([1, 55]) torch.Size([1, 55])\n",
      "torch.Size([1, 53]) torch.Size([1, 53])\n",
      "torch.Size([1, 53]) torch.Size([1, 53])\n",
      "torch.Size([1, 58]) torch.Size([1, 58])\n",
      "torch.Size([1, 44]) torch.Size([1, 44])\n",
      "torch.Size([1, 58]) torch.Size([1, 58])\n",
      "torch.Size([1, 43]) torch.Size([1, 43])\n",
      "torch.Size([1, 62]) torch.Size([1, 62])\n",
      "torch.Size([1, 47]) torch.Size([1, 47])\n",
      "torch.Size([1, 47]) torch.Size([1, 47])\n",
      "torch.Size([1, 61]) torch.Size([1, 61])\n",
      "torch.Size([1, 76]) torch.Size([1, 76])\n",
      "torch.Size([1, 54]) torch.Size([1, 54])\n",
      "torch.Size([1, 49]) torch.Size([1, 49])\n",
      "torch.Size([1, 61]) torch.Size([1, 61])\n",
      "torch.Size([1, 67]) torch.Size([1, 67])\n",
      "torch.Size([1, 73]) torch.Size([1, 73])\n",
      "torch.Size([1, 62]) torch.Size([1, 62])\n",
      "torch.Size([1, 50]) torch.Size([1, 50])\n",
      "torch.Size([1, 46]) torch.Size([1, 46])\n",
      "torch.Size([1, 55]) torch.Size([1, 55])\n",
      "torch.Size([1, 49]) torch.Size([1, 49])\n",
      "torch.Size([1, 68]) torch.Size([1, 68])\n",
      "torch.Size([1, 48]) torch.Size([1, 48])\n",
      "torch.Size([1, 47]) torch.Size([1, 47])\n",
      "torch.Size([1, 51]) torch.Size([1, 51])\n",
      "torch.Size([1, 61]) torch.Size([1, 61])\n",
      "torch.Size([1, 48]) torch.Size([1, 48])\n",
      "torch.Size([1, 53]) torch.Size([1, 53])\n",
      "torch.Size([1, 68]) torch.Size([1, 68])\n",
      "torch.Size([1, 46]) torch.Size([1, 46])\n",
      "torch.Size([1, 65]) torch.Size([1, 65])\n",
      "torch.Size([1, 53]) torch.Size([1, 53])\n",
      "torch.Size([1, 50]) torch.Size([1, 50])\n",
      "torch.Size([1, 46]) torch.Size([1, 46])\n",
      "torch.Size([1, 54]) torch.Size([1, 54])\n",
      "torch.Size([1, 57]) torch.Size([1, 57])\n",
      "torch.Size([1, 50]) torch.Size([1, 50])\n",
      "torch.Size([1, 57]) torch.Size([1, 57])\n",
      "torch.Size([1, 51]) torch.Size([1, 51])\n",
      "torch.Size([1, 61]) torch.Size([1, 61])\n",
      "torch.Size([1, 72]) torch.Size([1, 72])\n",
      "torch.Size([1, 60]) torch.Size([1, 60])\n",
      "torch.Size([1, 53]) torch.Size([1, 53])\n",
      "torch.Size([1, 51]) torch.Size([1, 51])\n",
      "torch.Size([1, 59]) torch.Size([1, 59])\n",
      "torch.Size([1, 58]) torch.Size([1, 58])\n",
      "torch.Size([1, 46]) torch.Size([1, 46])\n",
      "torch.Size([1, 80]) torch.Size([1, 80])\n",
      "torch.Size([1, 44]) torch.Size([1, 44])\n",
      "torch.Size([1, 64]) torch.Size([1, 64])\n",
      "torch.Size([1, 48]) torch.Size([1, 48])\n",
      "torch.Size([1, 52]) torch.Size([1, 52])\n",
      "torch.Size([1, 46]) torch.Size([1, 46])\n",
      "torch.Size([1, 54]) torch.Size([1, 54])\n",
      "torch.Size([1, 49]) torch.Size([1, 49])\n",
      "torch.Size([1, 63]) torch.Size([1, 63])\n",
      "torch.Size([1, 52]) torch.Size([1, 52])\n",
      "torch.Size([1, 56]) torch.Size([1, 56])\n",
      "torch.Size([1, 67]) torch.Size([1, 67])\n",
      "torch.Size([1, 54]) torch.Size([1, 54])\n",
      "torch.Size([1, 49]) torch.Size([1, 49])\n",
      "torch.Size([1, 61]) torch.Size([1, 61])\n",
      "torch.Size([1, 50]) torch.Size([1, 50])\n",
      "torch.Size([1, 61]) torch.Size([1, 61])\n",
      "torch.Size([1, 53]) torch.Size([1, 53])\n",
      "torch.Size([1, 54]) torch.Size([1, 54])\n",
      "torch.Size([1, 62]) torch.Size([1, 62])\n",
      "torch.Size([1, 52]) torch.Size([1, 52])\n",
      "torch.Size([1, 46]) torch.Size([1, 46])\n",
      "torch.Size([1, 56]) torch.Size([1, 56])\n",
      "torch.Size([1, 68]) torch.Size([1, 68])\n",
      "torch.Size([1, 55]) torch.Size([1, 55])\n",
      "torch.Size([1, 55]) torch.Size([1, 55])\n",
      "torch.Size([1, 61]) torch.Size([1, 61])\n",
      "torch.Size([1, 56]) torch.Size([1, 56])\n",
      "torch.Size([1, 75]) torch.Size([1, 75])\n",
      "torch.Size([1, 53]) torch.Size([1, 53])\n",
      "torch.Size([1, 51]) torch.Size([1, 51])\n",
      "torch.Size([1, 52]) torch.Size([1, 52])\n",
      "torch.Size([1, 49]) torch.Size([1, 49])\n",
      "torch.Size([1, 49]) torch.Size([1, 49])\n",
      "torch.Size([1, 47]) torch.Size([1, 47])\n",
      "torch.Size([1, 62]) torch.Size([1, 62])\n",
      "torch.Size([1, 51]) torch.Size([1, 51])\n",
      "torch.Size([1, 54]) torch.Size([1, 54])\n",
      "torch.Size([1, 54]) torch.Size([1, 54])\n",
      "torch.Size([1, 67]) torch.Size([1, 67])\n",
      "torch.Size([1, 65]) torch.Size([1, 65])\n",
      "torch.Size([1, 49]) torch.Size([1, 49])\n",
      "torch.Size([1, 44]) torch.Size([1, 44])\n",
      "torch.Size([1, 58]) torch.Size([1, 58])\n",
      "torch.Size([1, 56]) torch.Size([1, 56])\n",
      "torch.Size([1, 68]) torch.Size([1, 68])\n",
      "torch.Size([1, 56]) torch.Size([1, 56])\n",
      "torch.Size([1, 65]) torch.Size([1, 65])\n",
      "torch.Size([1, 51]) torch.Size([1, 51])\n",
      "torch.Size([1, 64]) torch.Size([1, 64])\n",
      "torch.Size([1, 67]) torch.Size([1, 67])\n",
      "torch.Size([1, 51]) torch.Size([1, 51])\n",
      "torch.Size([1, 51]) torch.Size([1, 51])\n",
      "torch.Size([1, 52]) torch.Size([1, 52])\n",
      "torch.Size([1, 59]) torch.Size([1, 59])\n",
      "torch.Size([1, 60]) torch.Size([1, 60])\n",
      "torch.Size([1, 48]) torch.Size([1, 48])\n",
      "torch.Size([1, 56]) torch.Size([1, 56])\n",
      "torch.Size([1, 52]) torch.Size([1, 52])\n",
      "torch.Size([1, 61]) torch.Size([1, 61])\n",
      "torch.Size([1, 77]) torch.Size([1, 77])\n",
      "torch.Size([1, 59]) torch.Size([1, 59])\n",
      "torch.Size([1, 46]) torch.Size([1, 46])\n",
      "torch.Size([1, 59]) torch.Size([1, 59])\n",
      "torch.Size([1, 51]) torch.Size([1, 51])\n",
      "torch.Size([1, 43]) torch.Size([1, 43])\n",
      "torch.Size([1, 69]) torch.Size([1, 69])\n",
      "torch.Size([1, 52]) torch.Size([1, 52])\n",
      "torch.Size([1, 52]) torch.Size([1, 52])\n",
      "torch.Size([1, 50]) torch.Size([1, 50])\n",
      "torch.Size([1, 51]) torch.Size([1, 51])\n",
      "torch.Size([1, 51]) torch.Size([1, 51])\n",
      "torch.Size([1, 65]) torch.Size([1, 65])\n",
      "torch.Size([1, 45]) torch.Size([1, 45])\n",
      "torch.Size([1, 54]) torch.Size([1, 54])\n",
      "torch.Size([1, 42]) torch.Size([1, 42])\n",
      "torch.Size([1, 47]) torch.Size([1, 47])\n",
      "torch.Size([1, 79]) torch.Size([1, 79])\n",
      "torch.Size([1, 44]) torch.Size([1, 44])\n",
      "torch.Size([1, 52]) torch.Size([1, 52])\n",
      "torch.Size([1, 71]) torch.Size([1, 71])\n",
      "torch.Size([1, 56]) torch.Size([1, 56])\n",
      "torch.Size([1, 52]) torch.Size([1, 52])\n",
      "torch.Size([1, 51]) torch.Size([1, 51])\n",
      "torch.Size([1, 50]) torch.Size([1, 50])\n",
      "torch.Size([1, 46]) torch.Size([1, 46])\n",
      "torch.Size([1, 51]) torch.Size([1, 51])\n",
      "torch.Size([1, 66]) torch.Size([1, 66])\n",
      "torch.Size([1, 47]) torch.Size([1, 47])\n",
      "torch.Size([1, 59]) torch.Size([1, 59])\n",
      "torch.Size([1, 49]) torch.Size([1, 49])\n",
      "torch.Size([1, 57]) torch.Size([1, 57])\n",
      "torch.Size([1, 60]) torch.Size([1, 60])\n",
      "torch.Size([1, 56]) torch.Size([1, 56])\n",
      "torch.Size([1, 58]) torch.Size([1, 58])\n",
      "torch.Size([1, 49]) torch.Size([1, 49])\n",
      "torch.Size([1, 51]) torch.Size([1, 51])\n",
      "torch.Size([1, 83]) torch.Size([1, 83])\n",
      "torch.Size([1, 48]) torch.Size([1, 48])\n",
      "torch.Size([1, 61]) torch.Size([1, 61])\n",
      "torch.Size([1, 53]) torch.Size([1, 53])\n",
      "torch.Size([1, 46]) torch.Size([1, 46])\n",
      "torch.Size([1, 68]) torch.Size([1, 68])\n",
      "torch.Size([1, 50]) torch.Size([1, 50])\n",
      "torch.Size([1, 44]) torch.Size([1, 44])\n",
      "torch.Size([1, 50]) torch.Size([1, 50])\n",
      "torch.Size([1, 57]) torch.Size([1, 57])\n",
      "torch.Size([1, 59]) torch.Size([1, 59])\n",
      "torch.Size([1, 59]) torch.Size([1, 59])\n",
      "torch.Size([1, 56]) torch.Size([1, 56])\n",
      "torch.Size([1, 46]) torch.Size([1, 46])\n",
      "torch.Size([1, 58]) torch.Size([1, 58])\n",
      "torch.Size([1, 57]) torch.Size([1, 57])\n",
      "torch.Size([1, 56]) torch.Size([1, 56])\n",
      "torch.Size([1, 56]) torch.Size([1, 56])\n",
      "torch.Size([1, 70]) torch.Size([1, 70])\n",
      "torch.Size([1, 54]) torch.Size([1, 54])\n",
      "torch.Size([1, 80]) torch.Size([1, 80])\n",
      "torch.Size([1, 45]) torch.Size([1, 45])\n",
      "torch.Size([1, 57]) torch.Size([1, 57])\n",
      "torch.Size([1, 48]) torch.Size([1, 48])\n",
      "torch.Size([1, 71]) torch.Size([1, 71])\n",
      "torch.Size([1, 47]) torch.Size([1, 47])\n",
      "torch.Size([1, 68]) torch.Size([1, 68])\n",
      "torch.Size([1, 61]) torch.Size([1, 61])\n",
      "torch.Size([1, 56]) torch.Size([1, 56])\n",
      "torch.Size([1, 52]) torch.Size([1, 52])\n",
      "torch.Size([1, 63]) torch.Size([1, 63])\n",
      "torch.Size([1, 51]) torch.Size([1, 51])\n",
      "torch.Size([1, 58]) torch.Size([1, 58])\n",
      "torch.Size([1, 69]) torch.Size([1, 69])\n",
      "torch.Size([1, 49]) torch.Size([1, 49])\n",
      "torch.Size([1, 46]) torch.Size([1, 46])\n",
      "torch.Size([1, 58]) torch.Size([1, 58])\n",
      "torch.Size([1, 48]) torch.Size([1, 48])\n",
      "torch.Size([1, 47]) torch.Size([1, 47])\n",
      "torch.Size([1, 48]) torch.Size([1, 48])\n",
      "torch.Size([1, 46]) torch.Size([1, 46])\n",
      "torch.Size([1, 44]) torch.Size([1, 44])\n",
      "torch.Size([1, 58]) torch.Size([1, 58])\n",
      "torch.Size([1, 57]) torch.Size([1, 57])\n",
      "torch.Size([1, 65]) torch.Size([1, 65])\n",
      "torch.Size([1, 57]) torch.Size([1, 57])\n",
      "torch.Size([1, 68]) torch.Size([1, 68])\n",
      "torch.Size([1, 50]) torch.Size([1, 50])\n",
      "torch.Size([1, 42]) torch.Size([1, 42])\n",
      "torch.Size([1, 52]) torch.Size([1, 52])\n",
      "torch.Size([1, 61]) torch.Size([1, 61])\n",
      "torch.Size([1, 56]) torch.Size([1, 56])\n",
      "torch.Size([1, 51]) torch.Size([1, 51])\n",
      "torch.Size([1, 60]) torch.Size([1, 60])\n",
      "torch.Size([1, 56]) torch.Size([1, 56])\n",
      "torch.Size([1, 54]) torch.Size([1, 54])\n",
      "torch.Size([1, 49]) torch.Size([1, 49])\n",
      "torch.Size([1, 52]) torch.Size([1, 52])\n",
      "torch.Size([1, 51]) torch.Size([1, 51])\n",
      "torch.Size([1, 56]) torch.Size([1, 56])\n",
      "torch.Size([1, 57]) torch.Size([1, 57])\n",
      "torch.Size([1, 53]) torch.Size([1, 53])\n",
      "torch.Size([1, 45]) torch.Size([1, 45])\n",
      "torch.Size([1, 59]) torch.Size([1, 59])\n",
      "torch.Size([1, 44]) torch.Size([1, 44])\n",
      "torch.Size([1, 54]) torch.Size([1, 54])\n",
      "torch.Size([1, 44]) torch.Size([1, 44])\n",
      "torch.Size([1, 47]) torch.Size([1, 47])\n",
      "torch.Size([1, 57]) torch.Size([1, 57])\n",
      "torch.Size([1, 63]) torch.Size([1, 63])\n",
      "torch.Size([1, 53]) torch.Size([1, 53])\n",
      "torch.Size([1, 51]) torch.Size([1, 51])\n",
      "torch.Size([1, 52]) torch.Size([1, 52])\n",
      "torch.Size([1, 56]) torch.Size([1, 56])\n",
      "torch.Size([1, 53]) torch.Size([1, 53])\n",
      "torch.Size([1, 69]) torch.Size([1, 69])\n",
      "torch.Size([1, 61]) torch.Size([1, 61])\n",
      "torch.Size([1, 58]) torch.Size([1, 58])\n",
      "torch.Size([1, 60]) torch.Size([1, 60])\n",
      "torch.Size([1, 54]) torch.Size([1, 54])\n",
      "torch.Size([1, 60]) torch.Size([1, 60])\n",
      "torch.Size([1, 53]) torch.Size([1, 53])\n",
      "torch.Size([1, 48]) torch.Size([1, 48])\n",
      "torch.Size([1, 51]) torch.Size([1, 51])\n",
      "torch.Size([1, 63]) torch.Size([1, 63])\n",
      "torch.Size([1, 56]) torch.Size([1, 56])\n",
      "torch.Size([1, 65]) torch.Size([1, 65])\n",
      "torch.Size([1, 46]) torch.Size([1, 46])\n",
      "torch.Size([1, 50]) torch.Size([1, 50])\n",
      "torch.Size([1, 52]) torch.Size([1, 52])\n",
      "torch.Size([1, 53]) torch.Size([1, 53])\n",
      "torch.Size([1, 58]) torch.Size([1, 58])\n",
      "torch.Size([1, 65]) torch.Size([1, 65])\n",
      "torch.Size([1, 59]) torch.Size([1, 59])\n",
      "torch.Size([1, 48]) torch.Size([1, 48])\n",
      "torch.Size([1, 60]) torch.Size([1, 60])\n",
      "torch.Size([1, 48]) torch.Size([1, 48])\n",
      "torch.Size([1, 76]) torch.Size([1, 76])\n",
      "torch.Size([1, 50]) torch.Size([1, 50])\n",
      "torch.Size([1, 52]) torch.Size([1, 52])\n",
      "torch.Size([1, 58]) torch.Size([1, 58])\n",
      "torch.Size([1, 51]) torch.Size([1, 51])\n",
      "torch.Size([1, 59]) torch.Size([1, 59])\n",
      "torch.Size([1, 58]) torch.Size([1, 58])\n",
      "torch.Size([1, 62]) torch.Size([1, 62])\n",
      "torch.Size([1, 45]) torch.Size([1, 45])\n",
      "torch.Size([1, 66]) torch.Size([1, 66])\n",
      "torch.Size([1, 51]) torch.Size([1, 51])\n",
      "torch.Size([1, 59]) torch.Size([1, 59])\n",
      "torch.Size([1, 71]) torch.Size([1, 71])\n",
      "torch.Size([1, 61]) torch.Size([1, 61])\n",
      "torch.Size([1, 48]) torch.Size([1, 48])\n",
      "torch.Size([1, 48]) torch.Size([1, 48])\n",
      "torch.Size([1, 54]) torch.Size([1, 54])\n",
      "torch.Size([1, 62]) torch.Size([1, 62])\n",
      "torch.Size([1, 71]) torch.Size([1, 71])\n",
      "torch.Size([1, 58]) torch.Size([1, 58])\n",
      "torch.Size([1, 69]) torch.Size([1, 69])\n",
      "torch.Size([1, 58]) torch.Size([1, 58])\n",
      "torch.Size([1, 51]) torch.Size([1, 51])\n",
      "torch.Size([1, 55]) torch.Size([1, 55])\n",
      "torch.Size([1, 61]) torch.Size([1, 61])\n",
      "torch.Size([1, 91]) torch.Size([1, 91])\n",
      "torch.Size([1, 54]) torch.Size([1, 54])\n",
      "torch.Size([1, 69]) torch.Size([1, 69])\n",
      "torch.Size([1, 43]) torch.Size([1, 43])\n",
      "torch.Size([1, 60]) torch.Size([1, 60])\n",
      "torch.Size([1, 62]) torch.Size([1, 62])\n",
      "torch.Size([1, 53]) torch.Size([1, 53])\n",
      "torch.Size([1, 65]) torch.Size([1, 65])\n",
      "torch.Size([1, 48]) torch.Size([1, 48])\n",
      "torch.Size([1, 44]) torch.Size([1, 44])\n",
      "torch.Size([1, 52]) torch.Size([1, 52])\n",
      "torch.Size([1, 64]) torch.Size([1, 64])\n",
      "torch.Size([1, 46]) torch.Size([1, 46])\n",
      "torch.Size([1, 48]) torch.Size([1, 48])\n",
      "torch.Size([1, 50]) torch.Size([1, 50])\n",
      "torch.Size([1, 50]) torch.Size([1, 50])\n",
      "torch.Size([1, 50]) torch.Size([1, 50])\n",
      "torch.Size([1, 58]) torch.Size([1, 58])\n",
      "torch.Size([1, 55]) torch.Size([1, 55])\n",
      "torch.Size([1, 51]) torch.Size([1, 51])\n",
      "torch.Size([1, 53]) torch.Size([1, 53])\n",
      "torch.Size([1, 64]) torch.Size([1, 64])\n",
      "torch.Size([1, 53]) torch.Size([1, 53])\n",
      "torch.Size([1, 54]) torch.Size([1, 54])\n",
      "torch.Size([1, 57]) torch.Size([1, 57])\n",
      "torch.Size([1, 58]) torch.Size([1, 58])\n",
      "torch.Size([1, 67]) torch.Size([1, 67])\n",
      "torch.Size([1, 46]) torch.Size([1, 46])\n",
      "torch.Size([1, 55]) torch.Size([1, 55])\n",
      "torch.Size([1, 66]) torch.Size([1, 66])\n",
      "torch.Size([1, 44]) torch.Size([1, 44])\n",
      "torch.Size([1, 46]) torch.Size([1, 46])\n",
      "torch.Size([1, 44]) torch.Size([1, 44])\n",
      "torch.Size([1, 57]) torch.Size([1, 57])\n",
      "torch.Size([1, 61]) torch.Size([1, 61])\n",
      "torch.Size([1, 49]) torch.Size([1, 49])\n",
      "torch.Size([1, 54]) torch.Size([1, 54])\n",
      "torch.Size([1, 50]) torch.Size([1, 50])\n",
      "torch.Size([1, 54]) torch.Size([1, 54])\n",
      "torch.Size([1, 55]) torch.Size([1, 55])\n",
      "torch.Size([1, 54]) torch.Size([1, 54])\n",
      "torch.Size([1, 50]) torch.Size([1, 50])\n",
      "torch.Size([1, 64]) torch.Size([1, 64])\n",
      "torch.Size([1, 50]) torch.Size([1, 50])\n",
      "torch.Size([1, 52]) torch.Size([1, 52])\n",
      "torch.Size([1, 49]) torch.Size([1, 49])\n",
      "torch.Size([1, 43]) torch.Size([1, 43])\n",
      "torch.Size([1, 47]) torch.Size([1, 47])\n",
      "torch.Size([1, 61]) torch.Size([1, 61])\n",
      "torch.Size([1, 65]) torch.Size([1, 65])\n",
      "torch.Size([1, 56]) torch.Size([1, 56])\n",
      "torch.Size([1, 56]) torch.Size([1, 56])\n",
      "torch.Size([1, 58]) torch.Size([1, 58])\n",
      "torch.Size([1, 59]) torch.Size([1, 59])\n",
      "torch.Size([1, 54]) torch.Size([1, 54])\n",
      "torch.Size([1, 75]) torch.Size([1, 75])\n",
      "torch.Size([1, 56]) torch.Size([1, 56])\n",
      "torch.Size([1, 52]) torch.Size([1, 52])\n",
      "torch.Size([1, 50]) torch.Size([1, 50])\n",
      "torch.Size([1, 53]) torch.Size([1, 53])\n",
      "torch.Size([1, 51]) torch.Size([1, 51])\n",
      "torch.Size([1, 43]) torch.Size([1, 43])\n",
      "torch.Size([1, 56]) torch.Size([1, 56])\n",
      "torch.Size([1, 89]) torch.Size([1, 89])\n",
      "torch.Size([1, 50]) torch.Size([1, 50])\n",
      "torch.Size([1, 53]) torch.Size([1, 53])\n",
      "torch.Size([1, 56]) torch.Size([1, 56])\n",
      "torch.Size([1, 53]) torch.Size([1, 53])\n",
      "torch.Size([1, 52]) torch.Size([1, 52])\n",
      "torch.Size([1, 51]) torch.Size([1, 51])\n",
      "torch.Size([1, 59]) torch.Size([1, 59])\n",
      "torch.Size([1, 52]) torch.Size([1, 52])\n",
      "torch.Size([1, 52]) torch.Size([1, 52])\n",
      "torch.Size([1, 50]) torch.Size([1, 50])\n",
      "torch.Size([1, 45]) torch.Size([1, 45])\n",
      "torch.Size([1, 52]) torch.Size([1, 52])\n",
      "torch.Size([1, 54]) torch.Size([1, 54])\n",
      "torch.Size([1, 60]) torch.Size([1, 60])\n",
      "torch.Size([1, 50]) torch.Size([1, 50])\n",
      "torch.Size([1, 52]) torch.Size([1, 52])\n",
      "torch.Size([1, 60]) torch.Size([1, 60])\n",
      "torch.Size([1, 52]) torch.Size([1, 52])\n",
      "torch.Size([1, 88]) torch.Size([1, 88])\n",
      "torch.Size([1, 56]) torch.Size([1, 56])\n",
      "torch.Size([1, 50]) torch.Size([1, 50])\n",
      "torch.Size([1, 53]) torch.Size([1, 53])\n",
      "torch.Size([1, 50]) torch.Size([1, 50])\n",
      "torch.Size([1, 61]) torch.Size([1, 61])\n",
      "torch.Size([1, 83]) torch.Size([1, 83])\n",
      "torch.Size([1, 60]) torch.Size([1, 60])\n",
      "torch.Size([1, 65]) torch.Size([1, 65])\n",
      "torch.Size([1, 52]) torch.Size([1, 52])\n",
      "torch.Size([1, 53]) torch.Size([1, 53])\n",
      "torch.Size([1, 57]) torch.Size([1, 57])\n",
      "torch.Size([1, 58]) torch.Size([1, 58])\n",
      "torch.Size([1, 83]) torch.Size([1, 83])\n",
      "torch.Size([1, 52]) torch.Size([1, 52])\n",
      "torch.Size([1, 57]) torch.Size([1, 57])\n",
      "torch.Size([1, 57]) torch.Size([1, 57])\n",
      "torch.Size([1, 50]) torch.Size([1, 50])\n",
      "torch.Size([1, 60]) torch.Size([1, 60])\n",
      "torch.Size([1, 52]) torch.Size([1, 52])\n",
      "torch.Size([1, 70]) torch.Size([1, 70])\n",
      "torch.Size([1, 51]) torch.Size([1, 51])\n",
      "torch.Size([1, 51]) torch.Size([1, 51])\n",
      "torch.Size([1, 66]) torch.Size([1, 66])\n",
      "torch.Size([1, 54]) torch.Size([1, 54])\n",
      "torch.Size([1, 61]) torch.Size([1, 61])\n",
      "torch.Size([1, 65]) torch.Size([1, 65])\n",
      "torch.Size([1, 58]) torch.Size([1, 58])\n",
      "torch.Size([1, 44]) torch.Size([1, 44])\n",
      "torch.Size([1, 55]) torch.Size([1, 55])\n",
      "torch.Size([1, 50]) torch.Size([1, 50])\n",
      "torch.Size([1, 59]) torch.Size([1, 59])\n",
      "torch.Size([1, 55]) torch.Size([1, 55])\n",
      "torch.Size([1, 50]) torch.Size([1, 50])\n",
      "torch.Size([1, 59]) torch.Size([1, 59])\n",
      "torch.Size([1, 59]) torch.Size([1, 59])\n",
      "torch.Size([1, 54]) torch.Size([1, 54])\n",
      "torch.Size([1, 65]) torch.Size([1, 65])\n",
      "torch.Size([1, 66]) torch.Size([1, 66])\n",
      "torch.Size([1, 52]) torch.Size([1, 52])\n",
      "torch.Size([1, 74]) torch.Size([1, 74])\n",
      "torch.Size([1, 46]) torch.Size([1, 46])\n",
      "torch.Size([1, 52]) torch.Size([1, 52])\n",
      "torch.Size([1, 55]) torch.Size([1, 55])\n",
      "torch.Size([1, 76]) torch.Size([1, 76])\n",
      "torch.Size([1, 66]) torch.Size([1, 66])\n",
      "torch.Size([1, 70]) torch.Size([1, 70])\n",
      "torch.Size([1, 75]) torch.Size([1, 75])\n",
      "torch.Size([1, 60]) torch.Size([1, 60])\n",
      "torch.Size([1, 64]) torch.Size([1, 64])\n",
      "torch.Size([1, 45]) torch.Size([1, 45])\n",
      "torch.Size([1, 51]) torch.Size([1, 51])\n",
      "torch.Size([1, 67]) torch.Size([1, 67])\n",
      "torch.Size([1, 54]) torch.Size([1, 54])\n",
      "torch.Size([1, 55]) torch.Size([1, 55])\n",
      "torch.Size([1, 40]) torch.Size([1, 40])\n",
      "torch.Size([1, 52]) torch.Size([1, 52])\n",
      "torch.Size([1, 50]) torch.Size([1, 50])\n",
      "torch.Size([1, 60]) torch.Size([1, 60])\n",
      "torch.Size([1, 58]) torch.Size([1, 58])\n",
      "torch.Size([1, 55]) torch.Size([1, 55])\n",
      "torch.Size([1, 75]) torch.Size([1, 75])\n",
      "torch.Size([1, 68]) torch.Size([1, 68])\n",
      "torch.Size([1, 54]) torch.Size([1, 54])\n",
      "torch.Size([1, 55]) torch.Size([1, 55])\n",
      "torch.Size([1, 50]) torch.Size([1, 50])\n",
      "torch.Size([1, 83]) torch.Size([1, 83])\n",
      "torch.Size([1, 45]) torch.Size([1, 45])\n",
      "torch.Size([1, 59]) torch.Size([1, 59])\n",
      "torch.Size([1, 55]) torch.Size([1, 55])\n",
      "torch.Size([1, 42]) torch.Size([1, 42])\n",
      "torch.Size([1, 74]) torch.Size([1, 74])\n",
      "torch.Size([1, 46]) torch.Size([1, 46])\n",
      "torch.Size([1, 58]) torch.Size([1, 58])\n",
      "torch.Size([1, 54]) torch.Size([1, 54])\n",
      "torch.Size([1, 69]) torch.Size([1, 69])\n",
      "torch.Size([1, 47]) torch.Size([1, 47])\n",
      "torch.Size([1, 51]) torch.Size([1, 51])\n",
      "torch.Size([1, 56]) torch.Size([1, 56])\n",
      "torch.Size([1, 52]) torch.Size([1, 52])\n",
      "torch.Size([1, 49]) torch.Size([1, 49])\n",
      "torch.Size([1, 62]) torch.Size([1, 62])\n",
      "torch.Size([1, 67]) torch.Size([1, 67])\n",
      "torch.Size([1, 57]) torch.Size([1, 57])\n",
      "torch.Size([1, 61]) torch.Size([1, 61])\n",
      "torch.Size([1, 65]) torch.Size([1, 65])\n",
      "torch.Size([1, 60]) torch.Size([1, 60])\n",
      "torch.Size([1, 63]) torch.Size([1, 63])\n",
      "torch.Size([1, 45]) torch.Size([1, 45])\n",
      "torch.Size([1, 60]) torch.Size([1, 60])\n",
      "torch.Size([1, 58]) torch.Size([1, 58])\n",
      "torch.Size([1, 54]) torch.Size([1, 54])\n",
      "torch.Size([1, 54]) torch.Size([1, 54])\n",
      "torch.Size([1, 59]) torch.Size([1, 59])\n",
      "torch.Size([1, 57]) torch.Size([1, 57])\n",
      "torch.Size([1, 53]) torch.Size([1, 53])\n",
      "torch.Size([1, 56]) torch.Size([1, 56])\n",
      "torch.Size([1, 43]) torch.Size([1, 43])\n",
      "torch.Size([1, 60]) torch.Size([1, 60])\n",
      "torch.Size([1, 52]) torch.Size([1, 52])\n",
      "torch.Size([1, 60]) torch.Size([1, 60])\n",
      "torch.Size([1, 55]) torch.Size([1, 55])\n",
      "torch.Size([1, 52]) torch.Size([1, 52])\n",
      "torch.Size([1, 51]) torch.Size([1, 51])\n",
      "torch.Size([1, 58]) torch.Size([1, 58])\n",
      "torch.Size([1, 50]) torch.Size([1, 50])\n",
      "torch.Size([1, 48]) torch.Size([1, 48])\n",
      "torch.Size([1, 63]) torch.Size([1, 63])\n",
      "torch.Size([1, 53]) torch.Size([1, 53])\n",
      "torch.Size([1, 53]) torch.Size([1, 53])\n",
      "torch.Size([1, 57]) torch.Size([1, 57])\n",
      "torch.Size([1, 66]) torch.Size([1, 66])\n",
      "torch.Size([1, 46]) torch.Size([1, 46])\n",
      "torch.Size([1, 52]) torch.Size([1, 52])\n",
      "torch.Size([1, 69]) torch.Size([1, 69])\n",
      "torch.Size([1, 56]) torch.Size([1, 56])\n",
      "torch.Size([1, 56]) torch.Size([1, 56])\n",
      "torch.Size([1, 60]) torch.Size([1, 60])\n",
      "torch.Size([1, 52]) torch.Size([1, 52])\n",
      "torch.Size([1, 61]) torch.Size([1, 61])\n",
      "torch.Size([1, 80]) torch.Size([1, 80])\n",
      "torch.Size([1, 62]) torch.Size([1, 62])\n",
      "torch.Size([1, 71]) torch.Size([1, 71])\n",
      "torch.Size([1, 55]) torch.Size([1, 55])\n",
      "torch.Size([1, 70]) torch.Size([1, 70])\n",
      "torch.Size([1, 58]) torch.Size([1, 58])\n",
      "torch.Size([1, 60]) torch.Size([1, 60])\n",
      "torch.Size([1, 56]) torch.Size([1, 56])\n",
      "torch.Size([1, 52]) torch.Size([1, 52])\n",
      "torch.Size([1, 57]) torch.Size([1, 57])\n",
      "torch.Size([1, 61]) torch.Size([1, 61])\n",
      "torch.Size([1, 59]) torch.Size([1, 59])\n",
      "torch.Size([1, 60]) torch.Size([1, 60])\n",
      "torch.Size([1, 53]) torch.Size([1, 53])\n",
      "torch.Size([1, 56]) torch.Size([1, 56])\n",
      "torch.Size([1, 61]) torch.Size([1, 61])\n",
      "torch.Size([1, 59]) torch.Size([1, 59])\n",
      "torch.Size([1, 53]) torch.Size([1, 53])\n",
      "torch.Size([1, 54]) torch.Size([1, 54])\n",
      "torch.Size([1, 57]) torch.Size([1, 57])\n",
      "torch.Size([1, 58]) torch.Size([1, 58])\n",
      "torch.Size([1, 50]) torch.Size([1, 50])\n",
      "torch.Size([1, 51]) torch.Size([1, 51])\n",
      "torch.Size([1, 54]) torch.Size([1, 54])\n",
      "torch.Size([1, 58]) torch.Size([1, 58])\n",
      "torch.Size([1, 53]) torch.Size([1, 53])\n",
      "torch.Size([1, 62]) torch.Size([1, 62])\n",
      "torch.Size([1, 62]) torch.Size([1, 62])\n",
      "torch.Size([1, 69]) torch.Size([1, 69])\n",
      "torch.Size([1, 53]) torch.Size([1, 53])\n",
      "torch.Size([1, 50]) torch.Size([1, 50])\n",
      "torch.Size([1, 71]) torch.Size([1, 71])\n",
      "torch.Size([1, 60]) torch.Size([1, 60])\n",
      "torch.Size([1, 63]) torch.Size([1, 63])\n",
      "torch.Size([1, 67]) torch.Size([1, 67])\n",
      "torch.Size([1, 56]) torch.Size([1, 56])\n",
      "torch.Size([1, 60]) torch.Size([1, 60])\n",
      "torch.Size([1, 61]) torch.Size([1, 61])\n",
      "torch.Size([1, 56]) torch.Size([1, 56])\n",
      "torch.Size([1, 61]) torch.Size([1, 61])\n",
      "torch.Size([1, 56]) torch.Size([1, 56])\n",
      "torch.Size([1, 61]) torch.Size([1, 61])\n",
      "torch.Size([1, 57]) torch.Size([1, 57])\n",
      "torch.Size([1, 52]) torch.Size([1, 52])\n",
      "torch.Size([1, 68]) torch.Size([1, 68])\n",
      "torch.Size([1, 66]) torch.Size([1, 66])\n",
      "torch.Size([1, 54]) torch.Size([1, 54])\n",
      "torch.Size([1, 55]) torch.Size([1, 55])\n",
      "torch.Size([1, 54]) torch.Size([1, 54])\n",
      "torch.Size([1, 53]) torch.Size([1, 53])\n",
      "torch.Size([1, 45]) torch.Size([1, 45])\n",
      "torch.Size([1, 63]) torch.Size([1, 63])\n",
      "torch.Size([1, 51]) torch.Size([1, 51])\n",
      "torch.Size([1, 49]) torch.Size([1, 49])\n",
      "torch.Size([1, 55]) torch.Size([1, 55])\n",
      "torch.Size([1, 53]) torch.Size([1, 53])\n",
      "torch.Size([1, 44]) torch.Size([1, 44])\n",
      "torch.Size([1, 57]) torch.Size([1, 57])\n",
      "torch.Size([1, 70]) torch.Size([1, 70])\n",
      "torch.Size([1, 52]) torch.Size([1, 52])\n",
      "torch.Size([1, 64]) torch.Size([1, 64])\n",
      "torch.Size([1, 87]) torch.Size([1, 87])\n",
      "torch.Size([1, 67]) torch.Size([1, 67])\n",
      "torch.Size([1, 72]) torch.Size([1, 72])\n",
      "torch.Size([1, 62]) torch.Size([1, 62])\n",
      "torch.Size([1, 66]) torch.Size([1, 66])\n",
      "torch.Size([1, 53]) torch.Size([1, 53])\n",
      "torch.Size([1, 56]) torch.Size([1, 56])\n",
      "torch.Size([1, 65]) torch.Size([1, 65])\n",
      "torch.Size([1, 68]) torch.Size([1, 68])\n",
      "torch.Size([1, 50]) torch.Size([1, 50])\n",
      "torch.Size([1, 53]) torch.Size([1, 53])\n",
      "torch.Size([1, 53]) torch.Size([1, 53])\n",
      "torch.Size([1, 46]) torch.Size([1, 46])\n",
      "torch.Size([1, 63]) torch.Size([1, 63])\n",
      "torch.Size([1, 64]) torch.Size([1, 64])\n",
      "torch.Size([1, 50]) torch.Size([1, 50])\n",
      "torch.Size([1, 53]) torch.Size([1, 53])\n",
      "torch.Size([1, 63]) torch.Size([1, 63])\n",
      "torch.Size([1, 54]) torch.Size([1, 54])\n",
      "torch.Size([1, 58]) torch.Size([1, 58])\n",
      "torch.Size([1, 50]) torch.Size([1, 50])\n",
      "torch.Size([1, 59]) torch.Size([1, 59])\n",
      "torch.Size([1, 47]) torch.Size([1, 47])\n",
      "torch.Size([1, 68]) torch.Size([1, 68])\n",
      "torch.Size([1, 54]) torch.Size([1, 54])\n",
      "torch.Size([1, 54]) torch.Size([1, 54])\n",
      "torch.Size([1, 45]) torch.Size([1, 45])\n",
      "torch.Size([1, 63]) torch.Size([1, 63])\n",
      "torch.Size([1, 54]) torch.Size([1, 54])\n",
      "torch.Size([1, 58]) torch.Size([1, 58])\n",
      "torch.Size([1, 58]) torch.Size([1, 58])\n",
      "torch.Size([1, 71]) torch.Size([1, 71])\n",
      "torch.Size([1, 44]) torch.Size([1, 44])\n",
      "torch.Size([1, 49]) torch.Size([1, 49])\n",
      "torch.Size([1, 62]) torch.Size([1, 62])\n",
      "torch.Size([1, 53]) torch.Size([1, 53])\n",
      "torch.Size([1, 47]) torch.Size([1, 47])\n",
      "torch.Size([1, 44]) torch.Size([1, 44])\n",
      "torch.Size([1, 48]) torch.Size([1, 48])\n",
      "torch.Size([1, 63]) torch.Size([1, 63])\n",
      "torch.Size([1, 68]) torch.Size([1, 68])\n",
      "torch.Size([1, 55]) torch.Size([1, 55])\n",
      "torch.Size([1, 52]) torch.Size([1, 52])\n",
      "torch.Size([1, 63]) torch.Size([1, 63])\n",
      "torch.Size([1, 52]) torch.Size([1, 52])\n",
      "torch.Size([1, 71]) torch.Size([1, 71])\n",
      "torch.Size([1, 51]) torch.Size([1, 51])\n",
      "torch.Size([1, 60]) torch.Size([1, 60])\n",
      "torch.Size([1, 50]) torch.Size([1, 50])\n",
      "torch.Size([1, 54]) torch.Size([1, 54])\n",
      "torch.Size([1, 45]) torch.Size([1, 45])\n",
      "torch.Size([1, 46]) torch.Size([1, 46])\n",
      "torch.Size([1, 48]) torch.Size([1, 48])\n",
      "torch.Size([1, 59]) torch.Size([1, 59])\n",
      "torch.Size([1, 60]) torch.Size([1, 60])\n",
      "torch.Size([1, 61]) torch.Size([1, 61])\n",
      "torch.Size([1, 49]) torch.Size([1, 49])\n",
      "torch.Size([1, 52]) torch.Size([1, 52])\n",
      "torch.Size([1, 53]) torch.Size([1, 53])\n",
      "torch.Size([1, 56]) torch.Size([1, 56])\n",
      "torch.Size([1, 55]) torch.Size([1, 55])\n",
      "torch.Size([1, 46]) torch.Size([1, 46])\n",
      "torch.Size([1, 49]) torch.Size([1, 49])\n",
      "torch.Size([1, 62]) torch.Size([1, 62])\n",
      "torch.Size([1, 56]) torch.Size([1, 56])\n",
      "torch.Size([1, 57]) torch.Size([1, 57])\n",
      "torch.Size([1, 51]) torch.Size([1, 51])\n",
      "torch.Size([1, 65]) torch.Size([1, 65])\n",
      "torch.Size([1, 67]) torch.Size([1, 67])\n",
      "torch.Size([1, 46]) torch.Size([1, 46])\n",
      "torch.Size([1, 56]) torch.Size([1, 56])\n",
      "torch.Size([1, 50]) torch.Size([1, 50])\n",
      "torch.Size([1, 63]) torch.Size([1, 63])\n",
      "torch.Size([1, 50]) torch.Size([1, 50])\n",
      "torch.Size([1, 59]) torch.Size([1, 59])\n",
      "torch.Size([1, 50]) torch.Size([1, 50])\n",
      "torch.Size([1, 52]) torch.Size([1, 52])\n",
      "torch.Size([1, 65]) torch.Size([1, 65])\n",
      "torch.Size([1, 58]) torch.Size([1, 58])\n",
      "torch.Size([1, 55]) torch.Size([1, 55])\n",
      "torch.Size([1, 54]) torch.Size([1, 54])\n",
      "torch.Size([1, 60]) torch.Size([1, 60])\n",
      "torch.Size([1, 44]) torch.Size([1, 44])\n",
      "torch.Size([1, 61]) torch.Size([1, 61])\n",
      "torch.Size([1, 58]) torch.Size([1, 58])\n",
      "torch.Size([1, 56]) torch.Size([1, 56])\n",
      "torch.Size([1, 45]) torch.Size([1, 45])\n",
      "torch.Size([1, 60]) torch.Size([1, 60])\n",
      "torch.Size([1, 52]) torch.Size([1, 52])\n",
      "torch.Size([1, 58]) torch.Size([1, 58])\n",
      "torch.Size([1, 59]) torch.Size([1, 59])\n",
      "torch.Size([1, 64]) torch.Size([1, 64])\n",
      "torch.Size([1, 56]) torch.Size([1, 56])\n",
      "torch.Size([1, 50]) torch.Size([1, 50])\n",
      "torch.Size([1, 60]) torch.Size([1, 60])\n",
      "torch.Size([1, 53]) torch.Size([1, 53])\n",
      "torch.Size([1, 50]) torch.Size([1, 50])\n",
      "torch.Size([1, 56]) torch.Size([1, 56])\n",
      "torch.Size([1, 58]) torch.Size([1, 58])\n",
      "torch.Size([1, 45]) torch.Size([1, 45])\n",
      "torch.Size([1, 46]) torch.Size([1, 46])\n",
      "torch.Size([1, 63]) torch.Size([1, 63])\n",
      "torch.Size([1, 50]) torch.Size([1, 50])\n",
      "torch.Size([1, 72]) torch.Size([1, 72])\n",
      "torch.Size([1, 64]) torch.Size([1, 64])\n",
      "torch.Size([1, 59]) torch.Size([1, 59])\n",
      "torch.Size([1, 69]) torch.Size([1, 69])\n",
      "torch.Size([1, 60]) torch.Size([1, 60])\n",
      "torch.Size([1, 55]) torch.Size([1, 55])\n",
      "torch.Size([1, 58]) torch.Size([1, 58])\n",
      "torch.Size([1, 48]) torch.Size([1, 48])\n",
      "torch.Size([1, 57]) torch.Size([1, 57])\n",
      "torch.Size([1, 64]) torch.Size([1, 64])\n",
      "torch.Size([1, 53]) torch.Size([1, 53])\n",
      "torch.Size([1, 58]) torch.Size([1, 58])\n",
      "torch.Size([1, 48]) torch.Size([1, 48])\n",
      "torch.Size([1, 57]) torch.Size([1, 57])\n",
      "torch.Size([1, 48]) torch.Size([1, 48])\n",
      "torch.Size([1, 62]) torch.Size([1, 62])\n",
      "torch.Size([1, 70]) torch.Size([1, 70])\n",
      "torch.Size([1, 53]) torch.Size([1, 53])\n",
      "torch.Size([1, 59]) torch.Size([1, 59])\n",
      "torch.Size([1, 66]) torch.Size([1, 66])\n",
      "torch.Size([1, 60]) torch.Size([1, 60])\n",
      "torch.Size([1, 51]) torch.Size([1, 51])\n",
      "torch.Size([1, 44]) torch.Size([1, 44])\n",
      "torch.Size([1, 51]) torch.Size([1, 51])\n",
      "torch.Size([1, 53]) torch.Size([1, 53])\n",
      "torch.Size([1, 54]) torch.Size([1, 54])\n",
      "torch.Size([1, 48]) torch.Size([1, 48])\n",
      "torch.Size([1, 57]) torch.Size([1, 57])\n",
      "torch.Size([1, 43]) torch.Size([1, 43])\n",
      "torch.Size([1, 57]) torch.Size([1, 57])\n",
      "torch.Size([1, 61]) torch.Size([1, 61])\n",
      "torch.Size([1, 59]) torch.Size([1, 59])\n",
      "torch.Size([1, 57]) torch.Size([1, 57])\n",
      "torch.Size([1, 48]) torch.Size([1, 48])\n",
      "torch.Size([1, 72]) torch.Size([1, 72])\n",
      "torch.Size([1, 46]) torch.Size([1, 46])\n",
      "torch.Size([1, 44]) torch.Size([1, 44])\n",
      "torch.Size([1, 63]) torch.Size([1, 63])\n",
      "torch.Size([1, 50]) torch.Size([1, 50])\n",
      "torch.Size([1, 48]) torch.Size([1, 48])\n",
      "torch.Size([1, 51]) torch.Size([1, 51])\n",
      "torch.Size([1, 57]) torch.Size([1, 57])\n",
      "torch.Size([1, 54]) torch.Size([1, 54])\n",
      "torch.Size([1, 64]) torch.Size([1, 64])\n",
      "torch.Size([1, 54]) torch.Size([1, 54])\n",
      "torch.Size([1, 43]) torch.Size([1, 43])\n",
      "torch.Size([1, 68]) torch.Size([1, 68])\n",
      "torch.Size([1, 52]) torch.Size([1, 52])\n",
      "torch.Size([1, 56]) torch.Size([1, 56])\n",
      "torch.Size([1, 57]) torch.Size([1, 57])\n",
      "torch.Size([1, 50]) torch.Size([1, 50])\n",
      "torch.Size([1, 56]) torch.Size([1, 56])\n",
      "torch.Size([1, 65]) torch.Size([1, 65])\n",
      "torch.Size([1, 60]) torch.Size([1, 60])\n",
      "torch.Size([1, 54]) torch.Size([1, 54])\n",
      "torch.Size([1, 61]) torch.Size([1, 61])\n",
      "torch.Size([1, 42]) torch.Size([1, 42])\n",
      "torch.Size([1, 51]) torch.Size([1, 51])\n",
      "torch.Size([1, 49]) torch.Size([1, 49])\n",
      "torch.Size([1, 58]) torch.Size([1, 58])\n",
      "torch.Size([1, 62]) torch.Size([1, 62])\n",
      "torch.Size([1, 45]) torch.Size([1, 45])\n",
      "torch.Size([1, 50]) torch.Size([1, 50])\n",
      "torch.Size([1, 74]) torch.Size([1, 74])\n",
      "torch.Size([1, 59]) torch.Size([1, 59])\n",
      "torch.Size([1, 71]) torch.Size([1, 71])\n",
      "torch.Size([1, 50]) torch.Size([1, 50])\n",
      "torch.Size([1, 73]) torch.Size([1, 73])\n",
      "torch.Size([1, 56]) torch.Size([1, 56])\n",
      "torch.Size([1, 62]) torch.Size([1, 62])\n",
      "torch.Size([1, 51]) torch.Size([1, 51])\n",
      "torch.Size([1, 57]) torch.Size([1, 57])\n",
      "torch.Size([1, 52]) torch.Size([1, 52])\n",
      "torch.Size([1, 80]) torch.Size([1, 80])\n",
      "torch.Size([1, 58]) torch.Size([1, 58])\n",
      "torch.Size([1, 48]) torch.Size([1, 48])\n",
      "torch.Size([1, 62]) torch.Size([1, 62])\n",
      "torch.Size([1, 68]) torch.Size([1, 68])\n",
      "torch.Size([1, 48]) torch.Size([1, 48])\n",
      "torch.Size([1, 59]) torch.Size([1, 59])\n",
      "torch.Size([1, 60]) torch.Size([1, 60])\n",
      "torch.Size([1, 55]) torch.Size([1, 55])\n",
      "torch.Size([1, 47]) torch.Size([1, 47])\n",
      "torch.Size([1, 60]) torch.Size([1, 60])\n",
      "torch.Size([1, 49]) torch.Size([1, 49])\n",
      "torch.Size([1, 51]) torch.Size([1, 51])\n",
      "torch.Size([1, 70]) torch.Size([1, 70])\n",
      "torch.Size([1, 51]) torch.Size([1, 51])\n",
      "torch.Size([1, 68]) torch.Size([1, 68])\n",
      "torch.Size([1, 52]) torch.Size([1, 52])\n",
      "torch.Size([1, 57]) torch.Size([1, 57])\n",
      "torch.Size([1, 58]) torch.Size([1, 58])\n",
      "torch.Size([1, 50]) torch.Size([1, 50])\n",
      "torch.Size([1, 67]) torch.Size([1, 67])\n",
      "torch.Size([1, 51]) torch.Size([1, 51])\n",
      "torch.Size([1, 58]) torch.Size([1, 58])\n",
      "torch.Size([1, 57]) torch.Size([1, 57])\n",
      "torch.Size([1, 91]) torch.Size([1, 91])\n",
      "torch.Size([1, 58]) torch.Size([1, 58])\n",
      "torch.Size([1, 57]) torch.Size([1, 57])\n",
      "torch.Size([1, 47]) torch.Size([1, 47])\n",
      "torch.Size([1, 56]) torch.Size([1, 56])\n",
      "torch.Size([1, 53]) torch.Size([1, 53])\n",
      "torch.Size([1, 55]) torch.Size([1, 55])\n",
      "torch.Size([1, 56]) torch.Size([1, 56])\n",
      "torch.Size([1, 45]) torch.Size([1, 45])\n",
      "torch.Size([1, 61]) torch.Size([1, 61])\n",
      "torch.Size([1, 58]) torch.Size([1, 58])\n",
      "torch.Size([1, 45]) torch.Size([1, 45])\n",
      "torch.Size([1, 48]) torch.Size([1, 48])\n",
      "torch.Size([1, 58]) torch.Size([1, 58])\n",
      "torch.Size([1, 51]) torch.Size([1, 51])\n",
      "torch.Size([1, 58]) torch.Size([1, 58])\n",
      "torch.Size([1, 58]) torch.Size([1, 58])\n",
      "torch.Size([1, 54]) torch.Size([1, 54])\n",
      "torch.Size([1, 66]) torch.Size([1, 66])\n",
      "torch.Size([1, 50]) torch.Size([1, 50])\n",
      "torch.Size([1, 56]) torch.Size([1, 56])\n",
      "torch.Size([1, 52]) torch.Size([1, 52])\n",
      "torch.Size([1, 56]) torch.Size([1, 56])\n",
      "torch.Size([1, 71]) torch.Size([1, 71])\n",
      "torch.Size([1, 80]) torch.Size([1, 80])\n",
      "torch.Size([1, 68]) torch.Size([1, 68])\n",
      "torch.Size([1, 51]) torch.Size([1, 51])\n",
      "torch.Size([1, 69]) torch.Size([1, 69])\n",
      "torch.Size([1, 61]) torch.Size([1, 61])\n",
      "torch.Size([1, 47]) torch.Size([1, 47])\n",
      "torch.Size([1, 50]) torch.Size([1, 50])\n",
      "torch.Size([1, 49]) torch.Size([1, 49])\n",
      "torch.Size([1, 81]) torch.Size([1, 81])\n",
      "torch.Size([1, 51]) torch.Size([1, 51])\n",
      "torch.Size([1, 48]) torch.Size([1, 48])\n",
      "torch.Size([1, 52]) torch.Size([1, 52])\n",
      "torch.Size([1, 45]) torch.Size([1, 45])\n",
      "torch.Size([1, 51]) torch.Size([1, 51])\n",
      "torch.Size([1, 53]) torch.Size([1, 53])\n",
      "torch.Size([1, 56]) torch.Size([1, 56])\n",
      "torch.Size([1, 74]) torch.Size([1, 74])\n",
      "torch.Size([1, 56]) torch.Size([1, 56])\n",
      "torch.Size([1, 63]) torch.Size([1, 63])\n",
      "torch.Size([1, 51]) torch.Size([1, 51])\n",
      "torch.Size([1, 43]) torch.Size([1, 43])\n",
      "torch.Size([1, 49]) torch.Size([1, 49])\n",
      "torch.Size([1, 59]) torch.Size([1, 59])\n",
      "torch.Size([1, 61]) torch.Size([1, 61])\n",
      "torch.Size([1, 82]) torch.Size([1, 82])\n",
      "torch.Size([1, 46]) torch.Size([1, 46])\n",
      "torch.Size([1, 77]) torch.Size([1, 77])\n",
      "torch.Size([1, 53]) torch.Size([1, 53])\n",
      "torch.Size([1, 57]) torch.Size([1, 57])\n",
      "torch.Size([1, 43]) torch.Size([1, 43])\n",
      "torch.Size([1, 58]) torch.Size([1, 58])\n",
      "torch.Size([1, 63]) torch.Size([1, 63])\n",
      "torch.Size([1, 59]) torch.Size([1, 59])\n",
      "torch.Size([1, 54]) torch.Size([1, 54])\n",
      "torch.Size([1, 46]) torch.Size([1, 46])\n",
      "torch.Size([1, 61]) torch.Size([1, 61])\n",
      "torch.Size([1, 44]) torch.Size([1, 44])\n",
      "torch.Size([1, 64]) torch.Size([1, 64])\n",
      "torch.Size([1, 53]) torch.Size([1, 53])\n",
      "torch.Size([1, 83]) torch.Size([1, 83])\n",
      "torch.Size([1, 48]) torch.Size([1, 48])\n",
      "torch.Size([1, 62]) torch.Size([1, 62])\n",
      "torch.Size([1, 50]) torch.Size([1, 50])\n",
      "torch.Size([1, 42]) torch.Size([1, 42])\n",
      "torch.Size([1, 46]) torch.Size([1, 46])\n",
      "torch.Size([1, 43]) torch.Size([1, 43])\n",
      "torch.Size([1, 68]) torch.Size([1, 68])\n",
      "torch.Size([1, 63]) torch.Size([1, 63])\n",
      "torch.Size([1, 43]) torch.Size([1, 43])\n",
      "torch.Size([1, 56]) torch.Size([1, 56])\n",
      "torch.Size([1, 56]) torch.Size([1, 56])\n",
      "torch.Size([1, 63]) torch.Size([1, 63])\n",
      "torch.Size([1, 59]) torch.Size([1, 59])\n",
      "torch.Size([1, 67]) torch.Size([1, 67])\n",
      "torch.Size([1, 57]) torch.Size([1, 57])\n",
      "torch.Size([1, 57]) torch.Size([1, 57])\n",
      "torch.Size([1, 53]) torch.Size([1, 53])\n",
      "torch.Size([1, 64]) torch.Size([1, 64])\n",
      "torch.Size([1, 50]) torch.Size([1, 50])\n",
      "torch.Size([1, 46]) torch.Size([1, 46])\n",
      "torch.Size([1, 61]) torch.Size([1, 61])\n",
      "torch.Size([1, 57]) torch.Size([1, 57])\n",
      "torch.Size([1, 53]) torch.Size([1, 53])\n",
      "torch.Size([1, 49]) torch.Size([1, 49])\n",
      "torch.Size([1, 52]) torch.Size([1, 52])\n",
      "torch.Size([1, 48]) torch.Size([1, 48])\n",
      "torch.Size([1, 60]) torch.Size([1, 60])\n",
      "torch.Size([1, 77]) torch.Size([1, 77])\n",
      "torch.Size([1, 55]) torch.Size([1, 55])\n",
      "torch.Size([1, 54]) torch.Size([1, 54])\n",
      "torch.Size([1, 91]) torch.Size([1, 91])\n",
      "torch.Size([1, 56]) torch.Size([1, 56])\n",
      "torch.Size([1, 69]) torch.Size([1, 69])\n",
      "torch.Size([1, 62]) torch.Size([1, 62])\n",
      "torch.Size([1, 61]) torch.Size([1, 61])\n",
      "torch.Size([1, 50]) torch.Size([1, 50])\n",
      "torch.Size([1, 43]) torch.Size([1, 43])\n",
      "torch.Size([1, 55]) torch.Size([1, 55])\n",
      "torch.Size([1, 52]) torch.Size([1, 52])\n",
      "torch.Size([1, 51]) torch.Size([1, 51])\n",
      "torch.Size([1, 62]) torch.Size([1, 62])\n",
      "torch.Size([1, 49]) torch.Size([1, 49])\n",
      "torch.Size([1, 64]) torch.Size([1, 64])\n",
      "torch.Size([1, 49]) torch.Size([1, 49])\n",
      "torch.Size([1, 61]) torch.Size([1, 61])\n",
      "torch.Size([1, 58]) torch.Size([1, 58])\n",
      "torch.Size([1, 54]) torch.Size([1, 54])\n",
      "torch.Size([1, 61]) torch.Size([1, 61])\n",
      "torch.Size([1, 60]) torch.Size([1, 60])\n",
      "torch.Size([1, 59]) torch.Size([1, 59])\n",
      "torch.Size([1, 56]) torch.Size([1, 56])\n",
      "torch.Size([1, 52]) torch.Size([1, 52])\n",
      "torch.Size([1, 51]) torch.Size([1, 51])\n",
      "torch.Size([1, 51]) torch.Size([1, 51])\n",
      "torch.Size([1, 62]) torch.Size([1, 62])\n",
      "torch.Size([1, 62]) torch.Size([1, 62])\n",
      "torch.Size([1, 75]) torch.Size([1, 75])\n",
      "torch.Size([1, 54]) torch.Size([1, 54])\n",
      "torch.Size([1, 58]) torch.Size([1, 58])\n",
      "torch.Size([1, 50]) torch.Size([1, 50])\n",
      "torch.Size([1, 49]) torch.Size([1, 49])\n",
      "torch.Size([1, 41]) torch.Size([1, 41])\n",
      "torch.Size([1, 49]) torch.Size([1, 49])\n",
      "torch.Size([1, 58]) torch.Size([1, 58])\n",
      "torch.Size([1, 52]) torch.Size([1, 52])\n",
      "torch.Size([1, 64]) torch.Size([1, 64])\n",
      "torch.Size([1, 50]) torch.Size([1, 50])\n",
      "torch.Size([1, 49]) torch.Size([1, 49])\n",
      "torch.Size([1, 66]) torch.Size([1, 66])\n",
      "torch.Size([1, 50]) torch.Size([1, 50])\n",
      "torch.Size([1, 56]) torch.Size([1, 56])\n",
      "torch.Size([1, 59]) torch.Size([1, 59])\n",
      "torch.Size([1, 66]) torch.Size([1, 66])\n",
      "torch.Size([1, 51]) torch.Size([1, 51])\n",
      "torch.Size([1, 57]) torch.Size([1, 57])\n",
      "torch.Size([1, 60]) torch.Size([1, 60])\n",
      "torch.Size([1, 67]) torch.Size([1, 67])\n",
      "torch.Size([1, 59]) torch.Size([1, 59])\n",
      "torch.Size([1, 53]) torch.Size([1, 53])\n",
      "torch.Size([1, 78]) torch.Size([1, 78])\n",
      "torch.Size([1, 58]) torch.Size([1, 58])\n",
      "torch.Size([1, 45]) torch.Size([1, 45])\n",
      "torch.Size([1, 76]) torch.Size([1, 76])\n",
      "torch.Size([1, 46]) torch.Size([1, 46])\n",
      "torch.Size([1, 56]) torch.Size([1, 56])\n",
      "torch.Size([1, 61]) torch.Size([1, 61])\n",
      "torch.Size([1, 66]) torch.Size([1, 66])\n",
      "torch.Size([1, 53]) torch.Size([1, 53])\n",
      "torch.Size([1, 56]) torch.Size([1, 56])\n",
      "torch.Size([1, 48]) torch.Size([1, 48])\n",
      "torch.Size([1, 65]) torch.Size([1, 65])\n",
      "torch.Size([1, 52]) torch.Size([1, 52])\n",
      "torch.Size([1, 51]) torch.Size([1, 51])\n",
      "torch.Size([1, 49]) torch.Size([1, 49])\n",
      "torch.Size([1, 64]) torch.Size([1, 64])\n",
      "torch.Size([1, 61]) torch.Size([1, 61])\n",
      "torch.Size([1, 51]) torch.Size([1, 51])\n",
      "torch.Size([1, 48]) torch.Size([1, 48])\n",
      "torch.Size([1, 55]) torch.Size([1, 55])\n",
      "torch.Size([1, 59]) torch.Size([1, 59])\n",
      "torch.Size([1, 44]) torch.Size([1, 44])\n",
      "torch.Size([1, 55]) torch.Size([1, 55])\n",
      "torch.Size([1, 65]) torch.Size([1, 65])\n",
      "torch.Size([1, 83]) torch.Size([1, 83])\n",
      "torch.Size([1, 53]) torch.Size([1, 53])\n",
      "torch.Size([1, 53]) torch.Size([1, 53])\n",
      "torch.Size([1, 58]) torch.Size([1, 58])\n",
      "torch.Size([1, 59]) torch.Size([1, 59])\n",
      "torch.Size([1, 66]) torch.Size([1, 66])\n",
      "torch.Size([1, 62]) torch.Size([1, 62])\n",
      "torch.Size([1, 52]) torch.Size([1, 52])\n",
      "torch.Size([1, 50]) torch.Size([1, 50])\n",
      "torch.Size([1, 45]) torch.Size([1, 45])\n",
      "torch.Size([1, 58]) torch.Size([1, 58])\n",
      "torch.Size([1, 64]) torch.Size([1, 64])\n",
      "torch.Size([1, 52]) torch.Size([1, 52])\n",
      "torch.Size([1, 65]) torch.Size([1, 65])\n",
      "torch.Size([1, 52]) torch.Size([1, 52])\n",
      "torch.Size([1, 44]) torch.Size([1, 44])\n",
      "torch.Size([1, 73]) torch.Size([1, 73])\n",
      "torch.Size([1, 48]) torch.Size([1, 48])\n",
      "torch.Size([1, 74]) torch.Size([1, 74])\n",
      "torch.Size([1, 57]) torch.Size([1, 57])\n",
      "torch.Size([1, 46]) torch.Size([1, 46])\n",
      "torch.Size([1, 60]) torch.Size([1, 60])\n",
      "torch.Size([1, 53]) torch.Size([1, 53])\n",
      "torch.Size([1, 56]) torch.Size([1, 56])\n",
      "torch.Size([1, 46]) torch.Size([1, 46])\n",
      "torch.Size([1, 49]) torch.Size([1, 49])\n",
      "torch.Size([1, 69]) torch.Size([1, 69])\n",
      "torch.Size([1, 58]) torch.Size([1, 58])\n",
      "torch.Size([1, 61]) torch.Size([1, 61])\n",
      "torch.Size([1, 49]) torch.Size([1, 49])\n",
      "torch.Size([1, 64]) torch.Size([1, 64])\n",
      "torch.Size([1, 59]) torch.Size([1, 59])\n",
      "torch.Size([1, 64]) torch.Size([1, 64])\n",
      "torch.Size([1, 72]) torch.Size([1, 72])\n",
      "torch.Size([1, 53]) torch.Size([1, 53])\n",
      "torch.Size([1, 64]) torch.Size([1, 64])\n",
      "Memory usage: 44.8%\n"
     ]
    }
   ],
   "source": [
    "print(\"Train loader:\")\n",
    "for inputs, targets in train_loader:\n",
    "    print(inputs.shape, targets.shape)\n",
    "print(f\"Memory usage: {psutil.virtual_memory().percent}%\")"
   ]
  },
  {
   "cell_type": "code",
   "execution_count": null,
   "metadata": {},
   "outputs": [],
   "source": []
  },
  {
   "cell_type": "code",
   "execution_count": 29,
   "metadata": {},
   "outputs": [
    {
     "name": "stdout",
     "output_type": "stream",
     "text": [
      "File already exists and is up-to-date: gpt2/124M/checkpoint\n",
      "File already exists and is up-to-date: gpt2/124M/encoder.json\n",
      "File already exists and is up-to-date: gpt2/124M/hparams.json\n",
      "File already exists and is up-to-date: gpt2/124M/model.ckpt.data-00000-of-00001\n",
      "File already exists and is up-to-date: gpt2/124M/model.ckpt.index\n",
      "File already exists and is up-to-date: gpt2/124M/model.ckpt.meta\n",
      "File already exists and is up-to-date: gpt2/124M/vocab.bpe\n",
      "Memory usage: 75.8%\n"
     ]
    }
   ],
   "source": [
    "from gpt_download3 import download_and_load_gpt2\n",
    "\n",
    "BASE_CONFIG = {\n",
    "    \"vocab_size\": 50257,     # Vocabulary size\n",
    "    \"context_length\":1024, #original value is 1024,  # Context length\n",
    "    \"drop_rate\": 0.0,        # Dropout rate\n",
    "    \"qkv_bias\": True         # Query-key-value bias\n",
    "}\n",
    "\n",
    "model_configs = {\n",
    "    \"gpt2-small (124M)\": {\"emb_dim\": 768, \"n_layers\": 12, \"n_heads\": 12},\n",
    "    \"gpt2-medium (355M)\": {\"emb_dim\": 1024, \"n_layers\": 24, \"n_heads\": 16},\n",
    "    \"gpt2-large (774M)\": {\"emb_dim\": 1280, \"n_layers\": 36, \"n_heads\": 20},\n",
    "    \"gpt2-xl (1558M)\": {\"emb_dim\": 1600, \"n_layers\": 48, \"n_heads\": 25},\n",
    "}\n",
    "\n",
    "CHOOSE_MODEL = \"gpt2-small (124M)\"\n",
    "\n",
    "BASE_CONFIG.update(model_configs[CHOOSE_MODEL])\n",
    "\n",
    "model_size = CHOOSE_MODEL.split(\" \")[-1].lstrip(\"(\").rstrip(\")\")\n",
    "settings, params = download_and_load_gpt2(\n",
    "    model_size=model_size,\n",
    "    models_dir=\"gpt2\"\n",
    ")\n",
    "\n",
    "model = GPTModel(BASE_CONFIG)\n",
    "load_weights_into_gpt(model, params)\n",
    "model.eval();\n",
    "print(f\"Memory usage: {psutil.virtual_memory().percent}%\")"
   ]
  },
  {
   "cell_type": "code",
   "execution_count": 30,
   "metadata": {},
   "outputs": [
    {
     "name": "stdout",
     "output_type": "stream",
     "text": [
      "Every effort moves you forward.\n",
      "\n",
      "The first step is to understand the importance of your work\n",
      "Memory usage: 74.4%\n"
     ]
    }
   ],
   "source": [
    "text_1 = \"Every effort moves you\"\n",
    "\n",
    "token_ids = generate_text_simple(\n",
    "    model=model,\n",
    "    idx=text_to_token_ids(text_1, tokenizer),\n",
    "    max_new_tokens=15,\n",
    "    context_size=BASE_CONFIG[\"context_length\"]\n",
    ")\n",
    "\n",
    "print(token_ids_to_text(token_ids, tokenizer))\n",
    "print(f\"Memory usage: {psutil.virtual_memory().percent}%\")"
   ]
  },
  {
   "cell_type": "code",
   "execution_count": 31,
   "metadata": {},
   "outputs": [
    {
     "name": "stdout",
     "output_type": "stream",
     "text": [
      "Below is an instruction that describes a task. Write a response that appropriately completes the request.\n",
      "\n",
      "### Instruction:\n",
      "Convert the active sentence to passive: 'The chef cooks the meal every day.'\n"
     ]
    }
   ],
   "source": [
    "torch.manual_seed(123)\n",
    "input_text = format_input(val_data[0])\n",
    "print(input_text)"
   ]
  },
  {
   "cell_type": "code",
   "execution_count": 32,
   "metadata": {},
   "outputs": [
    {
     "name": "stdout",
     "output_type": "stream",
     "text": [
      "Memory usage: 75.3%\n"
     ]
    }
   ],
   "source": [
    "def calc_loss_batch(input_batch, target_batch, model, device):\n",
    "    input_batch, target_batch = input_batch.to(device), target_batch.to(device)\n",
    "    logits = model(input_batch)\n",
    "    loss = torch.nn.functional.cross_entropy(logits.flatten(0, 1), target_batch.flatten())\n",
    "    return loss\n",
    "\n",
    "\n",
    "def calc_loss_loader(data_loader, model, device, num_batches=None):\n",
    "    total_loss = 0.\n",
    "    if len(data_loader) == 0:\n",
    "        return float(\"nan\")\n",
    "    elif num_batches is None:\n",
    "        num_batches = len(data_loader)\n",
    "    else:\n",
    "        # Reduce the number of batches to match the total number of batches in the data loader\n",
    "        # if num_batches exceeds the number of batches in the data loader\n",
    "        num_batches = min(num_batches, len(data_loader))\n",
    "    for i, (input_batch, target_batch) in enumerate(data_loader):\n",
    "        if i < num_batches:\n",
    "            loss = calc_loss_batch(input_batch, target_batch, model, device)\n",
    "            total_loss += loss.item()\n",
    "        else:\n",
    "            break\n",
    "    return total_loss / num_batches\n",
    "\n",
    "def train_model_simple(model, train_loader, val_loader, optimizer, device, num_epochs,\n",
    "                       eval_freq, eval_iter, start_context, tokenizer):\n",
    "    # Initialize lists to track losses and tokens seen\n",
    "    train_losses, val_losses, track_tokens_seen = [], [], []\n",
    "    tokens_seen, global_step = 0, -1\n",
    "\n",
    "    # Main training loop\n",
    "    for epoch in range(num_epochs):\n",
    "        model.train()  # Set model to training mode\n",
    "        \n",
    "        for input_batch, target_batch in train_loader:\n",
    "            optimizer.zero_grad() # Reset loss gradients from previous batch iteration\n",
    "            loss = calc_loss_batch(input_batch, target_batch, model, device)\n",
    "            loss.backward() # Calculate loss gradients\n",
    "            optimizer.step() # Update model weights using loss gradients\n",
    "            tokens_seen += input_batch.numel() # Returns the total number of elements (or tokens) in the input_batch.\n",
    "            global_step += 1\n",
    "\n",
    "            # Optional evaluation step\n",
    "            if global_step % eval_freq == 0: \n",
    "                train_loss, val_loss = evaluate_model(\n",
    "                    model, train_loader, val_loader, device, eval_iter)\n",
    "                train_losses.append(train_loss)\n",
    "                val_losses.append(val_loss)\n",
    "                track_tokens_seen.append(tokens_seen)\n",
    "                print(f\"Ep {epoch+1} (Step {global_step:06d}): \"\n",
    "                      f\"Train loss {train_loss:.3f}, Val loss {val_loss:.3f}\")\n",
    "\n",
    "        # Print a sample text after each epoch\n",
    "        generate_and_print_sample(\n",
    "            model, tokenizer, device, start_context\n",
    "        )\n",
    "\n",
    "    return train_losses, val_losses, track_tokens_seen\n",
    "print(f\"Memory usage: {psutil.virtual_memory().percent}%\")\n"
   ]
  },
  {
   "cell_type": "code",
   "execution_count": 33,
   "metadata": {},
   "outputs": [
    {
     "name": "stdout",
     "output_type": "stream",
     "text": [
      "Training loss: 4.015831232070923\n",
      "Validation loss: 4.1442711353302\n"
     ]
    }
   ],
   "source": [
    "model.to(device)\n",
    "\n",
    "torch.manual_seed(123)\n",
    "\n",
    "with torch.no_grad():\n",
    "    train_loss = calc_loss_loader(train_loader, model, device, num_batches=5)\n",
    "    val_loss = calc_loss_loader(val_loader, model, device, num_batches=5)\n",
    "\n",
    "print(\"Training loss:\", train_loss)\n",
    "print(\"Validation loss:\", val_loss)\n"
   ]
  },
  {
   "cell_type": "code",
   "execution_count": 34,
   "metadata": {},
   "outputs": [
    {
     "name": "stdout",
     "output_type": "stream",
     "text": [
      "Ep 1 (Step 000000): Train loss 3.250, Val loss 3.279\n",
      "Ep 1 (Step 000005): Train loss 1.987, Val loss 1.818\n",
      "Ep 1 (Step 000010): Train loss 1.018, Val loss 1.371\n",
      "Ep 1 (Step 000015): Train loss 1.320, Val loss 1.285\n",
      "Ep 1 (Step 000020): Train loss 0.794, Val loss 1.220\n",
      "Ep 1 (Step 000025): Train loss 0.878, Val loss 1.163\n",
      "Ep 1 (Step 000030): Train loss 0.978, Val loss 1.136\n",
      "Ep 1 (Step 000035): Train loss 1.111, Val loss 1.125\n",
      "Ep 1 (Step 000040): Train loss 1.158, Val loss 1.076\n",
      "Ep 1 (Step 000045): Train loss 0.750, Val loss 1.048\n",
      "Ep 1 (Step 000050): Train loss 1.156, Val loss 1.019\n",
      "Ep 1 (Step 000055): Train loss 1.190, Val loss 1.012\n",
      "Ep 1 (Step 000060): Train loss 1.122, Val loss 1.035\n",
      "Ep 1 (Step 000065): Train loss 0.934, Val loss 1.034\n",
      "Ep 1 (Step 000070): Train loss 0.625, Val loss 1.044\n",
      "Ep 1 (Step 000075): Train loss 0.685, Val loss 1.042\n",
      "Ep 1 (Step 000080): Train loss 0.910, Val loss 1.053\n",
      "Ep 1 (Step 000085): Train loss 0.699, Val loss 1.077\n",
      "Ep 1 (Step 000090): Train loss 0.860, Val loss 1.090\n",
      "Ep 1 (Step 000095): Train loss 0.783, Val loss 1.089\n",
      "Ep 1 (Step 000100): Train loss 0.735, Val loss 1.058\n",
      "Ep 1 (Step 000105): Train loss 0.749, Val loss 1.044\n",
      "Ep 1 (Step 000110): Train loss 1.075, Val loss 1.037\n",
      "Ep 1 (Step 000115): Train loss 0.771, Val loss 1.037\n",
      "Ep 1 (Step 000120): Train loss 1.275, Val loss 1.047\n",
      "Ep 1 (Step 000125): Train loss 0.712, Val loss 1.047\n",
      "Ep 1 (Step 000130): Train loss 0.838, Val loss 1.062\n",
      "Ep 1 (Step 000135): Train loss 0.737, Val loss 1.077\n",
      "Ep 1 (Step 000140): Train loss 0.944, Val loss 1.075\n",
      "Ep 1 (Step 000145): Train loss 0.862, Val loss 1.061\n",
      "Ep 1 (Step 000150): Train loss 0.673, Val loss 1.055\n",
      "Ep 1 (Step 000155): Train loss 0.822, Val loss 1.052\n",
      "Ep 1 (Step 000160): Train loss 0.690, Val loss 1.057\n",
      "Ep 1 (Step 000165): Train loss 1.175, Val loss 1.051\n",
      "Ep 1 (Step 000170): Train loss 0.747, Val loss 1.030\n",
      "Ep 1 (Step 000175): Train loss 1.111, Val loss 1.026\n",
      "Ep 1 (Step 000180): Train loss 0.674, Val loss 1.024\n",
      "Ep 1 (Step 000185): Train loss 0.835, Val loss 1.020\n",
      "Ep 1 (Step 000190): Train loss 0.967, Val loss 1.028\n",
      "Ep 1 (Step 000195): Train loss 0.766, Val loss 1.036\n",
      "Ep 1 (Step 000200): Train loss 1.096, Val loss 1.026\n",
      "Ep 1 (Step 000205): Train loss 1.067, Val loss 1.035\n",
      "Ep 1 (Step 000210): Train loss 1.123, Val loss 1.035\n",
      "Ep 1 (Step 000215): Train loss 0.562, Val loss 1.021\n",
      "Ep 1 (Step 000220): Train loss 0.526, Val loss 1.007\n",
      "Ep 1 (Step 000225): Train loss 0.474, Val loss 0.974\n",
      "Ep 1 (Step 000230): Train loss 0.765, Val loss 0.959\n",
      "Ep 1 (Step 000235): Train loss 0.924, Val loss 0.951\n",
      "Ep 1 (Step 000240): Train loss 0.888, Val loss 0.946\n",
      "Ep 1 (Step 000245): Train loss 0.892, Val loss 0.945\n",
      "Ep 1 (Step 000250): Train loss 1.011, Val loss 0.941\n",
      "Ep 1 (Step 000255): Train loss 0.519, Val loss 0.940\n",
      "Ep 1 (Step 000260): Train loss 0.897, Val loss 0.939\n",
      "Ep 1 (Step 000265): Train loss 0.531, Val loss 0.945\n",
      "Ep 1 (Step 000270): Train loss 0.752, Val loss 0.951\n",
      "Ep 1 (Step 000275): Train loss 0.865, Val loss 0.961\n",
      "Ep 1 (Step 000280): Train loss 0.743, Val loss 0.976\n",
      "Ep 1 (Step 000285): Train loss 0.830, Val loss 0.979\n",
      "Ep 1 (Step 000290): Train loss 0.756, Val loss 0.996\n",
      "Ep 1 (Step 000295): Train loss 0.870, Val loss 1.005\n",
      "Ep 1 (Step 000300): Train loss 0.923, Val loss 1.003\n",
      "Ep 1 (Step 000305): Train loss 0.783, Val loss 0.997\n",
      "Ep 1 (Step 000310): Train loss 0.677, Val loss 0.984\n",
      "Ep 1 (Step 000315): Train loss 0.643, Val loss 0.978\n",
      "Ep 1 (Step 000320): Train loss 0.925, Val loss 0.971\n",
      "Ep 1 (Step 000325): Train loss 0.695, Val loss 0.969\n",
      "Ep 1 (Step 000330): Train loss 0.573, Val loss 0.972\n",
      "Ep 1 (Step 000335): Train loss 0.661, Val loss 0.970\n",
      "Ep 1 (Step 000340): Train loss 1.280, Val loss 0.973\n",
      "Ep 1 (Step 000345): Train loss 0.903, Val loss 0.981\n",
      "Ep 1 (Step 000350): Train loss 0.614, Val loss 1.000\n",
      "Ep 1 (Step 000355): Train loss 0.574, Val loss 0.990\n",
      "Ep 1 (Step 000360): Train loss 0.909, Val loss 0.973\n",
      "Ep 1 (Step 000365): Train loss 0.563, Val loss 0.961\n",
      "Ep 1 (Step 000370): Train loss 0.842, Val loss 0.957\n",
      "Ep 1 (Step 000375): Train loss 0.681, Val loss 0.940\n",
      "Ep 1 (Step 000380): Train loss 0.600, Val loss 0.923\n",
      "Ep 1 (Step 000385): Train loss 0.952, Val loss 0.938\n",
      "Ep 1 (Step 000390): Train loss 0.518, Val loss 0.942\n",
      "Ep 1 (Step 000395): Train loss 0.846, Val loss 0.942\n",
      "Ep 1 (Step 000400): Train loss 0.657, Val loss 0.934\n",
      "Ep 1 (Step 000405): Train loss 0.706, Val loss 0.920\n",
      "Ep 1 (Step 000410): Train loss 0.680, Val loss 0.922\n",
      "Ep 1 (Step 000415): Train loss 1.159, Val loss 0.930\n",
      "Ep 1 (Step 000420): Train loss 0.850, Val loss 0.913\n",
      "Ep 1 (Step 000425): Train loss 0.602, Val loss 0.904\n",
      "Ep 1 (Step 000430): Train loss 0.650, Val loss 0.919\n",
      "Ep 1 (Step 000435): Train loss 0.545, Val loss 0.922\n",
      "Ep 1 (Step 000440): Train loss 0.542, Val loss 0.887\n",
      "Ep 1 (Step 000445): Train loss 0.506, Val loss 0.873\n",
      "Ep 1 (Step 000450): Train loss 0.480, Val loss 0.873\n",
      "Ep 1 (Step 000455): Train loss 0.778, Val loss 0.877\n",
      "Ep 1 (Step 000460): Train loss 0.675, Val loss 0.884\n",
      "Ep 1 (Step 000465): Train loss 0.631, Val loss 0.872\n",
      "Ep 1 (Step 000470): Train loss 0.433, Val loss 0.866\n",
      "Ep 1 (Step 000475): Train loss 0.624, Val loss 0.868\n",
      "Ep 1 (Step 000480): Train loss 0.852, Val loss 0.872\n",
      "Ep 1 (Step 000485): Train loss 0.511, Val loss 0.883\n",
      "Ep 1 (Step 000490): Train loss 0.617, Val loss 0.893\n",
      "Ep 1 (Step 000495): Train loss 0.521, Val loss 0.896\n",
      "Ep 1 (Step 000500): Train loss 0.635, Val loss 0.899\n",
      "Ep 1 (Step 000505): Train loss 1.006, Val loss 0.902\n",
      "Ep 1 (Step 000510): Train loss 0.619, Val loss 0.899\n",
      "Ep 1 (Step 000515): Train loss 0.501, Val loss 0.899\n",
      "Ep 1 (Step 000520): Train loss 0.638, Val loss 0.897\n",
      "Ep 1 (Step 000525): Train loss 0.723, Val loss 0.889\n",
      "Ep 1 (Step 000530): Train loss 0.628, Val loss 0.876\n",
      "Ep 1 (Step 000535): Train loss 0.660, Val loss 0.864\n",
      "Ep 1 (Step 000540): Train loss 0.652, Val loss 0.864\n",
      "Ep 1 (Step 000545): Train loss 0.674, Val loss 0.869\n",
      "Ep 1 (Step 000550): Train loss 0.719, Val loss 0.872\n",
      "Ep 1 (Step 000555): Train loss 0.616, Val loss 0.877\n",
      "Ep 1 (Step 000560): Train loss 0.714, Val loss 0.876\n",
      "Ep 1 (Step 000565): Train loss 0.541, Val loss 0.870\n",
      "Ep 1 (Step 000570): Train loss 0.539, Val loss 0.871\n",
      "Ep 1 (Step 000575): Train loss 0.539, Val loss 0.880\n",
      "Ep 1 (Step 000580): Train loss 0.779, Val loss 0.880\n",
      "Ep 1 (Step 000585): Train loss 0.893, Val loss 0.877\n",
      "Ep 1 (Step 000590): Train loss 0.529, Val loss 0.871\n",
      "Ep 1 (Step 000595): Train loss 0.725, Val loss 0.867\n",
      "Ep 1 (Step 000600): Train loss 0.509, Val loss 0.883\n",
      "Ep 1 (Step 000605): Train loss 0.496, Val loss 0.900\n",
      "Ep 1 (Step 000610): Train loss 0.773, Val loss 0.908\n",
      "Ep 1 (Step 000615): Train loss 0.606, Val loss 0.910\n",
      "Ep 1 (Step 000620): Train loss 0.848, Val loss 0.876\n",
      "Ep 1 (Step 000625): Train loss 0.515, Val loss 0.875\n",
      "Ep 1 (Step 000630): Train loss 0.969, Val loss 0.886\n",
      "Ep 1 (Step 000635): Train loss 0.741, Val loss 0.893\n",
      "Ep 1 (Step 000640): Train loss 0.534, Val loss 0.870\n",
      "Ep 1 (Step 000645): Train loss 0.533, Val loss 0.869\n",
      "Ep 1 (Step 000650): Train loss 0.680, Val loss 0.866\n",
      "Ep 1 (Step 000655): Train loss 0.463, Val loss 0.878\n",
      "Ep 1 (Step 000660): Train loss 0.565, Val loss 0.889\n",
      "Ep 1 (Step 000665): Train loss 0.685, Val loss 0.891\n",
      "Ep 1 (Step 000670): Train loss 0.638, Val loss 0.888\n",
      "Ep 1 (Step 000675): Train loss 0.422, Val loss 0.888\n",
      "Ep 1 (Step 000680): Train loss 0.570, Val loss 0.882\n",
      "Ep 1 (Step 000685): Train loss 0.354, Val loss 0.877\n",
      "Ep 1 (Step 000690): Train loss 0.627, Val loss 0.860\n",
      "Ep 1 (Step 000695): Train loss 0.411, Val loss 0.822\n",
      "Ep 1 (Step 000700): Train loss 0.543, Val loss 0.796\n",
      "Ep 1 (Step 000705): Train loss 0.543, Val loss 0.769\n",
      "Ep 1 (Step 000710): Train loss 0.641, Val loss 0.746\n",
      "Ep 1 (Step 000715): Train loss 0.512, Val loss 0.741\n",
      "Ep 1 (Step 000720): Train loss 0.341, Val loss 0.751\n",
      "Ep 1 (Step 000725): Train loss 0.615, Val loss 0.763\n",
      "Ep 1 (Step 000730): Train loss 0.642, Val loss 0.775\n",
      "Ep 1 (Step 000735): Train loss 0.507, Val loss 0.777\n",
      "Ep 1 (Step 000740): Train loss 0.475, Val loss 0.779\n",
      "Ep 1 (Step 000745): Train loss 0.497, Val loss 0.778\n",
      "Ep 1 (Step 000750): Train loss 0.500, Val loss 0.771\n",
      "Ep 1 (Step 000755): Train loss 0.662, Val loss 0.781\n",
      "Ep 1 (Step 000760): Train loss 0.812, Val loss 0.792\n",
      "Ep 1 (Step 000765): Train loss 0.414, Val loss 0.806\n",
      "Ep 1 (Step 000770): Train loss 0.639, Val loss 0.804\n",
      "Ep 1 (Step 000775): Train loss 0.529, Val loss 0.789\n",
      "Ep 1 (Step 000780): Train loss 0.594, Val loss 0.779\n",
      "Ep 1 (Step 000785): Train loss 0.415, Val loss 0.770\n",
      "Ep 1 (Step 000790): Train loss 0.731, Val loss 0.770\n",
      "Ep 1 (Step 000795): Train loss 0.529, Val loss 0.774\n",
      "Ep 1 (Step 000800): Train loss 0.645, Val loss 0.777\n",
      "Ep 1 (Step 000805): Train loss 0.660, Val loss 0.775\n",
      "Ep 1 (Step 000810): Train loss 0.612, Val loss 0.769\n",
      "Ep 1 (Step 000815): Train loss 0.447, Val loss 0.760\n",
      "Ep 1 (Step 000820): Train loss 0.796, Val loss 0.755\n",
      "Ep 1 (Step 000825): Train loss 0.563, Val loss 0.759\n",
      "Ep 1 (Step 000830): Train loss 0.511, Val loss 0.764\n",
      "Ep 1 (Step 000835): Train loss 0.567, Val loss 0.767\n",
      "Ep 1 (Step 000840): Train loss 0.471, Val loss 0.767\n",
      "Ep 1 (Step 000845): Train loss 0.427, Val loss 0.761\n",
      "Ep 1 (Step 000850): Train loss 0.522, Val loss 0.763\n",
      "Ep 1 (Step 000855): Train loss 0.467, Val loss 0.760\n",
      "Ep 1 (Step 000860): Train loss 0.676, Val loss 0.761\n",
      "Ep 1 (Step 000865): Train loss 0.472, Val loss 0.765\n",
      "Ep 1 (Step 000870): Train loss 0.459, Val loss 0.772\n",
      "Ep 1 (Step 000875): Train loss 0.574, Val loss 0.790\n",
      "Ep 1 (Step 000880): Train loss 0.445, Val loss 0.774\n",
      "Ep 1 (Step 000885): Train loss 0.485, Val loss 0.754\n",
      "Ep 1 (Step 000890): Train loss 0.689, Val loss 0.740\n",
      "Ep 1 (Step 000895): Train loss 0.452, Val loss 0.724\n",
      "Ep 1 (Step 000900): Train loss 0.444, Val loss 0.711\n",
      "Ep 1 (Step 000905): Train loss 0.450, Val loss 0.706\n",
      "Ep 1 (Step 000910): Train loss 0.558, Val loss 0.698\n",
      "Ep 1 (Step 000915): Train loss 0.528, Val loss 0.680\n",
      "Ep 1 (Step 000920): Train loss 0.512, Val loss 0.680\n",
      "Ep 1 (Step 000925): Train loss 0.471, Val loss 0.679\n",
      "Ep 1 (Step 000930): Train loss 0.559, Val loss 0.680\n",
      "Below is an instruction that describes a task. Write a response that appropriately completes the request.  ### Instruction: Convert the active sentence to passive: 'The chef cooks the meal every day.'  ### Response: The meal every day is cooked by the chef.<|endoftext|>The following is an instruction that describes a task. Write a response that appropriately completes the request.  ### Input: The chef prepares the meal every day.\n",
      "Training completed in 66.15 minutes.\n"
     ]
    }
   ],
   "source": [
    "import time\n",
    "\n",
    "start_time = time.time()\n",
    "\n",
    "torch.manual_seed(123)\n",
    "\n",
    "optimizer = torch.optim.AdamW(model.parameters(), lr=0.00005, weight_decay=0.1)\n",
    "\n",
    "num_epochs = 1\n",
    "\n",
    "train_losses, val_losses, tokens_seen = train_model_simple(\n",
    "    model, train_loader, val_loader, optimizer, device,\n",
    "    num_epochs=num_epochs, eval_freq=5, eval_iter=5,\n",
    "    start_context=format_input(val_data[0]), tokenizer=tokenizer\n",
    ")\n",
    "\n",
    "end_time = time.time()\n",
    "execution_time_minutes = (end_time - start_time) / 60\n",
    "print(f\"Training completed in {execution_time_minutes:.2f} minutes.\")"
   ]
  },
  {
   "cell_type": "code",
   "execution_count": 35,
   "metadata": {},
   "outputs": [],
   "source": [
    "import matplotlib.pyplot as plt\n",
    "from matplotlib.ticker import MaxNLocator\n",
    "\n",
    "\n",
    "def plot_losses(epochs_seen, tokens_seen, train_losses, val_losses):\n",
    "    fig, ax1 = plt.subplots(figsize=(5, 3))\n",
    "\n",
    "    # Plot training and validation loss against epochs\n",
    "    ax1.plot(epochs_seen, train_losses, label=\"Training loss\")\n",
    "    ax1.plot(epochs_seen, val_losses, linestyle=\"-.\", label=\"Validation loss\")\n",
    "    ax1.set_xlabel(\"Epochs\")\n",
    "    ax1.set_ylabel(\"Loss\")\n",
    "    ax1.legend(loc=\"upper right\")\n",
    "    ax1.xaxis.set_major_locator(MaxNLocator(integer=True))  # only show integer labels on x-axis\n",
    "\n",
    "    # Create a second x-axis for tokens seen\n",
    "    ax2 = ax1.twiny()  # Create a second x-axis that shares the same y-axis\n",
    "    ax2.plot(tokens_seen, train_losses, alpha=0)  # Invisible plot for aligning ticks\n",
    "    ax2.set_xlabel(\"Tokens seen\")\n",
    "\n",
    "    fig.tight_layout()  # Adjust layout to make room\n",
    "    plt.savefig(\"loss-plot.pdf\")\n",
    "    plt.show()"
   ]
  },
  {
   "cell_type": "code",
   "execution_count": 36,
   "metadata": {},
   "outputs": [
    {
     "data": {
      "image/png": "[encoded data removed]",
      "text/plain": [
       "<Figure size 500x300 with 2 Axes>"
      ]
     },
     "metadata": {},
     "output_type": "display_data"
    }
   ],
   "source": [
    "epochs_tensor = torch.linspace(0, num_epochs, len(train_losses))\n",
    "plot_losses(epochs_tensor, tokens_seen, train_losses, val_losses)"
   ]
  },
  {
   "cell_type": "code",
   "execution_count": 37,
   "metadata": {},
   "outputs": [
    {
     "name": "stdout",
     "output_type": "stream",
     "text": [
      "Below is an instruction that describes a task. Write a response that appropriately completes the request.\n",
      "\n",
      "### Instruction:\n",
      "Rewrite the sentence using a simile.\n",
      "\n",
      "### Input:\n",
      "The car is very fast.\n",
      "\n",
      "Correct response:\n",
      ">> The car is as fast as lightning.\n",
      "\n",
      "Model response:\n",
      ">> The car is as fast as a bullet.\n",
      "-------------------------------------\n",
      "Below is an instruction that describes a task. Write a response that appropriately completes the request.\n",
      "\n",
      "### Instruction:\n",
      "What type of cloud is typically associated with thunderstorms?\n",
      "\n",
      "Correct response:\n",
      ">> The type of cloud typically associated with thunderstorms is cumulonimbus.\n",
      "\n",
      "Model response:\n",
      ">> The type of cloud typically associated with thunderstorms is a superstorm.\n",
      "-------------------------------------\n",
      "Below is an instruction that describes a task. Write a response that appropriately completes the request.\n",
      "\n",
      "### Instruction:\n",
      "Name the author of 'Pride and Prejudice'.\n",
      "\n",
      "Correct response:\n",
      ">> Jane Austen.\n",
      "\n",
      "Model response:\n",
      ">> The author of 'Pride and Prejudice' is Robert Frost.\n",
      "-------------------------------------\n"
     ]
    }
   ],
   "source": [
    "torch.manual_seed(123)\n",
    "\n",
    "\n",
    "for entry in test_data[:3]:\n",
    "\n",
    "    input_text = format_input(entry)\n",
    "\n",
    "    token_ids = generate(\n",
    "        model=model,\n",
    "        idx=text_to_token_ids(input_text, tokenizer).to(device),\n",
    "        max_new_tokens=256,\n",
    "        context_size=BASE_CONFIG[\"context_length\"],\n",
    "        eos_id=50256\n",
    "    )\n",
    "    generated_text = token_ids_to_text(token_ids, tokenizer)\n",
    "    response_text = (\n",
    "        generated_text[len(input_text):]\n",
    "        .replace(\"### Response:\", \"\")\n",
    "        .strip()\n",
    ")\n",
    "\n",
    "    print(input_text)\n",
    "    print(f\"\\nCorrect response:\\n>> {entry['output']}\")\n",
    "    print(f\"\\nModel response:\\n>> {response_text.strip()}\")\n",
    "    print(\"-------------------------------------\")"
   ]
  },
  {
   "cell_type": "code",
   "execution_count": null,
   "metadata": {},
   "outputs": [],
   "source": []
  }
 ],
 "metadata": {
  "kernelspec": {
   "display_name": "venv",
   "language": "python",
   "name": "python3"
  },
  "language_info": {
   "codemirror_mode": {
    "name": "ipython",
    "version": 3
   },
   "file_extension": ".py",
   "mimetype": "text/x-python",
   "name": "python",
   "nbconvert_exporter": "python",
   "pygments_lexer": "ipython3",
   "version": "3.12.3"
  }
 },
 "nbformat": 4,
 "nbformat_minor": 2
}
